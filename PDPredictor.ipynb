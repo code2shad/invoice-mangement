{
 "cells": [
  {
   "cell_type": "code",
   "execution_count": 468,
   "id": "3e40e42c",
   "metadata": {},
   "outputs": [],
   "source": [
    "#necessary packages are imported\n",
    "import pandas as pd\n",
    "import numpy as np\n",
    "import  matplotlib.pyplot as plt\n",
    "import seaborn\n",
    "from sklearn.model_selection import train_test_split\n",
    "import seaborn as sns\n",
    "from sklearn.feature_selection import VarianceThreshold\n",
    "from sklearn.preprocessing import LabelEncoder\n",
    "import warnings\n",
    "warnings.filterwarnings(\"ignore\")\n",
    "\n",
    "# different algorithms are imported\n",
    "import xgboost as xgb\n",
    "from sklearn.ensemble import RandomForestRegressor\n",
    "from sklearn.tree import DecisionTreeRegressor\n",
    "from sklearn.linear_model import LinearRegression\n",
    "\n",
    "# for checking acuracy\n",
    "from sklearn.metrics import mean_squared_error # for mse and rmse if sqaured = false it gives rmse"
   ]
  },
  {
   "cell_type": "code",
   "execution_count": 469,
   "id": "b22b2645",
   "metadata": {},
   "outputs": [],
   "source": [
    "df = pd.read_csv(\"H2HBABBA3172.csv\")\n",
    "#reading the data into csv file"
   ]
  },
  {
   "cell_type": "markdown",
   "id": "def7dae8",
   "metadata": {},
   "source": [
    "Go through the data manually"
   ]
  },
  {
   "cell_type": "code",
   "execution_count": 470,
   "id": "27c4ea91",
   "metadata": {},
   "outputs": [
    {
     "data": {
      "text/html": [
       "<div>\n",
       "<style scoped>\n",
       "    .dataframe tbody tr th:only-of-type {\n",
       "        vertical-align: middle;\n",
       "    }\n",
       "\n",
       "    .dataframe tbody tr th {\n",
       "        vertical-align: top;\n",
       "    }\n",
       "\n",
       "    .dataframe thead th {\n",
       "        text-align: right;\n",
       "    }\n",
       "</style>\n",
       "<table border=\"1\" class=\"dataframe\">\n",
       "  <thead>\n",
       "    <tr style=\"text-align: right;\">\n",
       "      <th></th>\n",
       "      <th>business_code</th>\n",
       "      <th>cust_number</th>\n",
       "      <th>name_customer</th>\n",
       "      <th>clear_date</th>\n",
       "      <th>buisness_year</th>\n",
       "      <th>doc_id</th>\n",
       "      <th>posting_date</th>\n",
       "      <th>document_create_date</th>\n",
       "      <th>document_create_date.1</th>\n",
       "      <th>due_in_date</th>\n",
       "      <th>invoice_currency</th>\n",
       "      <th>document type</th>\n",
       "      <th>posting_id</th>\n",
       "      <th>area_business</th>\n",
       "      <th>total_open_amount</th>\n",
       "      <th>baseline_create_date</th>\n",
       "      <th>cust_payment_terms</th>\n",
       "      <th>invoice_id</th>\n",
       "      <th>isOpen</th>\n",
       "    </tr>\n",
       "  </thead>\n",
       "  <tbody>\n",
       "    <tr>\n",
       "      <th>0</th>\n",
       "      <td>U001</td>\n",
       "      <td>0200762301</td>\n",
       "      <td>C&amp;S WH in</td>\n",
       "      <td>2019-10-10 00:00:00</td>\n",
       "      <td>2019.0</td>\n",
       "      <td>1.929927e+09</td>\n",
       "      <td>2019-09-25</td>\n",
       "      <td>20190925</td>\n",
       "      <td>20190925</td>\n",
       "      <td>20191010.0</td>\n",
       "      <td>USD</td>\n",
       "      <td>RV</td>\n",
       "      <td>1.0</td>\n",
       "      <td>NaN</td>\n",
       "      <td>130157.43</td>\n",
       "      <td>20190925.0</td>\n",
       "      <td>NAC6</td>\n",
       "      <td>1.929927e+09</td>\n",
       "      <td>0</td>\n",
       "    </tr>\n",
       "    <tr>\n",
       "      <th>1</th>\n",
       "      <td>U001</td>\n",
       "      <td>0200707822</td>\n",
       "      <td>PUBLI co</td>\n",
       "      <td>2019-08-23 00:00:00</td>\n",
       "      <td>2019.0</td>\n",
       "      <td>1.929724e+09</td>\n",
       "      <td>2019-08-08</td>\n",
       "      <td>20190808</td>\n",
       "      <td>20190808</td>\n",
       "      <td>20190823.0</td>\n",
       "      <td>USD</td>\n",
       "      <td>RV</td>\n",
       "      <td>1.0</td>\n",
       "      <td>NaN</td>\n",
       "      <td>98583.21</td>\n",
       "      <td>20190808.0</td>\n",
       "      <td>NAA8</td>\n",
       "      <td>1.929724e+09</td>\n",
       "      <td>0</td>\n",
       "    </tr>\n",
       "    <tr>\n",
       "      <th>2</th>\n",
       "      <td>U001</td>\n",
       "      <td>0200744019</td>\n",
       "      <td>TARG co</td>\n",
       "      <td>2019-06-27 00:00:00</td>\n",
       "      <td>2019.0</td>\n",
       "      <td>1.929465e+09</td>\n",
       "      <td>2019-06-12</td>\n",
       "      <td>20190610</td>\n",
       "      <td>20190612</td>\n",
       "      <td>20190627.0</td>\n",
       "      <td>USD</td>\n",
       "      <td>RV</td>\n",
       "      <td>1.0</td>\n",
       "      <td>NaN</td>\n",
       "      <td>19124.26</td>\n",
       "      <td>20190612.0</td>\n",
       "      <td>NAA8</td>\n",
       "      <td>1.929465e+09</td>\n",
       "      <td>0</td>\n",
       "    </tr>\n",
       "    <tr>\n",
       "      <th>3</th>\n",
       "      <td>U001</td>\n",
       "      <td>200794332</td>\n",
       "      <td>COST us</td>\n",
       "      <td>NaN</td>\n",
       "      <td>2020.0</td>\n",
       "      <td>1.930671e+09</td>\n",
       "      <td>2020-03-20</td>\n",
       "      <td>20200319</td>\n",
       "      <td>20200320</td>\n",
       "      <td>20200404.0</td>\n",
       "      <td>USD</td>\n",
       "      <td>RV</td>\n",
       "      <td>1.0</td>\n",
       "      <td>NaN</td>\n",
       "      <td>4427.22</td>\n",
       "      <td>20200320.0</td>\n",
       "      <td>NAAX</td>\n",
       "      <td>1.930671e+09</td>\n",
       "      <td>1</td>\n",
       "    </tr>\n",
       "    <tr>\n",
       "      <th>4</th>\n",
       "      <td>U001</td>\n",
       "      <td>0200722444</td>\n",
       "      <td>PERFOR co</td>\n",
       "      <td>2020-02-05 00:00:00</td>\n",
       "      <td>2020.0</td>\n",
       "      <td>1.930397e+09</td>\n",
       "      <td>2020-01-14</td>\n",
       "      <td>20200114</td>\n",
       "      <td>20200114</td>\n",
       "      <td>20200129.0</td>\n",
       "      <td>USD</td>\n",
       "      <td>RV</td>\n",
       "      <td>1.0</td>\n",
       "      <td>NaN</td>\n",
       "      <td>6826.15</td>\n",
       "      <td>20200114.0</td>\n",
       "      <td>NAA8</td>\n",
       "      <td>1.930397e+09</td>\n",
       "      <td>0</td>\n",
       "    </tr>\n",
       "  </tbody>\n",
       "</table>\n",
       "</div>"
      ],
      "text/plain": [
       "  business_code cust_number name_customer           clear_date  buisness_year  \\\n",
       "0          U001  0200762301     C&S WH in  2019-10-10 00:00:00         2019.0   \n",
       "1          U001  0200707822      PUBLI co  2019-08-23 00:00:00         2019.0   \n",
       "2          U001  0200744019       TARG co  2019-06-27 00:00:00         2019.0   \n",
       "3          U001   200794332       COST us                  NaN         2020.0   \n",
       "4          U001  0200722444     PERFOR co  2020-02-05 00:00:00         2020.0   \n",
       "\n",
       "         doc_id posting_date  document_create_date  document_create_date.1  \\\n",
       "0  1.929927e+09   2019-09-25              20190925                20190925   \n",
       "1  1.929724e+09   2019-08-08              20190808                20190808   \n",
       "2  1.929465e+09   2019-06-12              20190610                20190612   \n",
       "3  1.930671e+09   2020-03-20              20200319                20200320   \n",
       "4  1.930397e+09   2020-01-14              20200114                20200114   \n",
       "\n",
       "   due_in_date invoice_currency document type  posting_id  area_business  \\\n",
       "0   20191010.0              USD            RV         1.0            NaN   \n",
       "1   20190823.0              USD            RV         1.0            NaN   \n",
       "2   20190627.0              USD            RV         1.0            NaN   \n",
       "3   20200404.0              USD            RV         1.0            NaN   \n",
       "4   20200129.0              USD            RV         1.0            NaN   \n",
       "\n",
       "   total_open_amount  baseline_create_date cust_payment_terms    invoice_id  \\\n",
       "0          130157.43            20190925.0               NAC6  1.929927e+09   \n",
       "1           98583.21            20190808.0               NAA8  1.929724e+09   \n",
       "2           19124.26            20190612.0               NAA8  1.929465e+09   \n",
       "3            4427.22            20200320.0               NAAX  1.930671e+09   \n",
       "4            6826.15            20200114.0               NAA8  1.930397e+09   \n",
       "\n",
       "   isOpen  \n",
       "0       0  \n",
       "1       0  \n",
       "2       0  \n",
       "3       1  \n",
       "4       0  "
      ]
     },
     "execution_count": 470,
     "metadata": {},
     "output_type": "execute_result"
    }
   ],
   "source": [
    "df.head(5)"
   ]
  },
  {
   "cell_type": "code",
   "execution_count": 471,
   "id": "99fd14ac",
   "metadata": {},
   "outputs": [
    {
     "name": "stdout",
     "output_type": "stream",
     "text": [
      "<class 'pandas.core.frame.DataFrame'>\n",
      "RangeIndex: 50000 entries, 0 to 49999\n",
      "Data columns (total 19 columns):\n",
      " #   Column                  Non-Null Count  Dtype  \n",
      "---  ------                  --------------  -----  \n",
      " 0   business_code           50000 non-null  object \n",
      " 1   cust_number             50000 non-null  object \n",
      " 2   name_customer           50000 non-null  object \n",
      " 3   clear_date              40000 non-null  object \n",
      " 4   buisness_year           50000 non-null  float64\n",
      " 5   doc_id                  50000 non-null  float64\n",
      " 6   posting_date            50000 non-null  object \n",
      " 7   document_create_date    50000 non-null  int64  \n",
      " 8   document_create_date.1  50000 non-null  int64  \n",
      " 9   due_in_date             50000 non-null  float64\n",
      " 10  invoice_currency        50000 non-null  object \n",
      " 11  document type           50000 non-null  object \n",
      " 12  posting_id              50000 non-null  float64\n",
      " 13  area_business           0 non-null      float64\n",
      " 14  total_open_amount       50000 non-null  float64\n",
      " 15  baseline_create_date    50000 non-null  float64\n",
      " 16  cust_payment_terms      50000 non-null  object \n",
      " 17  invoice_id              49999 non-null  float64\n",
      " 18  isOpen                  50000 non-null  int64  \n",
      "dtypes: float64(8), int64(3), object(8)\n",
      "memory usage: 7.2+ MB\n"
     ]
    }
   ],
   "source": [
    "df.info()"
   ]
  },
  {
   "cell_type": "code",
   "execution_count": 472,
   "id": "220885a9",
   "metadata": {},
   "outputs": [
    {
     "data": {
      "text/plain": [
       "(50000, 19)"
      ]
     },
     "execution_count": 472,
     "metadata": {},
     "output_type": "execute_result"
    }
   ],
   "source": [
    "df.shape"
   ]
  },
  {
   "cell_type": "code",
   "execution_count": 473,
   "id": "11bba0c7",
   "metadata": {},
   "outputs": [
    {
     "data": {
      "text/html": [
       "<div>\n",
       "<style scoped>\n",
       "    .dataframe tbody tr th:only-of-type {\n",
       "        vertical-align: middle;\n",
       "    }\n",
       "\n",
       "    .dataframe tbody tr th {\n",
       "        vertical-align: top;\n",
       "    }\n",
       "\n",
       "    .dataframe thead th {\n",
       "        text-align: right;\n",
       "    }\n",
       "</style>\n",
       "<table border=\"1\" class=\"dataframe\">\n",
       "  <thead>\n",
       "    <tr style=\"text-align: right;\">\n",
       "      <th></th>\n",
       "      <th>Counts</th>\n",
       "    </tr>\n",
       "  </thead>\n",
       "  <tbody>\n",
       "    <tr>\n",
       "      <th>business_code</th>\n",
       "      <td>6</td>\n",
       "    </tr>\n",
       "    <tr>\n",
       "      <th>cust_number</th>\n",
       "      <td>1402</td>\n",
       "    </tr>\n",
       "    <tr>\n",
       "      <th>name_customer</th>\n",
       "      <td>4192</td>\n",
       "    </tr>\n",
       "    <tr>\n",
       "      <th>clear_date</th>\n",
       "      <td>401</td>\n",
       "    </tr>\n",
       "    <tr>\n",
       "      <th>buisness_year</th>\n",
       "      <td>2</td>\n",
       "    </tr>\n",
       "    <tr>\n",
       "      <th>doc_id</th>\n",
       "      <td>48798</td>\n",
       "    </tr>\n",
       "    <tr>\n",
       "      <th>posting_date</th>\n",
       "      <td>506</td>\n",
       "    </tr>\n",
       "    <tr>\n",
       "      <th>document_create_date</th>\n",
       "      <td>509</td>\n",
       "    </tr>\n",
       "    <tr>\n",
       "      <th>document_create_date.1</th>\n",
       "      <td>506</td>\n",
       "    </tr>\n",
       "    <tr>\n",
       "      <th>due_in_date</th>\n",
       "      <td>546</td>\n",
       "    </tr>\n",
       "    <tr>\n",
       "      <th>invoice_currency</th>\n",
       "      <td>2</td>\n",
       "    </tr>\n",
       "    <tr>\n",
       "      <th>document type</th>\n",
       "      <td>2</td>\n",
       "    </tr>\n",
       "    <tr>\n",
       "      <th>posting_id</th>\n",
       "      <td>1</td>\n",
       "    </tr>\n",
       "    <tr>\n",
       "      <th>area_business</th>\n",
       "      <td>0</td>\n",
       "    </tr>\n",
       "    <tr>\n",
       "      <th>total_open_amount</th>\n",
       "      <td>44291</td>\n",
       "    </tr>\n",
       "    <tr>\n",
       "      <th>baseline_create_date</th>\n",
       "      <td>506</td>\n",
       "    </tr>\n",
       "    <tr>\n",
       "      <th>cust_payment_terms</th>\n",
       "      <td>71</td>\n",
       "    </tr>\n",
       "    <tr>\n",
       "      <th>invoice_id</th>\n",
       "      <td>48797</td>\n",
       "    </tr>\n",
       "    <tr>\n",
       "      <th>isOpen</th>\n",
       "      <td>2</td>\n",
       "    </tr>\n",
       "  </tbody>\n",
       "</table>\n",
       "</div>"
      ],
      "text/plain": [
       "                        Counts\n",
       "business_code                6\n",
       "cust_number               1402\n",
       "name_customer             4192\n",
       "clear_date                 401\n",
       "buisness_year                2\n",
       "doc_id                   48798\n",
       "posting_date               506\n",
       "document_create_date       509\n",
       "document_create_date.1     506\n",
       "due_in_date                546\n",
       "invoice_currency             2\n",
       "document type                2\n",
       "posting_id                   1\n",
       "area_business                0\n",
       "total_open_amount        44291\n",
       "baseline_create_date       506\n",
       "cust_payment_terms          71\n",
       "invoice_id               48797\n",
       "isOpen                       2"
      ]
     },
     "execution_count": 473,
     "metadata": {},
     "output_type": "execute_result"
    }
   ],
   "source": [
    "# count the unique values and make a data frame with counts as attributes name\n",
    "coun_t  = df.nunique().to_frame(name = 'Counts')\n",
    "coun_t"
   ]
  },
  {
   "cell_type": "code",
   "execution_count": 474,
   "id": "79136151",
   "metadata": {},
   "outputs": [
    {
     "data": {
      "text/html": [
       "<div>\n",
       "<style scoped>\n",
       "    .dataframe tbody tr th:only-of-type {\n",
       "        vertical-align: middle;\n",
       "    }\n",
       "\n",
       "    .dataframe tbody tr th {\n",
       "        vertical-align: top;\n",
       "    }\n",
       "\n",
       "    .dataframe thead th {\n",
       "        text-align: right;\n",
       "    }\n",
       "</style>\n",
       "<table border=\"1\" class=\"dataframe\">\n",
       "  <thead>\n",
       "    <tr style=\"text-align: right;\">\n",
       "      <th></th>\n",
       "      <th>buisness_year</th>\n",
       "      <th>doc_id</th>\n",
       "      <th>document_create_date</th>\n",
       "      <th>document_create_date.1</th>\n",
       "      <th>due_in_date</th>\n",
       "      <th>posting_id</th>\n",
       "      <th>area_business</th>\n",
       "      <th>total_open_amount</th>\n",
       "      <th>baseline_create_date</th>\n",
       "      <th>invoice_id</th>\n",
       "      <th>isOpen</th>\n",
       "    </tr>\n",
       "  </thead>\n",
       "  <tbody>\n",
       "    <tr>\n",
       "      <th>count</th>\n",
       "      <td>50000.00000</td>\n",
       "      <td>5.000000e+04</td>\n",
       "      <td>5.000000e+04</td>\n",
       "      <td>5.000000e+04</td>\n",
       "      <td>5.000000e+04</td>\n",
       "      <td>50000.0</td>\n",
       "      <td>0.0</td>\n",
       "      <td>50000.000000</td>\n",
       "      <td>5.000000e+04</td>\n",
       "      <td>4.999900e+04</td>\n",
       "      <td>50000.000000</td>\n",
       "    </tr>\n",
       "    <tr>\n",
       "      <th>mean</th>\n",
       "      <td>2019.30668</td>\n",
       "      <td>2.011547e+09</td>\n",
       "      <td>2.019352e+07</td>\n",
       "      <td>2.019354e+07</td>\n",
       "      <td>2.019369e+07</td>\n",
       "      <td>1.0</td>\n",
       "      <td>NaN</td>\n",
       "      <td>32451.026067</td>\n",
       "      <td>2.019354e+07</td>\n",
       "      <td>2.011397e+09</td>\n",
       "      <td>0.200000</td>\n",
       "    </tr>\n",
       "    <tr>\n",
       "      <th>std</th>\n",
       "      <td>0.46112</td>\n",
       "      <td>2.786978e+08</td>\n",
       "      <td>4.494766e+03</td>\n",
       "      <td>4.481336e+03</td>\n",
       "      <td>4.474681e+03</td>\n",
       "      <td>0.0</td>\n",
       "      <td>NaN</td>\n",
       "      <td>39070.523070</td>\n",
       "      <td>4.480899e+03</td>\n",
       "      <td>2.766811e+08</td>\n",
       "      <td>0.400004</td>\n",
       "    </tr>\n",
       "    <tr>\n",
       "      <th>min</th>\n",
       "      <td>2019.00000</td>\n",
       "      <td>1.928502e+09</td>\n",
       "      <td>2.018123e+07</td>\n",
       "      <td>2.018123e+07</td>\n",
       "      <td>2.018122e+07</td>\n",
       "      <td>1.0</td>\n",
       "      <td>NaN</td>\n",
       "      <td>0.650000</td>\n",
       "      <td>2.018121e+07</td>\n",
       "      <td>1.928502e+09</td>\n",
       "      <td>0.000000</td>\n",
       "    </tr>\n",
       "    <tr>\n",
       "      <th>25%</th>\n",
       "      <td>2019.00000</td>\n",
       "      <td>1.929342e+09</td>\n",
       "      <td>2.019051e+07</td>\n",
       "      <td>2.019051e+07</td>\n",
       "      <td>2.019052e+07</td>\n",
       "      <td>1.0</td>\n",
       "      <td>NaN</td>\n",
       "      <td>4977.587500</td>\n",
       "      <td>2.019051e+07</td>\n",
       "      <td>1.929342e+09</td>\n",
       "      <td>0.000000</td>\n",
       "    </tr>\n",
       "    <tr>\n",
       "      <th>50%</th>\n",
       "      <td>2019.00000</td>\n",
       "      <td>1.929968e+09</td>\n",
       "      <td>2.019091e+07</td>\n",
       "      <td>2.019091e+07</td>\n",
       "      <td>2.019093e+07</td>\n",
       "      <td>1.0</td>\n",
       "      <td>NaN</td>\n",
       "      <td>17596.205000</td>\n",
       "      <td>2.019091e+07</td>\n",
       "      <td>1.929968e+09</td>\n",
       "      <td>0.000000</td>\n",
       "    </tr>\n",
       "    <tr>\n",
       "      <th>75%</th>\n",
       "      <td>2020.00000</td>\n",
       "      <td>1.930619e+09</td>\n",
       "      <td>2.020013e+07</td>\n",
       "      <td>2.020013e+07</td>\n",
       "      <td>2.020022e+07</td>\n",
       "      <td>1.0</td>\n",
       "      <td>NaN</td>\n",
       "      <td>47349.122500</td>\n",
       "      <td>2.020013e+07</td>\n",
       "      <td>1.930619e+09</td>\n",
       "      <td>0.000000</td>\n",
       "    </tr>\n",
       "    <tr>\n",
       "      <th>max</th>\n",
       "      <td>2020.00000</td>\n",
       "      <td>9.500000e+09</td>\n",
       "      <td>2.020052e+07</td>\n",
       "      <td>2.020052e+07</td>\n",
       "      <td>2.020071e+07</td>\n",
       "      <td>1.0</td>\n",
       "      <td>NaN</td>\n",
       "      <td>436544.160000</td>\n",
       "      <td>2.020052e+07</td>\n",
       "      <td>2.960636e+09</td>\n",
       "      <td>1.000000</td>\n",
       "    </tr>\n",
       "  </tbody>\n",
       "</table>\n",
       "</div>"
      ],
      "text/plain": [
       "       buisness_year        doc_id  document_create_date  \\\n",
       "count    50000.00000  5.000000e+04          5.000000e+04   \n",
       "mean      2019.30668  2.011547e+09          2.019352e+07   \n",
       "std          0.46112  2.786978e+08          4.494766e+03   \n",
       "min       2019.00000  1.928502e+09          2.018123e+07   \n",
       "25%       2019.00000  1.929342e+09          2.019051e+07   \n",
       "50%       2019.00000  1.929968e+09          2.019091e+07   \n",
       "75%       2020.00000  1.930619e+09          2.020013e+07   \n",
       "max       2020.00000  9.500000e+09          2.020052e+07   \n",
       "\n",
       "       document_create_date.1   due_in_date  posting_id  area_business  \\\n",
       "count            5.000000e+04  5.000000e+04     50000.0            0.0   \n",
       "mean             2.019354e+07  2.019369e+07         1.0            NaN   \n",
       "std              4.481336e+03  4.474681e+03         0.0            NaN   \n",
       "min              2.018123e+07  2.018122e+07         1.0            NaN   \n",
       "25%              2.019051e+07  2.019052e+07         1.0            NaN   \n",
       "50%              2.019091e+07  2.019093e+07         1.0            NaN   \n",
       "75%              2.020013e+07  2.020022e+07         1.0            NaN   \n",
       "max              2.020052e+07  2.020071e+07         1.0            NaN   \n",
       "\n",
       "       total_open_amount  baseline_create_date    invoice_id        isOpen  \n",
       "count       50000.000000          5.000000e+04  4.999900e+04  50000.000000  \n",
       "mean        32451.026067          2.019354e+07  2.011397e+09      0.200000  \n",
       "std         39070.523070          4.480899e+03  2.766811e+08      0.400004  \n",
       "min             0.650000          2.018121e+07  1.928502e+09      0.000000  \n",
       "25%          4977.587500          2.019051e+07  1.929342e+09      0.000000  \n",
       "50%         17596.205000          2.019091e+07  1.929968e+09      0.000000  \n",
       "75%         47349.122500          2.020013e+07  1.930619e+09      0.000000  \n",
       "max        436544.160000          2.020052e+07  2.960636e+09      1.000000  "
      ]
     },
     "execution_count": 474,
     "metadata": {},
     "output_type": "execute_result"
    }
   ],
   "source": [
    "df.describe()"
   ]
  },
  {
   "cell_type": "code",
   "execution_count": 475,
   "id": "8ba85c2e",
   "metadata": {},
   "outputs": [
    {
     "data": {
      "text/html": [
       "<div>\n",
       "<style scoped>\n",
       "    .dataframe tbody tr th:only-of-type {\n",
       "        vertical-align: middle;\n",
       "    }\n",
       "\n",
       "    .dataframe tbody tr th {\n",
       "        vertical-align: top;\n",
       "    }\n",
       "\n",
       "    .dataframe thead th {\n",
       "        text-align: right;\n",
       "    }\n",
       "</style>\n",
       "<table border=\"1\" class=\"dataframe\">\n",
       "  <thead>\n",
       "    <tr style=\"text-align: right;\">\n",
       "      <th></th>\n",
       "      <th>business_code</th>\n",
       "      <th>cust_number</th>\n",
       "      <th>name_customer</th>\n",
       "      <th>clear_date</th>\n",
       "      <th>buisness_year</th>\n",
       "      <th>doc_id</th>\n",
       "      <th>posting_date</th>\n",
       "      <th>document_create_date</th>\n",
       "      <th>document_create_date.1</th>\n",
       "      <th>due_in_date</th>\n",
       "      <th>invoice_currency</th>\n",
       "      <th>document type</th>\n",
       "      <th>posting_id</th>\n",
       "      <th>area_business</th>\n",
       "      <th>total_open_amount</th>\n",
       "      <th>baseline_create_date</th>\n",
       "      <th>cust_payment_terms</th>\n",
       "      <th>invoice_id</th>\n",
       "      <th>isOpen</th>\n",
       "    </tr>\n",
       "  </thead>\n",
       "  <tbody>\n",
       "    <tr>\n",
       "      <th>0</th>\n",
       "      <td>U001</td>\n",
       "      <td>0200762301</td>\n",
       "      <td>C&amp;S WH in</td>\n",
       "      <td>2019-10-10 00:00:00</td>\n",
       "      <td>2019.0</td>\n",
       "      <td>1.929927e+09</td>\n",
       "      <td>2019-09-25</td>\n",
       "      <td>20190925</td>\n",
       "      <td>20190925</td>\n",
       "      <td>20191010.0</td>\n",
       "      <td>USD</td>\n",
       "      <td>RV</td>\n",
       "      <td>1.0</td>\n",
       "      <td>NaN</td>\n",
       "      <td>130157.43</td>\n",
       "      <td>20190925.0</td>\n",
       "      <td>NAC6</td>\n",
       "      <td>1.929927e+09</td>\n",
       "      <td>0</td>\n",
       "    </tr>\n",
       "    <tr>\n",
       "      <th>1</th>\n",
       "      <td>U001</td>\n",
       "      <td>0200707822</td>\n",
       "      <td>PUBLI co</td>\n",
       "      <td>2019-08-23 00:00:00</td>\n",
       "      <td>2019.0</td>\n",
       "      <td>1.929724e+09</td>\n",
       "      <td>2019-08-08</td>\n",
       "      <td>20190808</td>\n",
       "      <td>20190808</td>\n",
       "      <td>20190823.0</td>\n",
       "      <td>USD</td>\n",
       "      <td>RV</td>\n",
       "      <td>1.0</td>\n",
       "      <td>NaN</td>\n",
       "      <td>98583.21</td>\n",
       "      <td>20190808.0</td>\n",
       "      <td>NAA8</td>\n",
       "      <td>1.929724e+09</td>\n",
       "      <td>0</td>\n",
       "    </tr>\n",
       "    <tr>\n",
       "      <th>2</th>\n",
       "      <td>U001</td>\n",
       "      <td>0200744019</td>\n",
       "      <td>TARG co</td>\n",
       "      <td>2019-06-27 00:00:00</td>\n",
       "      <td>2019.0</td>\n",
       "      <td>1.929465e+09</td>\n",
       "      <td>2019-06-12</td>\n",
       "      <td>20190610</td>\n",
       "      <td>20190612</td>\n",
       "      <td>20190627.0</td>\n",
       "      <td>USD</td>\n",
       "      <td>RV</td>\n",
       "      <td>1.0</td>\n",
       "      <td>NaN</td>\n",
       "      <td>19124.26</td>\n",
       "      <td>20190612.0</td>\n",
       "      <td>NAA8</td>\n",
       "      <td>1.929465e+09</td>\n",
       "      <td>0</td>\n",
       "    </tr>\n",
       "    <tr>\n",
       "      <th>3</th>\n",
       "      <td>U001</td>\n",
       "      <td>200794332</td>\n",
       "      <td>COST us</td>\n",
       "      <td>NaN</td>\n",
       "      <td>2020.0</td>\n",
       "      <td>1.930671e+09</td>\n",
       "      <td>2020-03-20</td>\n",
       "      <td>20200319</td>\n",
       "      <td>20200320</td>\n",
       "      <td>20200404.0</td>\n",
       "      <td>USD</td>\n",
       "      <td>RV</td>\n",
       "      <td>1.0</td>\n",
       "      <td>NaN</td>\n",
       "      <td>4427.22</td>\n",
       "      <td>20200320.0</td>\n",
       "      <td>NAAX</td>\n",
       "      <td>1.930671e+09</td>\n",
       "      <td>1</td>\n",
       "    </tr>\n",
       "    <tr>\n",
       "      <th>4</th>\n",
       "      <td>U001</td>\n",
       "      <td>0200722444</td>\n",
       "      <td>PERFOR co</td>\n",
       "      <td>2020-02-05 00:00:00</td>\n",
       "      <td>2020.0</td>\n",
       "      <td>1.930397e+09</td>\n",
       "      <td>2020-01-14</td>\n",
       "      <td>20200114</td>\n",
       "      <td>20200114</td>\n",
       "      <td>20200129.0</td>\n",
       "      <td>USD</td>\n",
       "      <td>RV</td>\n",
       "      <td>1.0</td>\n",
       "      <td>NaN</td>\n",
       "      <td>6826.15</td>\n",
       "      <td>20200114.0</td>\n",
       "      <td>NAA8</td>\n",
       "      <td>1.930397e+09</td>\n",
       "      <td>0</td>\n",
       "    </tr>\n",
       "    <tr>\n",
       "      <th>...</th>\n",
       "      <td>...</td>\n",
       "      <td>...</td>\n",
       "      <td>...</td>\n",
       "      <td>...</td>\n",
       "      <td>...</td>\n",
       "      <td>...</td>\n",
       "      <td>...</td>\n",
       "      <td>...</td>\n",
       "      <td>...</td>\n",
       "      <td>...</td>\n",
       "      <td>...</td>\n",
       "      <td>...</td>\n",
       "      <td>...</td>\n",
       "      <td>...</td>\n",
       "      <td>...</td>\n",
       "      <td>...</td>\n",
       "      <td>...</td>\n",
       "      <td>...</td>\n",
       "      <td>...</td>\n",
       "    </tr>\n",
       "    <tr>\n",
       "      <th>49995</th>\n",
       "      <td>U001</td>\n",
       "      <td>0200780383</td>\n",
       "      <td>MEIJ associates</td>\n",
       "      <td>2019-05-22 00:00:00</td>\n",
       "      <td>2019.0</td>\n",
       "      <td>1.929270e+09</td>\n",
       "      <td>2019-05-06</td>\n",
       "      <td>20190506</td>\n",
       "      <td>20190506</td>\n",
       "      <td>20190521.0</td>\n",
       "      <td>USD</td>\n",
       "      <td>RV</td>\n",
       "      <td>1.0</td>\n",
       "      <td>NaN</td>\n",
       "      <td>15768.12</td>\n",
       "      <td>20190506.0</td>\n",
       "      <td>NAA8</td>\n",
       "      <td>1.929270e+09</td>\n",
       "      <td>0</td>\n",
       "    </tr>\n",
       "    <tr>\n",
       "      <th>49996</th>\n",
       "      <td>U001</td>\n",
       "      <td>0200772595</td>\n",
       "      <td>SAFEW corporation</td>\n",
       "      <td>2020-02-25 00:00:00</td>\n",
       "      <td>2020.0</td>\n",
       "      <td>1.930509e+09</td>\n",
       "      <td>2020-02-10</td>\n",
       "      <td>20200210</td>\n",
       "      <td>20200210</td>\n",
       "      <td>20200225.0</td>\n",
       "      <td>USD</td>\n",
       "      <td>RV</td>\n",
       "      <td>1.0</td>\n",
       "      <td>NaN</td>\n",
       "      <td>66996.33</td>\n",
       "      <td>20200210.0</td>\n",
       "      <td>NAA8</td>\n",
       "      <td>1.930509e+09</td>\n",
       "      <td>0</td>\n",
       "    </tr>\n",
       "    <tr>\n",
       "      <th>49997</th>\n",
       "      <td>U001</td>\n",
       "      <td>0200148860</td>\n",
       "      <td>DOLLA co</td>\n",
       "      <td>2019-04-25 00:00:00</td>\n",
       "      <td>2019.0</td>\n",
       "      <td>1.929110e+09</td>\n",
       "      <td>2019-04-10</td>\n",
       "      <td>20190409</td>\n",
       "      <td>20190410</td>\n",
       "      <td>20190425.0</td>\n",
       "      <td>USD</td>\n",
       "      <td>RV</td>\n",
       "      <td>1.0</td>\n",
       "      <td>NaN</td>\n",
       "      <td>56288.34</td>\n",
       "      <td>20190410.0</td>\n",
       "      <td>NAA8</td>\n",
       "      <td>1.929110e+09</td>\n",
       "      <td>0</td>\n",
       "    </tr>\n",
       "    <tr>\n",
       "      <th>49998</th>\n",
       "      <td>CA02</td>\n",
       "      <td>0140105847</td>\n",
       "      <td>GORDON F co</td>\n",
       "      <td>2019-05-13 00:00:00</td>\n",
       "      <td>2019.0</td>\n",
       "      <td>2.960545e+09</td>\n",
       "      <td>2019-04-30</td>\n",
       "      <td>20190430</td>\n",
       "      <td>20190430</td>\n",
       "      <td>20190511.0</td>\n",
       "      <td>CAD</td>\n",
       "      <td>RV</td>\n",
       "      <td>1.0</td>\n",
       "      <td>NaN</td>\n",
       "      <td>32927.76</td>\n",
       "      <td>20190501.0</td>\n",
       "      <td>CA10</td>\n",
       "      <td>2.960545e+09</td>\n",
       "      <td>0</td>\n",
       "    </tr>\n",
       "    <tr>\n",
       "      <th>49999</th>\n",
       "      <td>CA02</td>\n",
       "      <td>0140104340</td>\n",
       "      <td>COLABOR  corp</td>\n",
       "      <td>2019-06-27 00:00:00</td>\n",
       "      <td>2019.0</td>\n",
       "      <td>2.960554e+09</td>\n",
       "      <td>2019-06-12</td>\n",
       "      <td>20190612</td>\n",
       "      <td>20190612</td>\n",
       "      <td>20190623.0</td>\n",
       "      <td>CAD</td>\n",
       "      <td>RV</td>\n",
       "      <td>1.0</td>\n",
       "      <td>NaN</td>\n",
       "      <td>44425.41</td>\n",
       "      <td>20190613.0</td>\n",
       "      <td>CA10</td>\n",
       "      <td>2.960554e+09</td>\n",
       "      <td>0</td>\n",
       "    </tr>\n",
       "  </tbody>\n",
       "</table>\n",
       "<p>50000 rows × 19 columns</p>\n",
       "</div>"
      ],
      "text/plain": [
       "      business_code cust_number      name_customer           clear_date  \\\n",
       "0              U001  0200762301          C&S WH in  2019-10-10 00:00:00   \n",
       "1              U001  0200707822           PUBLI co  2019-08-23 00:00:00   \n",
       "2              U001  0200744019            TARG co  2019-06-27 00:00:00   \n",
       "3              U001   200794332            COST us                  NaN   \n",
       "4              U001  0200722444          PERFOR co  2020-02-05 00:00:00   \n",
       "...             ...         ...                ...                  ...   \n",
       "49995          U001  0200780383    MEIJ associates  2019-05-22 00:00:00   \n",
       "49996          U001  0200772595  SAFEW corporation  2020-02-25 00:00:00   \n",
       "49997          U001  0200148860           DOLLA co  2019-04-25 00:00:00   \n",
       "49998          CA02  0140105847        GORDON F co  2019-05-13 00:00:00   \n",
       "49999          CA02  0140104340      COLABOR  corp  2019-06-27 00:00:00   \n",
       "\n",
       "       buisness_year        doc_id posting_date  document_create_date  \\\n",
       "0             2019.0  1.929927e+09   2019-09-25              20190925   \n",
       "1             2019.0  1.929724e+09   2019-08-08              20190808   \n",
       "2             2019.0  1.929465e+09   2019-06-12              20190610   \n",
       "3             2020.0  1.930671e+09   2020-03-20              20200319   \n",
       "4             2020.0  1.930397e+09   2020-01-14              20200114   \n",
       "...              ...           ...          ...                   ...   \n",
       "49995         2019.0  1.929270e+09   2019-05-06              20190506   \n",
       "49996         2020.0  1.930509e+09   2020-02-10              20200210   \n",
       "49997         2019.0  1.929110e+09   2019-04-10              20190409   \n",
       "49998         2019.0  2.960545e+09   2019-04-30              20190430   \n",
       "49999         2019.0  2.960554e+09   2019-06-12              20190612   \n",
       "\n",
       "       document_create_date.1  due_in_date invoice_currency document type  \\\n",
       "0                    20190925   20191010.0              USD            RV   \n",
       "1                    20190808   20190823.0              USD            RV   \n",
       "2                    20190612   20190627.0              USD            RV   \n",
       "3                    20200320   20200404.0              USD            RV   \n",
       "4                    20200114   20200129.0              USD            RV   \n",
       "...                       ...          ...              ...           ...   \n",
       "49995                20190506   20190521.0              USD            RV   \n",
       "49996                20200210   20200225.0              USD            RV   \n",
       "49997                20190410   20190425.0              USD            RV   \n",
       "49998                20190430   20190511.0              CAD            RV   \n",
       "49999                20190612   20190623.0              CAD            RV   \n",
       "\n",
       "       posting_id  area_business  total_open_amount  baseline_create_date  \\\n",
       "0             1.0            NaN          130157.43            20190925.0   \n",
       "1             1.0            NaN           98583.21            20190808.0   \n",
       "2             1.0            NaN           19124.26            20190612.0   \n",
       "3             1.0            NaN            4427.22            20200320.0   \n",
       "4             1.0            NaN            6826.15            20200114.0   \n",
       "...           ...            ...                ...                   ...   \n",
       "49995         1.0            NaN           15768.12            20190506.0   \n",
       "49996         1.0            NaN           66996.33            20200210.0   \n",
       "49997         1.0            NaN           56288.34            20190410.0   \n",
       "49998         1.0            NaN           32927.76            20190501.0   \n",
       "49999         1.0            NaN           44425.41            20190613.0   \n",
       "\n",
       "      cust_payment_terms    invoice_id  isOpen  \n",
       "0                   NAC6  1.929927e+09       0  \n",
       "1                   NAA8  1.929724e+09       0  \n",
       "2                   NAA8  1.929465e+09       0  \n",
       "3                   NAAX  1.930671e+09       1  \n",
       "4                   NAA8  1.930397e+09       0  \n",
       "...                  ...           ...     ...  \n",
       "49995               NAA8  1.929270e+09       0  \n",
       "49996               NAA8  1.930509e+09       0  \n",
       "49997               NAA8  1.929110e+09       0  \n",
       "49998               CA10  2.960545e+09       0  \n",
       "49999               CA10  2.960554e+09       0  \n",
       "\n",
       "[50000 rows x 19 columns]"
      ]
     },
     "execution_count": 475,
     "metadata": {},
     "output_type": "execute_result"
    }
   ],
   "source": [
    "df"
   ]
  },
  {
   "cell_type": "markdown",
   "id": "428464b3",
   "metadata": {},
   "source": [
    "# Data Pre-processing"
   ]
  },
  {
   "cell_type": "markdown",
   "id": "0db777cf",
   "metadata": {},
   "source": [
    "### Null Imputation"
   ]
  },
  {
   "cell_type": "code",
   "execution_count": 476,
   "id": "ff358d19",
   "metadata": {},
   "outputs": [
    {
     "data": {
      "text/plain": [
       "business_code                 0\n",
       "cust_number                   0\n",
       "name_customer                 0\n",
       "clear_date                10000\n",
       "buisness_year                 0\n",
       "doc_id                        0\n",
       "posting_date                  0\n",
       "document_create_date          0\n",
       "document_create_date.1        0\n",
       "due_in_date                   0\n",
       "invoice_currency              0\n",
       "document type                 0\n",
       "posting_id                    0\n",
       "area_business             50000\n",
       "total_open_amount             0\n",
       "baseline_create_date          0\n",
       "cust_payment_terms            0\n",
       "invoice_id                    1\n",
       "isOpen                        0\n",
       "dtype: int64"
      ]
     },
     "execution_count": 476,
     "metadata": {},
     "output_type": "execute_result"
    }
   ],
   "source": [
    "df.isnull().sum()"
   ]
  },
  {
   "cell_type": "markdown",
   "id": "64de1124",
   "metadata": {},
   "source": [
    "Null is checked we can see the numbers of null values in the dataset"
   ]
  },
  {
   "cell_type": "code",
   "execution_count": 477,
   "id": "ca45a59f",
   "metadata": {},
   "outputs": [
    {
     "data": {
      "text/plain": [
       "(50000, 18)"
      ]
     },
     "execution_count": 477,
     "metadata": {},
     "output_type": "execute_result"
    }
   ],
   "source": [
    "df=df.drop(columns=['area_business'])\n",
    "df.shape"
   ]
  },
  {
   "cell_type": "markdown",
   "id": "6da485da",
   "metadata": {},
   "source": [
    "### Spiting the data into two parts test and df"
   ]
  },
  {
   "cell_type": "code",
   "execution_count": 478,
   "id": "d5ef1468",
   "metadata": {},
   "outputs": [
    {
     "data": {
      "text/plain": [
       "(10000, 18)"
      ]
     },
     "execution_count": 478,
     "metadata": {},
     "output_type": "execute_result"
    }
   ],
   "source": [
    "#Dataset is splitted into two parts one has the data of clear_data's Nan value and oythe NaN values \n",
    "test = df[df['clear_date'].isnull() == True]\n",
    "test.shape"
   ]
  },
  {
   "cell_type": "code",
   "execution_count": 479,
   "id": "0dcd7935",
   "metadata": {},
   "outputs": [
    {
     "data": {
      "text/plain": [
       "(39999, 18)"
      ]
     },
     "execution_count": 479,
     "metadata": {},
     "output_type": "execute_result"
    }
   ],
   "source": [
    "# all the rows with null value are droped i.e clear_data and invoice_id(that has 1 NaN vale) so its 39999\n",
    "df=df.dropna()\n",
    "df.shape"
   ]
  },
  {
   "cell_type": "code",
   "execution_count": 480,
   "id": "0eda7494",
   "metadata": {},
   "outputs": [
    {
     "data": {
      "text/plain": [
       "business_code             0\n",
       "cust_number               0\n",
       "name_customer             0\n",
       "clear_date                0\n",
       "buisness_year             0\n",
       "doc_id                    0\n",
       "posting_date              0\n",
       "document_create_date      0\n",
       "document_create_date.1    0\n",
       "due_in_date               0\n",
       "invoice_currency          0\n",
       "document type             0\n",
       "posting_id                0\n",
       "total_open_amount         0\n",
       "baseline_create_date      0\n",
       "cust_payment_terms        0\n",
       "invoice_id                0\n",
       "isOpen                    0\n",
       "dtype: int64"
      ]
     },
     "execution_count": 480,
     "metadata": {},
     "output_type": "execute_result"
    }
   ],
   "source": [
    "df.isnull().sum()"
   ]
  },
  {
   "cell_type": "markdown",
   "id": "41d79b8c",
   "metadata": {},
   "source": [
    "### Date Time Conversion"
   ]
  },
  {
   "cell_type": "code",
   "execution_count": 481,
   "id": "da9655a3",
   "metadata": {},
   "outputs": [],
   "source": [
    "# It is used to change the string into date format string(i.e; \"20200413\" to \"2020-04-13\")\n",
    "def strToDate(dateStr):\n",
    "    dateFor=''\n",
    "    dateFor ='-'.join([dateStr[:4], dateStr[4:6], dateStr[6:8]])\n",
    "    return dateFor\n",
    "    "
   ]
  },
  {
   "cell_type": "code",
   "execution_count": 482,
   "id": "9d53e6f2",
   "metadata": {},
   "outputs": [],
   "source": [
    "df['due_in_date'] = df['due_in_date'].apply(lambda x:strToDate(str(int(x))))\n",
    "df['document_create_date'] = df['document_create_date'].apply(lambda x:strToDate(str(int(x))))\n",
    "df['document_create_date.1'] = df['document_create_date.1'].apply(lambda x:strToDate(str(int(x))))\n",
    "df['baseline_create_date'] = df['baseline_create_date'].apply(lambda x:strToDate(str(int(x))))\n",
    "\n",
    "\n",
    "# first the string is change to in a string of date fromat i.e;2020-01-04"
   ]
  },
  {
   "cell_type": "code",
   "execution_count": 483,
   "id": "4c893f10",
   "metadata": {},
   "outputs": [
    {
     "data": {
      "text/html": [
       "<div>\n",
       "<style scoped>\n",
       "    .dataframe tbody tr th:only-of-type {\n",
       "        vertical-align: middle;\n",
       "    }\n",
       "\n",
       "    .dataframe tbody tr th {\n",
       "        vertical-align: top;\n",
       "    }\n",
       "\n",
       "    .dataframe thead th {\n",
       "        text-align: right;\n",
       "    }\n",
       "</style>\n",
       "<table border=\"1\" class=\"dataframe\">\n",
       "  <thead>\n",
       "    <tr style=\"text-align: right;\">\n",
       "      <th></th>\n",
       "      <th>business_code</th>\n",
       "      <th>cust_number</th>\n",
       "      <th>name_customer</th>\n",
       "      <th>clear_date</th>\n",
       "      <th>buisness_year</th>\n",
       "      <th>doc_id</th>\n",
       "      <th>posting_date</th>\n",
       "      <th>document_create_date</th>\n",
       "      <th>document_create_date.1</th>\n",
       "      <th>due_in_date</th>\n",
       "      <th>invoice_currency</th>\n",
       "      <th>document type</th>\n",
       "      <th>posting_id</th>\n",
       "      <th>total_open_amount</th>\n",
       "      <th>baseline_create_date</th>\n",
       "      <th>cust_payment_terms</th>\n",
       "      <th>invoice_id</th>\n",
       "      <th>isOpen</th>\n",
       "    </tr>\n",
       "  </thead>\n",
       "  <tbody>\n",
       "    <tr>\n",
       "      <th>0</th>\n",
       "      <td>U001</td>\n",
       "      <td>0200762301</td>\n",
       "      <td>C&amp;S WH in</td>\n",
       "      <td>2019-10-10 00:00:00</td>\n",
       "      <td>2019.0</td>\n",
       "      <td>1.929927e+09</td>\n",
       "      <td>2019-09-25</td>\n",
       "      <td>2019-09-25</td>\n",
       "      <td>2019-09-25</td>\n",
       "      <td>2019-10-10</td>\n",
       "      <td>USD</td>\n",
       "      <td>RV</td>\n",
       "      <td>1.0</td>\n",
       "      <td>130157.43</td>\n",
       "      <td>2019-09-25</td>\n",
       "      <td>NAC6</td>\n",
       "      <td>1.929927e+09</td>\n",
       "      <td>0</td>\n",
       "    </tr>\n",
       "    <tr>\n",
       "      <th>1</th>\n",
       "      <td>U001</td>\n",
       "      <td>0200707822</td>\n",
       "      <td>PUBLI co</td>\n",
       "      <td>2019-08-23 00:00:00</td>\n",
       "      <td>2019.0</td>\n",
       "      <td>1.929724e+09</td>\n",
       "      <td>2019-08-08</td>\n",
       "      <td>2019-08-08</td>\n",
       "      <td>2019-08-08</td>\n",
       "      <td>2019-08-23</td>\n",
       "      <td>USD</td>\n",
       "      <td>RV</td>\n",
       "      <td>1.0</td>\n",
       "      <td>98583.21</td>\n",
       "      <td>2019-08-08</td>\n",
       "      <td>NAA8</td>\n",
       "      <td>1.929724e+09</td>\n",
       "      <td>0</td>\n",
       "    </tr>\n",
       "    <tr>\n",
       "      <th>2</th>\n",
       "      <td>U001</td>\n",
       "      <td>0200744019</td>\n",
       "      <td>TARG co</td>\n",
       "      <td>2019-06-27 00:00:00</td>\n",
       "      <td>2019.0</td>\n",
       "      <td>1.929465e+09</td>\n",
       "      <td>2019-06-12</td>\n",
       "      <td>2019-06-10</td>\n",
       "      <td>2019-06-12</td>\n",
       "      <td>2019-06-27</td>\n",
       "      <td>USD</td>\n",
       "      <td>RV</td>\n",
       "      <td>1.0</td>\n",
       "      <td>19124.26</td>\n",
       "      <td>2019-06-12</td>\n",
       "      <td>NAA8</td>\n",
       "      <td>1.929465e+09</td>\n",
       "      <td>0</td>\n",
       "    </tr>\n",
       "    <tr>\n",
       "      <th>4</th>\n",
       "      <td>U001</td>\n",
       "      <td>0200722444</td>\n",
       "      <td>PERFOR co</td>\n",
       "      <td>2020-02-05 00:00:00</td>\n",
       "      <td>2020.0</td>\n",
       "      <td>1.930397e+09</td>\n",
       "      <td>2020-01-14</td>\n",
       "      <td>2020-01-14</td>\n",
       "      <td>2020-01-14</td>\n",
       "      <td>2020-01-29</td>\n",
       "      <td>USD</td>\n",
       "      <td>RV</td>\n",
       "      <td>1.0</td>\n",
       "      <td>6826.15</td>\n",
       "      <td>2020-01-14</td>\n",
       "      <td>NAA8</td>\n",
       "      <td>1.930397e+09</td>\n",
       "      <td>0</td>\n",
       "    </tr>\n",
       "    <tr>\n",
       "      <th>5</th>\n",
       "      <td>U001</td>\n",
       "      <td>0200769623</td>\n",
       "      <td>WAL-MAR llc</td>\n",
       "      <td>2019-09-04 00:00:00</td>\n",
       "      <td>2019.0</td>\n",
       "      <td>1.929779e+09</td>\n",
       "      <td>2019-08-25</td>\n",
       "      <td>2019-08-23</td>\n",
       "      <td>2019-08-25</td>\n",
       "      <td>2019-09-09</td>\n",
       "      <td>USD</td>\n",
       "      <td>RV</td>\n",
       "      <td>1.0</td>\n",
       "      <td>25668.13</td>\n",
       "      <td>2019-08-25</td>\n",
       "      <td>NAH4</td>\n",
       "      <td>1.929779e+09</td>\n",
       "      <td>0</td>\n",
       "    </tr>\n",
       "  </tbody>\n",
       "</table>\n",
       "</div>"
      ],
      "text/plain": [
       "  business_code cust_number name_customer           clear_date  buisness_year  \\\n",
       "0          U001  0200762301     C&S WH in  2019-10-10 00:00:00         2019.0   \n",
       "1          U001  0200707822      PUBLI co  2019-08-23 00:00:00         2019.0   \n",
       "2          U001  0200744019       TARG co  2019-06-27 00:00:00         2019.0   \n",
       "4          U001  0200722444     PERFOR co  2020-02-05 00:00:00         2020.0   \n",
       "5          U001  0200769623   WAL-MAR llc  2019-09-04 00:00:00         2019.0   \n",
       "\n",
       "         doc_id posting_date document_create_date document_create_date.1  \\\n",
       "0  1.929927e+09   2019-09-25           2019-09-25             2019-09-25   \n",
       "1  1.929724e+09   2019-08-08           2019-08-08             2019-08-08   \n",
       "2  1.929465e+09   2019-06-12           2019-06-10             2019-06-12   \n",
       "4  1.930397e+09   2020-01-14           2020-01-14             2020-01-14   \n",
       "5  1.929779e+09   2019-08-25           2019-08-23             2019-08-25   \n",
       "\n",
       "  due_in_date invoice_currency document type  posting_id  total_open_amount  \\\n",
       "0  2019-10-10              USD            RV         1.0          130157.43   \n",
       "1  2019-08-23              USD            RV         1.0           98583.21   \n",
       "2  2019-06-27              USD            RV         1.0           19124.26   \n",
       "4  2020-01-29              USD            RV         1.0            6826.15   \n",
       "5  2019-09-09              USD            RV         1.0           25668.13   \n",
       "\n",
       "  baseline_create_date cust_payment_terms    invoice_id  isOpen  \n",
       "0           2019-09-25               NAC6  1.929927e+09       0  \n",
       "1           2019-08-08               NAA8  1.929724e+09       0  \n",
       "2           2019-06-12               NAA8  1.929465e+09       0  \n",
       "4           2020-01-14               NAA8  1.930397e+09       0  \n",
       "5           2019-08-25               NAH4  1.929779e+09       0  "
      ]
     },
     "execution_count": 483,
     "metadata": {},
     "output_type": "execute_result"
    }
   ],
   "source": [
    "df.head(5)"
   ]
  },
  {
   "cell_type": "code",
   "execution_count": 484,
   "id": "fefbdcfe",
   "metadata": {},
   "outputs": [],
   "source": [
    "df['clear_date'] = pd.to_datetime(df['clear_date'],format='%Y-%m-%d')\n",
    "df['posting_date'] = pd.to_datetime(df['posting_date'],format='%Y-%m-%d')\n",
    "df['document_create_date'] = pd.to_datetime(df['document_create_date'],format='%Y-%m-%d')\n",
    "df['document_create_date.1'] = pd.to_datetime(df['document_create_date.1'],format='%Y-%m-%d')\n",
    "df['due_in_date'] = pd.to_datetime(df['due_in_date'],format='%Y-%m-%d')\n",
    "df['baseline_create_date'] = pd.to_datetime(df['baseline_create_date'],format='%Y-%m-%d')\n",
    "\n",
    "# now the string is change to time format if we have changed the string format the it would be difficult to change"
   ]
  },
  {
   "cell_type": "code",
   "execution_count": 485,
   "id": "5133015b",
   "metadata": {},
   "outputs": [
    {
     "data": {
      "text/plain": [
       "business_code                     object\n",
       "cust_number                       object\n",
       "name_customer                     object\n",
       "clear_date                datetime64[ns]\n",
       "buisness_year                    float64\n",
       "doc_id                           float64\n",
       "posting_date              datetime64[ns]\n",
       "document_create_date      datetime64[ns]\n",
       "document_create_date.1    datetime64[ns]\n",
       "due_in_date               datetime64[ns]\n",
       "invoice_currency                  object\n",
       "document type                     object\n",
       "posting_id                       float64\n",
       "total_open_amount                float64\n",
       "baseline_create_date      datetime64[ns]\n",
       "cust_payment_terms                object\n",
       "invoice_id                       float64\n",
       "isOpen                             int64\n",
       "dtype: object"
      ]
     },
     "execution_count": 485,
     "metadata": {},
     "output_type": "execute_result"
    }
   ],
   "source": [
    "df.dtypes"
   ]
  },
  {
   "cell_type": "code",
   "execution_count": 486,
   "id": "92653991",
   "metadata": {},
   "outputs": [
    {
     "data": {
      "text/html": [
       "<div>\n",
       "<style scoped>\n",
       "    .dataframe tbody tr th:only-of-type {\n",
       "        vertical-align: middle;\n",
       "    }\n",
       "\n",
       "    .dataframe tbody tr th {\n",
       "        vertical-align: top;\n",
       "    }\n",
       "\n",
       "    .dataframe thead th {\n",
       "        text-align: right;\n",
       "    }\n",
       "</style>\n",
       "<table border=\"1\" class=\"dataframe\">\n",
       "  <thead>\n",
       "    <tr style=\"text-align: right;\">\n",
       "      <th></th>\n",
       "      <th>business_code</th>\n",
       "      <th>cust_number</th>\n",
       "      <th>name_customer</th>\n",
       "      <th>clear_date</th>\n",
       "      <th>buisness_year</th>\n",
       "      <th>doc_id</th>\n",
       "      <th>posting_date</th>\n",
       "      <th>document_create_date</th>\n",
       "      <th>document_create_date.1</th>\n",
       "      <th>due_in_date</th>\n",
       "      <th>invoice_currency</th>\n",
       "      <th>document type</th>\n",
       "      <th>posting_id</th>\n",
       "      <th>total_open_amount</th>\n",
       "      <th>baseline_create_date</th>\n",
       "      <th>cust_payment_terms</th>\n",
       "      <th>invoice_id</th>\n",
       "      <th>isOpen</th>\n",
       "    </tr>\n",
       "  </thead>\n",
       "  <tbody>\n",
       "    <tr>\n",
       "      <th>0</th>\n",
       "      <td>U001</td>\n",
       "      <td>0200762301</td>\n",
       "      <td>C&amp;S WH in</td>\n",
       "      <td>2019-10-10</td>\n",
       "      <td>2019.0</td>\n",
       "      <td>1.929927e+09</td>\n",
       "      <td>2019-09-25</td>\n",
       "      <td>2019-09-25</td>\n",
       "      <td>2019-09-25</td>\n",
       "      <td>2019-10-10</td>\n",
       "      <td>USD</td>\n",
       "      <td>RV</td>\n",
       "      <td>1.0</td>\n",
       "      <td>130157.43</td>\n",
       "      <td>2019-09-25</td>\n",
       "      <td>NAC6</td>\n",
       "      <td>1.929927e+09</td>\n",
       "      <td>0</td>\n",
       "    </tr>\n",
       "    <tr>\n",
       "      <th>1</th>\n",
       "      <td>U001</td>\n",
       "      <td>0200707822</td>\n",
       "      <td>PUBLI co</td>\n",
       "      <td>2019-08-23</td>\n",
       "      <td>2019.0</td>\n",
       "      <td>1.929724e+09</td>\n",
       "      <td>2019-08-08</td>\n",
       "      <td>2019-08-08</td>\n",
       "      <td>2019-08-08</td>\n",
       "      <td>2019-08-23</td>\n",
       "      <td>USD</td>\n",
       "      <td>RV</td>\n",
       "      <td>1.0</td>\n",
       "      <td>98583.21</td>\n",
       "      <td>2019-08-08</td>\n",
       "      <td>NAA8</td>\n",
       "      <td>1.929724e+09</td>\n",
       "      <td>0</td>\n",
       "    </tr>\n",
       "    <tr>\n",
       "      <th>2</th>\n",
       "      <td>U001</td>\n",
       "      <td>0200744019</td>\n",
       "      <td>TARG co</td>\n",
       "      <td>2019-06-27</td>\n",
       "      <td>2019.0</td>\n",
       "      <td>1.929465e+09</td>\n",
       "      <td>2019-06-12</td>\n",
       "      <td>2019-06-10</td>\n",
       "      <td>2019-06-12</td>\n",
       "      <td>2019-06-27</td>\n",
       "      <td>USD</td>\n",
       "      <td>RV</td>\n",
       "      <td>1.0</td>\n",
       "      <td>19124.26</td>\n",
       "      <td>2019-06-12</td>\n",
       "      <td>NAA8</td>\n",
       "      <td>1.929465e+09</td>\n",
       "      <td>0</td>\n",
       "    </tr>\n",
       "    <tr>\n",
       "      <th>4</th>\n",
       "      <td>U001</td>\n",
       "      <td>0200722444</td>\n",
       "      <td>PERFOR co</td>\n",
       "      <td>2020-02-05</td>\n",
       "      <td>2020.0</td>\n",
       "      <td>1.930397e+09</td>\n",
       "      <td>2020-01-14</td>\n",
       "      <td>2020-01-14</td>\n",
       "      <td>2020-01-14</td>\n",
       "      <td>2020-01-29</td>\n",
       "      <td>USD</td>\n",
       "      <td>RV</td>\n",
       "      <td>1.0</td>\n",
       "      <td>6826.15</td>\n",
       "      <td>2020-01-14</td>\n",
       "      <td>NAA8</td>\n",
       "      <td>1.930397e+09</td>\n",
       "      <td>0</td>\n",
       "    </tr>\n",
       "    <tr>\n",
       "      <th>5</th>\n",
       "      <td>U001</td>\n",
       "      <td>0200769623</td>\n",
       "      <td>WAL-MAR llc</td>\n",
       "      <td>2019-09-04</td>\n",
       "      <td>2019.0</td>\n",
       "      <td>1.929779e+09</td>\n",
       "      <td>2019-08-25</td>\n",
       "      <td>2019-08-23</td>\n",
       "      <td>2019-08-25</td>\n",
       "      <td>2019-09-09</td>\n",
       "      <td>USD</td>\n",
       "      <td>RV</td>\n",
       "      <td>1.0</td>\n",
       "      <td>25668.13</td>\n",
       "      <td>2019-08-25</td>\n",
       "      <td>NAH4</td>\n",
       "      <td>1.929779e+09</td>\n",
       "      <td>0</td>\n",
       "    </tr>\n",
       "  </tbody>\n",
       "</table>\n",
       "</div>"
      ],
      "text/plain": [
       "  business_code cust_number name_customer clear_date  buisness_year  \\\n",
       "0          U001  0200762301     C&S WH in 2019-10-10         2019.0   \n",
       "1          U001  0200707822      PUBLI co 2019-08-23         2019.0   \n",
       "2          U001  0200744019       TARG co 2019-06-27         2019.0   \n",
       "4          U001  0200722444     PERFOR co 2020-02-05         2020.0   \n",
       "5          U001  0200769623   WAL-MAR llc 2019-09-04         2019.0   \n",
       "\n",
       "         doc_id posting_date document_create_date document_create_date.1  \\\n",
       "0  1.929927e+09   2019-09-25           2019-09-25             2019-09-25   \n",
       "1  1.929724e+09   2019-08-08           2019-08-08             2019-08-08   \n",
       "2  1.929465e+09   2019-06-12           2019-06-10             2019-06-12   \n",
       "4  1.930397e+09   2020-01-14           2020-01-14             2020-01-14   \n",
       "5  1.929779e+09   2019-08-25           2019-08-23             2019-08-25   \n",
       "\n",
       "  due_in_date invoice_currency document type  posting_id  total_open_amount  \\\n",
       "0  2019-10-10              USD            RV         1.0          130157.43   \n",
       "1  2019-08-23              USD            RV         1.0           98583.21   \n",
       "2  2019-06-27              USD            RV         1.0           19124.26   \n",
       "4  2020-01-29              USD            RV         1.0            6826.15   \n",
       "5  2019-09-09              USD            RV         1.0           25668.13   \n",
       "\n",
       "  baseline_create_date cust_payment_terms    invoice_id  isOpen  \n",
       "0           2019-09-25               NAC6  1.929927e+09       0  \n",
       "1           2019-08-08               NAA8  1.929724e+09       0  \n",
       "2           2019-06-12               NAA8  1.929465e+09       0  \n",
       "4           2020-01-14               NAA8  1.930397e+09       0  \n",
       "5           2019-08-25               NAH4  1.929779e+09       0  "
      ]
     },
     "execution_count": 486,
     "metadata": {},
     "output_type": "execute_result"
    }
   ],
   "source": [
    "df.head(5)"
   ]
  },
  {
   "cell_type": "markdown",
   "id": "eeae8ac1",
   "metadata": {},
   "source": [
    "### Sort the values according to posting_date. Reason: So that the ML model doesn't get the future data"
   ]
  },
  {
   "cell_type": "code",
   "execution_count": 487,
   "id": "22bb6388",
   "metadata": {},
   "outputs": [],
   "source": [
    "df.sort_values(by='posting_date',inplace=True)"
   ]
  },
  {
   "cell_type": "markdown",
   "id": "511a0e0d",
   "metadata": {},
   "source": [
    "### Removing the Duplicated and Constant values "
   ]
  },
  {
   "cell_type": "code",
   "execution_count": 488,
   "id": "4df7927b",
   "metadata": {},
   "outputs": [
    {
     "data": {
      "text/html": [
       "<div>\n",
       "<style scoped>\n",
       "    .dataframe tbody tr th:only-of-type {\n",
       "        vertical-align: middle;\n",
       "    }\n",
       "\n",
       "    .dataframe tbody tr th {\n",
       "        vertical-align: top;\n",
       "    }\n",
       "\n",
       "    .dataframe thead th {\n",
       "        text-align: right;\n",
       "    }\n",
       "</style>\n",
       "<table border=\"1\" class=\"dataframe\">\n",
       "  <thead>\n",
       "    <tr style=\"text-align: right;\">\n",
       "      <th></th>\n",
       "      <th>buisness_year</th>\n",
       "      <th>doc_id</th>\n",
       "      <th>posting_id</th>\n",
       "      <th>total_open_amount</th>\n",
       "      <th>invoice_id</th>\n",
       "      <th>isOpen</th>\n",
       "    </tr>\n",
       "  </thead>\n",
       "  <tbody>\n",
       "    <tr>\n",
       "      <th>buisness_year</th>\n",
       "      <td>1.155731e-01</td>\n",
       "      <td>-1.322204e+06</td>\n",
       "      <td>0.0</td>\n",
       "      <td>-8.041083e+01</td>\n",
       "      <td>-1.322204e+06</td>\n",
       "      <td>0.0</td>\n",
       "    </tr>\n",
       "    <tr>\n",
       "      <th>doc_id</th>\n",
       "      <td>-1.322204e+06</td>\n",
       "      <td>7.801884e+16</td>\n",
       "      <td>0.0</td>\n",
       "      <td>2.175245e+12</td>\n",
       "      <td>7.801884e+16</td>\n",
       "      <td>0.0</td>\n",
       "    </tr>\n",
       "    <tr>\n",
       "      <th>posting_id</th>\n",
       "      <td>0.000000e+00</td>\n",
       "      <td>0.000000e+00</td>\n",
       "      <td>0.0</td>\n",
       "      <td>0.000000e+00</td>\n",
       "      <td>0.000000e+00</td>\n",
       "      <td>0.0</td>\n",
       "    </tr>\n",
       "    <tr>\n",
       "      <th>total_open_amount</th>\n",
       "      <td>-8.041083e+01</td>\n",
       "      <td>2.175245e+12</td>\n",
       "      <td>0.0</td>\n",
       "      <td>1.566940e+09</td>\n",
       "      <td>2.175245e+12</td>\n",
       "      <td>0.0</td>\n",
       "    </tr>\n",
       "    <tr>\n",
       "      <th>invoice_id</th>\n",
       "      <td>-1.322204e+06</td>\n",
       "      <td>7.801884e+16</td>\n",
       "      <td>0.0</td>\n",
       "      <td>2.175245e+12</td>\n",
       "      <td>7.801884e+16</td>\n",
       "      <td>0.0</td>\n",
       "    </tr>\n",
       "    <tr>\n",
       "      <th>isOpen</th>\n",
       "      <td>0.000000e+00</td>\n",
       "      <td>0.000000e+00</td>\n",
       "      <td>0.0</td>\n",
       "      <td>0.000000e+00</td>\n",
       "      <td>0.000000e+00</td>\n",
       "      <td>0.0</td>\n",
       "    </tr>\n",
       "  </tbody>\n",
       "</table>\n",
       "</div>"
      ],
      "text/plain": [
       "                   buisness_year        doc_id  posting_id  total_open_amount  \\\n",
       "buisness_year       1.155731e-01 -1.322204e+06         0.0      -8.041083e+01   \n",
       "doc_id             -1.322204e+06  7.801884e+16         0.0       2.175245e+12   \n",
       "posting_id          0.000000e+00  0.000000e+00         0.0       0.000000e+00   \n",
       "total_open_amount  -8.041083e+01  2.175245e+12         0.0       1.566940e+09   \n",
       "invoice_id         -1.322204e+06  7.801884e+16         0.0       2.175245e+12   \n",
       "isOpen              0.000000e+00  0.000000e+00         0.0       0.000000e+00   \n",
       "\n",
       "                     invoice_id  isOpen  \n",
       "buisness_year     -1.322204e+06     0.0  \n",
       "doc_id             7.801884e+16     0.0  \n",
       "posting_id         0.000000e+00     0.0  \n",
       "total_open_amount  2.175245e+12     0.0  \n",
       "invoice_id         7.801884e+16     0.0  \n",
       "isOpen             0.000000e+00     0.0  "
      ]
     },
     "execution_count": 488,
     "metadata": {},
     "output_type": "execute_result"
    }
   ],
   "source": [
    "df.cov()"
   ]
  },
  {
   "cell_type": "markdown",
   "id": "1c17fc95",
   "metadata": {},
   "source": [
    "Covariance is checked and we can see posting id and isOpen reltion is 0 with each columns i.e they are constant or same"
   ]
  },
  {
   "cell_type": "code",
   "execution_count": 489,
   "id": "a66757e9",
   "metadata": {},
   "outputs": [
    {
     "data": {
      "text/plain": [
       "(39999, 18)"
      ]
     },
     "execution_count": 489,
     "metadata": {},
     "output_type": "execute_result"
    }
   ],
   "source": [
    "df.shape\n",
    "#before removing the duplicates"
   ]
  },
  {
   "cell_type": "code",
   "execution_count": 490,
   "id": "d16e4215",
   "metadata": {},
   "outputs": [
    {
     "data": {
      "text/plain": [
       "business_code             False\n",
       "cust_number               False\n",
       "name_customer             False\n",
       "clear_date                False\n",
       "buisness_year             False\n",
       "doc_id                    False\n",
       "posting_date              False\n",
       "document_create_date      False\n",
       "document_create_date.1     True\n",
       "due_in_date               False\n",
       "invoice_currency          False\n",
       "document type             False\n",
       "posting_id                False\n",
       "total_open_amount         False\n",
       "baseline_create_date      False\n",
       "cust_payment_terms        False\n",
       "invoice_id                 True\n",
       "isOpen                    False\n",
       "dtype: bool"
      ]
     },
     "execution_count": 490,
     "metadata": {},
     "output_type": "execute_result"
    }
   ],
   "source": [
    "# Check for duplicated colum\n",
    "df_trans = df.T\n",
    "df_trans.duplicated()"
   ]
  },
  {
   "cell_type": "code",
   "execution_count": 491,
   "id": "acb3cb6d",
   "metadata": {},
   "outputs": [
    {
     "data": {
      "text/plain": [
       "(39999, 16)"
      ]
     },
     "execution_count": 491,
     "metadata": {},
     "output_type": "execute_result"
    }
   ],
   "source": [
    "df=df_trans.drop_duplicates(keep='last').T \n",
    "# removed the duplicated rows,\n",
    "# transpose the dataframe back to the variables as columns\n",
    "# keep first indicates that we keep the first of a set of\n",
    "# duplicated variables\n",
    "\n",
    "#shape of data frame\n",
    "df.shape"
   ]
  },
  {
   "cell_type": "code",
   "execution_count": 492,
   "id": "4a8e12ec",
   "metadata": {},
   "outputs": [
    {
     "name": "stdout",
     "output_type": "stream",
     "text": [
      "<class 'pandas.core.frame.DataFrame'>\n",
      "Int64Index: 39999 entries, 45921 to 39056\n",
      "Data columns (total 16 columns):\n",
      " #   Column                  Non-Null Count  Dtype         \n",
      "---  ------                  --------------  -----         \n",
      " 0   business_code           39999 non-null  object        \n",
      " 1   cust_number             39999 non-null  object        \n",
      " 2   name_customer           39999 non-null  object        \n",
      " 3   clear_date              39999 non-null  datetime64[ns]\n",
      " 4   buisness_year           39999 non-null  object        \n",
      " 5   document_create_date    39999 non-null  datetime64[ns]\n",
      " 6   document_create_date.1  39999 non-null  datetime64[ns]\n",
      " 7   due_in_date             39999 non-null  datetime64[ns]\n",
      " 8   invoice_currency        39999 non-null  object        \n",
      " 9   document type           39999 non-null  object        \n",
      " 10  posting_id              39999 non-null  object        \n",
      " 11  total_open_amount       39999 non-null  object        \n",
      " 12  baseline_create_date    39999 non-null  datetime64[ns]\n",
      " 13  cust_payment_terms      39999 non-null  object        \n",
      " 14  invoice_id              39999 non-null  object        \n",
      " 15  isOpen                  39999 non-null  object        \n",
      "dtypes: datetime64[ns](5), object(11)\n",
      "memory usage: 6.2+ MB\n"
     ]
    }
   ],
   "source": [
    "# check the document id and invoice id as we can see the values are same in data frame\n",
    "df.info()"
   ]
  },
  {
   "cell_type": "code",
   "execution_count": 493,
   "id": "6408188a",
   "metadata": {},
   "outputs": [],
   "source": [
    "df['buisness_year']=pd.to_numeric(df['buisness_year'])\n",
    "df['total_open_amount']=pd.to_numeric(df['total_open_amount'])\n",
    "df['posting_id']=pd.to_numeric(df['posting_id'])\n",
    "df['invoice_id']=pd.to_numeric(df['invoice_id'])\n",
    "df['isOpen']=pd.to_numeric(df['isOpen'])\n",
    "\n",
    "\n",
    "## Since we have done transpose two time the data type has changed so we changed the data type"
   ]
  },
  {
   "cell_type": "code",
   "execution_count": 494,
   "id": "a4f6c8c5",
   "metadata": {},
   "outputs": [
    {
     "name": "stdout",
     "output_type": "stream",
     "text": [
      "<class 'pandas.core.frame.DataFrame'>\n",
      "Int64Index: 39999 entries, 45921 to 39056\n",
      "Data columns (total 16 columns):\n",
      " #   Column                  Non-Null Count  Dtype         \n",
      "---  ------                  --------------  -----         \n",
      " 0   business_code           39999 non-null  object        \n",
      " 1   cust_number             39999 non-null  object        \n",
      " 2   name_customer           39999 non-null  object        \n",
      " 3   clear_date              39999 non-null  datetime64[ns]\n",
      " 4   buisness_year           39999 non-null  float64       \n",
      " 5   document_create_date    39999 non-null  datetime64[ns]\n",
      " 6   document_create_date.1  39999 non-null  datetime64[ns]\n",
      " 7   due_in_date             39999 non-null  datetime64[ns]\n",
      " 8   invoice_currency        39999 non-null  object        \n",
      " 9   document type           39999 non-null  object        \n",
      " 10  posting_id              39999 non-null  float64       \n",
      " 11  total_open_amount       39999 non-null  float64       \n",
      " 12  baseline_create_date    39999 non-null  datetime64[ns]\n",
      " 13  cust_payment_terms      39999 non-null  object        \n",
      " 14  invoice_id              39999 non-null  float64       \n",
      " 15  isOpen                  39999 non-null  int64         \n",
      "dtypes: datetime64[ns](5), float64(4), int64(1), object(6)\n",
      "memory usage: 6.2+ MB\n"
     ]
    }
   ],
   "source": [
    "df.info()"
   ]
  },
  {
   "cell_type": "code",
   "execution_count": 495,
   "id": "6ce7c234",
   "metadata": {},
   "outputs": [],
   "source": [
    "# Removing the unwanted columns\n",
    "df = df.drop(columns = ['name_customer', 'document_create_date'])\n",
    "#document_create_date has the normalized column document_create_date.1\n",
    "#posting_date\n",
    "#name_customer"
   ]
  },
  {
   "cell_type": "code",
   "execution_count": 496,
   "id": "a38e7997",
   "metadata": {},
   "outputs": [
    {
     "data": {
      "text/plain": [
       "(39999, 13)"
      ]
     },
     "execution_count": 496,
     "metadata": {},
     "output_type": "execute_result"
    }
   ],
   "source": [
    "df=df.drop(columns='invoice_id')\n",
    "df.shape"
   ]
  },
  {
   "cell_type": "code",
   "execution_count": 497,
   "id": "c0b44f70",
   "metadata": {},
   "outputs": [
    {
     "data": {
      "text/plain": [
       "Index(['business_code', 'cust_number', 'clear_date', 'buisness_year',\n",
       "       'document_create_date.1', 'due_in_date', 'invoice_currency',\n",
       "       'document type', 'posting_id', 'total_open_amount',\n",
       "       'baseline_create_date', 'cust_payment_terms', 'isOpen'],\n",
       "      dtype='object')"
      ]
     },
     "execution_count": 497,
     "metadata": {},
     "output_type": "execute_result"
    }
   ],
   "source": [
    "df.columns"
   ]
  },
  {
   "cell_type": "markdown",
   "id": "6228ac4a",
   "metadata": {},
   "source": [
    "### Constant Features"
   ]
  },
  {
   "cell_type": "code",
   "execution_count": 498,
   "id": "ff337190",
   "metadata": {},
   "outputs": [
    {
     "data": {
      "text/plain": [
       "business_code                 6\n",
       "cust_number                1320\n",
       "clear_date                  401\n",
       "buisness_year                 2\n",
       "document_create_date.1      423\n",
       "due_in_date                 493\n",
       "invoice_currency              2\n",
       "document type                 1\n",
       "posting_id                    1\n",
       "total_open_amount         35622\n",
       "baseline_create_date        431\n",
       "cust_payment_terms           67\n",
       "isOpen                        1\n",
       "dtype: int64"
      ]
     },
     "execution_count": 498,
     "metadata": {},
     "output_type": "execute_result"
    }
   ],
   "source": [
    "df.nunique()"
   ]
  },
  {
   "cell_type": "code",
   "execution_count": 499,
   "id": "4f069447",
   "metadata": {},
   "outputs": [
    {
     "data": {
      "text/plain": [
       "(39999, 10)"
      ]
     },
     "execution_count": 499,
     "metadata": {},
     "output_type": "execute_result"
    }
   ],
   "source": [
    "const_feat=[]\n",
    "for col in list(df.columns):\n",
    "    if(df[col].nunique()==1):\n",
    "        const_feat.append(col)\n",
    "\n",
    "df=df.drop(columns=const_feat)\n",
    "df.shape\n",
    "# we have made list of columns having 1 unique value and drop them"
   ]
  },
  {
   "cell_type": "code",
   "execution_count": 500,
   "id": "90dd929e",
   "metadata": {},
   "outputs": [
    {
     "name": "stdout",
     "output_type": "stream",
     "text": [
      "<class 'pandas.core.frame.DataFrame'>\n",
      "Int64Index: 39999 entries, 45921 to 39056\n",
      "Data columns (total 10 columns):\n",
      " #   Column                  Non-Null Count  Dtype         \n",
      "---  ------                  --------------  -----         \n",
      " 0   business_code           39999 non-null  object        \n",
      " 1   cust_number             39999 non-null  object        \n",
      " 2   clear_date              39999 non-null  datetime64[ns]\n",
      " 3   buisness_year           39999 non-null  float64       \n",
      " 4   document_create_date.1  39999 non-null  datetime64[ns]\n",
      " 5   due_in_date             39999 non-null  datetime64[ns]\n",
      " 6   invoice_currency        39999 non-null  object        \n",
      " 7   total_open_amount       39999 non-null  float64       \n",
      " 8   baseline_create_date    39999 non-null  datetime64[ns]\n",
      " 9   cust_payment_terms      39999 non-null  object        \n",
      "dtypes: datetime64[ns](4), float64(2), object(4)\n",
      "memory usage: 4.4+ MB\n"
     ]
    }
   ],
   "source": [
    "df.info()"
   ]
  },
  {
   "cell_type": "code",
   "execution_count": 501,
   "id": "73bc8852",
   "metadata": {},
   "outputs": [
    {
     "name": "stdout",
     "output_type": "stream",
     "text": [
      "Categorical columns: business_code\n",
      "['U001' 'CA02' 'U013' 'U002' 'U007' 'U005']\n",
      "\n",
      "Categorical columns: cust_number\n",
      "['0200726979' '0200769623' '0200799367' ... '0200612306' '100016691'\n",
      " '0200718164']\n",
      "\n",
      "Categorical columns: cust_payment_terms\n",
      "['NAA8' 'NAH4' 'NAG2' 'CA10' 'NAD5' 'NAU5' 'NAX2' 'NAC6' 'NAD1' 'NAAW'\n",
      " 'NAAX' 'NA32' 'NAUZ' 'NA3B' 'NA31' 'NA3F' 'NAM1' 'NAM4' 'C106' 'NAM2'\n",
      " 'NAVQ' 'NAWP' 'NA10' 'NAVF' 'NAVE' 'NAD4' 'BR56' 'NAVM' 'NA9X' 'NAB1'\n",
      " 'NA38' 'NAWM' 'NAUP' 'NABG' 'NACB' 'NAGD' 'CA30' 'NAV2' 'NAVL' 'NAVC'\n",
      " 'BR12' 'NA8Q' 'NATH' 'NAD8' 'NA25' 'NA84' 'NAM3' 'NAUX' 'CAX2' 'NATK'\n",
      " 'NAVR' 'NAWN' 'B052' 'NATL' 'NATM' 'NAVD' 'NAUW' 'NATU' 'NAWU' 'NATV'\n",
      " 'NATW' 'NATX' 'NATZ' 'CAB1' 'MC15' 'NACE' 'NAUI']\n",
      "\n",
      "Unique Values in year column : \n"
     ]
    },
    {
     "data": {
      "text/plain": [
       "array([2019., 2020.])"
      ]
     },
     "execution_count": 501,
     "metadata": {},
     "output_type": "execute_result"
    }
   ],
   "source": [
    "cat_column=[ 'business_code' ,'cust_number' , 'cust_payment_terms']\n",
    "for col in cat_column:\n",
    "    print(\"Categorical columns: \"+col)\n",
    "    print(df[col].unique())\n",
    "    print()\n",
    "print(\"Unique Values in year column : \")\n",
    "df['buisness_year'].unique()\n",
    "# Checking the unique features"
   ]
  },
  {
   "cell_type": "code",
   "execution_count": 502,
   "id": "b32b53c8",
   "metadata": {},
   "outputs": [
    {
     "name": "stdout",
     "output_type": "stream",
     "text": [
      "U001    36158\n",
      "CA02     3195\n",
      "U013      522\n",
      "U002      111\n",
      "U005       10\n",
      "U007        3\n",
      "Name: business_code, dtype: int64\n",
      "#########################\n"
     ]
    }
   ],
   "source": [
    "# For catagorical columns with relatively low unique value (<= 12) -- looking for value_counts\n",
    "# if unique count ==1 , constant column \n",
    "\n",
    "for col in cat_column:\n",
    "    if df[col].nunique()<= 12:\n",
    "        print(df[col].value_counts())\n",
    "        print('#########################')"
   ]
  },
  {
   "cell_type": "code",
   "execution_count": 503,
   "id": "ce16242f",
   "metadata": {},
   "outputs": [],
   "source": [
    "# clubbing business code with low occurance in dataset - to ensure model gets max information\n",
    "df['business_code'] = np.where(df['business_code'].isin([\"U005\",\"U007\"]),\"Others\",df['business_code'])"
   ]
  },
  {
   "cell_type": "code",
   "execution_count": 504,
   "id": "0bdf5a19",
   "metadata": {},
   "outputs": [
    {
     "data": {
      "text/plain": [
       "U001      36158\n",
       "CA02       3195\n",
       "U013        522\n",
       "U002        111\n",
       "Others       13\n",
       "Name: business_code, dtype: int64"
      ]
     },
     "execution_count": 504,
     "metadata": {},
     "output_type": "execute_result"
    }
   ],
   "source": [
    "df['business_code'].value_counts()"
   ]
  },
  {
   "cell_type": "markdown",
   "id": "8849700b",
   "metadata": {},
   "source": [
    "## Split Data"
   ]
  },
  {
   "cell_type": "markdown",
   "id": "0c1f7f39",
   "metadata": {},
   "source": [
    "#### Making Target Column"
   ]
  },
  {
   "cell_type": "code",
   "execution_count": 505,
   "id": "95d1ab37",
   "metadata": {},
   "outputs": [],
   "source": [
    "df['delay'] =(df['clear_date'] - df['due_in_date']).dt.days\n",
    "# dt. days Reason: if we not use then delay column will be of timedelata data types but now it will be int"
   ]
  },
  {
   "cell_type": "markdown",
   "id": "49db2a58",
   "metadata": {},
   "source": [
    "Due term feature is added to the dataset"
   ]
  },
  {
   "cell_type": "code",
   "execution_count": 506,
   "id": "1cc649cc",
   "metadata": {},
   "outputs": [],
   "source": [
    "# This feature were added and analysed in EDA\n",
    "\n",
    "df['due_term']=pd.Series(df['due_in_date'] - df['baseline_create_date']).dt.days\n",
    "\n",
    "#due term --. no of days the customer has to pay after the creation of invoice"
   ]
  },
  {
   "cell_type": "code",
   "execution_count": 507,
   "id": "e0682575",
   "metadata": {},
   "outputs": [
    {
     "data": {
      "text/html": [
       "<div>\n",
       "<style scoped>\n",
       "    .dataframe tbody tr th:only-of-type {\n",
       "        vertical-align: middle;\n",
       "    }\n",
       "\n",
       "    .dataframe tbody tr th {\n",
       "        vertical-align: top;\n",
       "    }\n",
       "\n",
       "    .dataframe thead th {\n",
       "        text-align: right;\n",
       "    }\n",
       "</style>\n",
       "<table border=\"1\" class=\"dataframe\">\n",
       "  <thead>\n",
       "    <tr style=\"text-align: right;\">\n",
       "      <th></th>\n",
       "      <th>business_code</th>\n",
       "      <th>cust_number</th>\n",
       "      <th>clear_date</th>\n",
       "      <th>buisness_year</th>\n",
       "      <th>document_create_date.1</th>\n",
       "      <th>due_in_date</th>\n",
       "      <th>invoice_currency</th>\n",
       "      <th>total_open_amount</th>\n",
       "      <th>baseline_create_date</th>\n",
       "      <th>cust_payment_terms</th>\n",
       "      <th>delay</th>\n",
       "      <th>due_term</th>\n",
       "    </tr>\n",
       "  </thead>\n",
       "  <tbody>\n",
       "    <tr>\n",
       "      <th>45921</th>\n",
       "      <td>U001</td>\n",
       "      <td>0200726979</td>\n",
       "      <td>2019-01-15</td>\n",
       "      <td>2019.0</td>\n",
       "      <td>2018-12-30</td>\n",
       "      <td>2019-01-14</td>\n",
       "      <td>USD</td>\n",
       "      <td>190.38</td>\n",
       "      <td>2018-12-30</td>\n",
       "      <td>NAA8</td>\n",
       "      <td>1</td>\n",
       "      <td>15</td>\n",
       "    </tr>\n",
       "    <tr>\n",
       "      <th>7889</th>\n",
       "      <td>U001</td>\n",
       "      <td>0200769623</td>\n",
       "      <td>2019-01-10</td>\n",
       "      <td>2019.0</td>\n",
       "      <td>2018-12-30</td>\n",
       "      <td>2019-01-14</td>\n",
       "      <td>USD</td>\n",
       "      <td>26504.09</td>\n",
       "      <td>2018-12-30</td>\n",
       "      <td>NAH4</td>\n",
       "      <td>-4</td>\n",
       "      <td>15</td>\n",
       "    </tr>\n",
       "    <tr>\n",
       "      <th>10089</th>\n",
       "      <td>U001</td>\n",
       "      <td>0200799367</td>\n",
       "      <td>2019-01-14</td>\n",
       "      <td>2019.0</td>\n",
       "      <td>2018-12-30</td>\n",
       "      <td>2019-01-14</td>\n",
       "      <td>USD</td>\n",
       "      <td>93297.94</td>\n",
       "      <td>2018-12-30</td>\n",
       "      <td>NAA8</td>\n",
       "      <td>0</td>\n",
       "      <td>15</td>\n",
       "    </tr>\n",
       "    <tr>\n",
       "      <th>27283</th>\n",
       "      <td>U001</td>\n",
       "      <td>0200744019</td>\n",
       "      <td>2019-01-22</td>\n",
       "      <td>2019.0</td>\n",
       "      <td>2018-12-30</td>\n",
       "      <td>2019-01-14</td>\n",
       "      <td>USD</td>\n",
       "      <td>1372.00</td>\n",
       "      <td>2018-12-30</td>\n",
       "      <td>NAA8</td>\n",
       "      <td>8</td>\n",
       "      <td>15</td>\n",
       "    </tr>\n",
       "    <tr>\n",
       "      <th>44646</th>\n",
       "      <td>U001</td>\n",
       "      <td>0200769623</td>\n",
       "      <td>2019-01-15</td>\n",
       "      <td>2019.0</td>\n",
       "      <td>2018-12-30</td>\n",
       "      <td>2019-01-14</td>\n",
       "      <td>USD</td>\n",
       "      <td>25682.30</td>\n",
       "      <td>2018-12-30</td>\n",
       "      <td>NAH4</td>\n",
       "      <td>1</td>\n",
       "      <td>15</td>\n",
       "    </tr>\n",
       "  </tbody>\n",
       "</table>\n",
       "</div>"
      ],
      "text/plain": [
       "      business_code cust_number clear_date  buisness_year  \\\n",
       "45921          U001  0200726979 2019-01-15         2019.0   \n",
       "7889           U001  0200769623 2019-01-10         2019.0   \n",
       "10089          U001  0200799367 2019-01-14         2019.0   \n",
       "27283          U001  0200744019 2019-01-22         2019.0   \n",
       "44646          U001  0200769623 2019-01-15         2019.0   \n",
       "\n",
       "      document_create_date.1 due_in_date invoice_currency  total_open_amount  \\\n",
       "45921             2018-12-30  2019-01-14              USD             190.38   \n",
       "7889              2018-12-30  2019-01-14              USD           26504.09   \n",
       "10089             2018-12-30  2019-01-14              USD           93297.94   \n",
       "27283             2018-12-30  2019-01-14              USD            1372.00   \n",
       "44646             2018-12-30  2019-01-14              USD           25682.30   \n",
       "\n",
       "      baseline_create_date cust_payment_terms  delay  due_term  \n",
       "45921           2018-12-30               NAA8      1        15  \n",
       "7889            2018-12-30               NAH4     -4        15  \n",
       "10089           2018-12-30               NAA8      0        15  \n",
       "27283           2018-12-30               NAA8      8        15  \n",
       "44646           2018-12-30               NAH4      1        15  "
      ]
     },
     "execution_count": 507,
     "metadata": {},
     "output_type": "execute_result"
    }
   ],
   "source": [
    "df.head(5)"
   ]
  },
  {
   "cell_type": "code",
   "execution_count": 508,
   "id": "f5e5825e",
   "metadata": {},
   "outputs": [],
   "source": [
    "# Spilt the data without target column and just a target column\n",
    "# X--> without target variable 'delay'\n",
    "# y--> only tagert varible 'delay'\n",
    "X = df.drop('delay',axis=1)\n",
    "y = df['delay']"
   ]
  },
  {
   "cell_type": "code",
   "execution_count": 509,
   "id": "62f7da98",
   "metadata": {},
   "outputs": [],
   "source": [
    "X_train,X_test,y_train,y_test = train_test_split(X,y,test_size=0.3,random_state=0 , shuffle = False)\n",
    "X_val,X_test,y_val,y_test = train_test_split(X_test,y_test,test_size=0.5,random_state=0 , shuffle = False)"
   ]
  },
  {
   "cell_type": "code",
   "execution_count": 510,
   "id": "cef7cd16",
   "metadata": {},
   "outputs": [
    {
     "data": {
      "text/plain": [
       "((27999, 11), (6000, 11), (6000, 11))"
      ]
     },
     "execution_count": 510,
     "metadata": {},
     "output_type": "execute_result"
    }
   ],
   "source": [
    "X_train.shape , X_val.shape , X_test.shape"
   ]
  },
  {
   "cell_type": "markdown",
   "id": "9f13de10",
   "metadata": {},
   "source": [
    "# Exploratory Data Analysis"
   ]
  },
  {
   "cell_type": "code",
   "execution_count": 511,
   "id": "0687b1e6",
   "metadata": {},
   "outputs": [
    {
     "data": {
      "text/html": [
       "<div>\n",
       "<style scoped>\n",
       "    .dataframe tbody tr th:only-of-type {\n",
       "        vertical-align: middle;\n",
       "    }\n",
       "\n",
       "    .dataframe tbody tr th {\n",
       "        vertical-align: top;\n",
       "    }\n",
       "\n",
       "    .dataframe thead th {\n",
       "        text-align: right;\n",
       "    }\n",
       "</style>\n",
       "<table border=\"1\" class=\"dataframe\">\n",
       "  <thead>\n",
       "    <tr style=\"text-align: right;\">\n",
       "      <th></th>\n",
       "      <th>business_code</th>\n",
       "      <th>cust_number</th>\n",
       "      <th>clear_date</th>\n",
       "      <th>buisness_year</th>\n",
       "      <th>document_create_date.1</th>\n",
       "      <th>due_in_date</th>\n",
       "      <th>invoice_currency</th>\n",
       "      <th>total_open_amount</th>\n",
       "      <th>baseline_create_date</th>\n",
       "      <th>cust_payment_terms</th>\n",
       "      <th>due_term</th>\n",
       "      <th>delay</th>\n",
       "    </tr>\n",
       "  </thead>\n",
       "  <tbody>\n",
       "    <tr>\n",
       "      <th>0</th>\n",
       "      <td>U001</td>\n",
       "      <td>0200726979</td>\n",
       "      <td>2019-01-15</td>\n",
       "      <td>2019.0</td>\n",
       "      <td>2018-12-30</td>\n",
       "      <td>2019-01-14</td>\n",
       "      <td>USD</td>\n",
       "      <td>190.38</td>\n",
       "      <td>2018-12-30</td>\n",
       "      <td>NAA8</td>\n",
       "      <td>15</td>\n",
       "      <td>1</td>\n",
       "    </tr>\n",
       "    <tr>\n",
       "      <th>1</th>\n",
       "      <td>U001</td>\n",
       "      <td>0200769623</td>\n",
       "      <td>2019-01-10</td>\n",
       "      <td>2019.0</td>\n",
       "      <td>2018-12-30</td>\n",
       "      <td>2019-01-14</td>\n",
       "      <td>USD</td>\n",
       "      <td>26504.09</td>\n",
       "      <td>2018-12-30</td>\n",
       "      <td>NAH4</td>\n",
       "      <td>15</td>\n",
       "      <td>-4</td>\n",
       "    </tr>\n",
       "    <tr>\n",
       "      <th>2</th>\n",
       "      <td>U001</td>\n",
       "      <td>0200799367</td>\n",
       "      <td>2019-01-14</td>\n",
       "      <td>2019.0</td>\n",
       "      <td>2018-12-30</td>\n",
       "      <td>2019-01-14</td>\n",
       "      <td>USD</td>\n",
       "      <td>93297.94</td>\n",
       "      <td>2018-12-30</td>\n",
       "      <td>NAA8</td>\n",
       "      <td>15</td>\n",
       "      <td>0</td>\n",
       "    </tr>\n",
       "    <tr>\n",
       "      <th>3</th>\n",
       "      <td>U001</td>\n",
       "      <td>0200744019</td>\n",
       "      <td>2019-01-22</td>\n",
       "      <td>2019.0</td>\n",
       "      <td>2018-12-30</td>\n",
       "      <td>2019-01-14</td>\n",
       "      <td>USD</td>\n",
       "      <td>1372.00</td>\n",
       "      <td>2018-12-30</td>\n",
       "      <td>NAA8</td>\n",
       "      <td>15</td>\n",
       "      <td>8</td>\n",
       "    </tr>\n",
       "    <tr>\n",
       "      <th>4</th>\n",
       "      <td>U001</td>\n",
       "      <td>0200769623</td>\n",
       "      <td>2019-01-15</td>\n",
       "      <td>2019.0</td>\n",
       "      <td>2018-12-30</td>\n",
       "      <td>2019-01-14</td>\n",
       "      <td>USD</td>\n",
       "      <td>25682.30</td>\n",
       "      <td>2018-12-30</td>\n",
       "      <td>NAH4</td>\n",
       "      <td>15</td>\n",
       "      <td>1</td>\n",
       "    </tr>\n",
       "  </tbody>\n",
       "</table>\n",
       "</div>"
      ],
      "text/plain": [
       "  business_code cust_number clear_date  buisness_year document_create_date.1  \\\n",
       "0          U001  0200726979 2019-01-15         2019.0             2018-12-30   \n",
       "1          U001  0200769623 2019-01-10         2019.0             2018-12-30   \n",
       "2          U001  0200799367 2019-01-14         2019.0             2018-12-30   \n",
       "3          U001  0200744019 2019-01-22         2019.0             2018-12-30   \n",
       "4          U001  0200769623 2019-01-15         2019.0             2018-12-30   \n",
       "\n",
       "  due_in_date invoice_currency  total_open_amount baseline_create_date  \\\n",
       "0  2019-01-14              USD             190.38           2018-12-30   \n",
       "1  2019-01-14              USD           26504.09           2018-12-30   \n",
       "2  2019-01-14              USD           93297.94           2018-12-30   \n",
       "3  2019-01-14              USD            1372.00           2018-12-30   \n",
       "4  2019-01-14              USD           25682.30           2018-12-30   \n",
       "\n",
       "  cust_payment_terms  due_term  delay  \n",
       "0               NAA8        15      1  \n",
       "1               NAH4        15     -4  \n",
       "2               NAA8        15      0  \n",
       "3               NAA8        15      8  \n",
       "4               NAH4        15      1  "
      ]
     },
     "execution_count": 511,
     "metadata": {},
     "output_type": "execute_result"
    }
   ],
   "source": [
    "# merge the X_train and y_train for EDA\n",
    "df_eda=X_train.merge(y_train,on = X_train.index)\n",
    "df_eda.drop(columns=['key_0'],axis=1,inplace=True)\n",
    "df_eda.head(5)"
   ]
  },
  {
   "cell_type": "markdown",
   "id": "b0b64ece",
   "metadata": {},
   "source": [
    "## Numerical Variables"
   ]
  },
  {
   "cell_type": "markdown",
   "id": "fce63b41",
   "metadata": {},
   "source": [
    "### Continous Variables"
   ]
  },
  {
   "cell_type": "code",
   "execution_count": 512,
   "id": "936be1a9",
   "metadata": {},
   "outputs": [],
   "source": [
    "#compare_feature=['business_code','buisness_year','delay','due_term']"
   ]
  },
  {
   "cell_type": "code",
   "execution_count": 513,
   "id": "3a9ebdfd",
   "metadata": {},
   "outputs": [
    {
     "data": {
      "text/plain": [
       "count    27999.000000\n",
       "mean         1.183149\n",
       "std         11.317778\n",
       "min        -89.000000\n",
       "25%         -3.000000\n",
       "50%          0.000000\n",
       "75%          2.000000\n",
       "max        300.000000\n",
       "Name: delay, dtype: float64"
      ]
     },
     "execution_count": 513,
     "metadata": {},
     "output_type": "execute_result"
    }
   ],
   "source": [
    "df_eda['delay'].describe()"
   ]
  },
  {
   "cell_type": "markdown",
   "id": "0c09bde7",
   "metadata": {},
   "source": [
    "We see that max delay is 300 days and there is payement of (min) 89 days before due date\n"
   ]
  },
  {
   "cell_type": "markdown",
   "id": "691408d7",
   "metadata": {},
   "source": [
    "The mean delay is 1"
   ]
  },
  {
   "cell_type": "code",
   "execution_count": 514,
   "id": "f01f5419",
   "metadata": {},
   "outputs": [
    {
     "data": {
      "text/plain": [
       "<AxesSubplot:xlabel='delay', ylabel='Density'>"
      ]
     },
     "execution_count": 514,
     "metadata": {},
     "output_type": "execute_result"
    },
    {
     "data": {
      "image/png": "[encoded data removed]",
      "text/plain": [
       "<Figure size 432x288 with 1 Axes>"
      ]
     },
     "metadata": {
      "needs_background": "light"
     },
     "output_type": "display_data"
    }
   ],
   "source": [
    "# we can clearly see the how the distrubution is there through sns.displot\n",
    "sns.distplot(df_eda['delay'])"
   ]
  },
  {
   "cell_type": "code",
   "execution_count": 515,
   "id": "0f8e635d",
   "metadata": {},
   "outputs": [
    {
     "data": {
      "text/plain": [
       "count     27999.000000\n",
       "mean      31744.655862\n",
       "std       39654.680821\n",
       "min           0.650000\n",
       "25%        4607.930000\n",
       "50%       16966.480000\n",
       "75%       45529.460000\n",
       "max      436544.160000\n",
       "Name: total_open_amount, dtype: float64"
      ]
     },
     "execution_count": 515,
     "metadata": {},
     "output_type": "execute_result"
    }
   ],
   "source": [
    "df_eda['total_open_amount'].describe()"
   ]
  },
  {
   "cell_type": "code",
   "execution_count": 516,
   "id": "4e3d4bef",
   "metadata": {},
   "outputs": [
    {
     "data": {
      "text/plain": [
       "<AxesSubplot:xlabel='total_open_amount', ylabel='Density'>"
      ]
     },
     "execution_count": 516,
     "metadata": {},
     "output_type": "execute_result"
    },
    {
     "data": {
      "image/png": "[encoded data removed]",
      "text/plain": [
       "<Figure size 432x288 with 1 Axes>"
      ]
     },
     "metadata": {
      "needs_background": "light"
     },
     "output_type": "display_data"
    }
   ],
   "source": [
    "sns.distplot(df_eda['total_open_amount'])"
   ]
  },
  {
   "cell_type": "markdown",
   "id": "9d6d9066",
   "metadata": {},
   "source": [
    "We see the amount column is right skewed distribution"
   ]
  },
  {
   "cell_type": "code",
   "execution_count": 517,
   "id": "cf6cd01b",
   "metadata": {},
   "outputs": [
    {
     "data": {
      "image/png": "[encoded data removed]",
      "text/plain": [
       "<Figure size 432x288 with 1 Axes>"
      ]
     },
     "metadata": {
      "needs_background": "light"
     },
     "output_type": "display_data"
    }
   ],
   "source": [
    "df_eda1=df_eda.copy()\n",
    "df_eda1['total_open_amount'].hist(bins=25)\n",
    "plt.xlabel('total_open_amount')\n",
    "plt.ylabel(\"Count\")\n",
    "plt.title('total_open_amount')\n",
    "plt.show()"
   ]
  },
  {
   "cell_type": "markdown",
   "id": "f9630ad0",
   "metadata": {},
   "source": [
    "We can see the more number  of counts for low amount"
   ]
  },
  {
   "cell_type": "code",
   "execution_count": 518,
   "id": "96f687aa",
   "metadata": {},
   "outputs": [
    {
     "data": {
      "image/png": "[encoded data removed]",
      "text/plain": [
       "<Figure size 432x288 with 1 Axes>"
      ]
     },
     "metadata": {
      "needs_background": "light"
     },
     "output_type": "display_data"
    }
   ],
   "source": [
    "df_eda1=df_eda.copy()\n",
    "df_eda1['delay'].hist(bins=25)\n",
    "plt.xlabel('delay')\n",
    "plt.ylabel(\"Count\")\n",
    "plt.title('delay')\n",
    "plt.show()"
   ]
  },
  {
   "cell_type": "markdown",
   "id": "4380dff9",
   "metadata": {},
   "source": [
    "The values for 0-1 day delay is high. Most of the payments are done in due in date"
   ]
  },
  {
   "cell_type": "markdown",
   "id": "c852021f",
   "metadata": {},
   "source": [
    "### Categorical Variables"
   ]
  },
  {
   "cell_type": "code",
   "execution_count": 519,
   "id": "e029cd06",
   "metadata": {},
   "outputs": [],
   "source": [
    "categorical_features=['business_code','cust_payment_terms']"
   ]
  },
  {
   "cell_type": "code",
   "execution_count": 520,
   "id": "eff47ca2",
   "metadata": {},
   "outputs": [
    {
     "data": {
      "image/png": "[encoded data removed]",
      "text/plain": [
       "<Figure size 1080x576 with 1 Axes>"
      ]
     },
     "metadata": {
      "needs_background": "light"
     },
     "output_type": "display_data"
    },
    {
     "data": {
      "text/plain": [
       "<Figure size 1440x1440 with 0 Axes>"
      ]
     },
     "metadata": {},
     "output_type": "display_data"
    },
    {
     "data": {
      "image/png": "[encoded data removed]",
      "text/plain": [
       "<Figure size 1080x576 with 1 Axes>"
      ]
     },
     "metadata": {
      "needs_background": "light"
     },
     "output_type": "display_data"
    },
    {
     "data": {
      "text/plain": [
       "<Figure size 1440x1440 with 0 Axes>"
      ]
     },
     "metadata": {},
     "output_type": "display_data"
    }
   ],
   "source": [
    "for feature in categorical_features:\n",
    "    df_eda1=df_eda.copy()\n",
    "    fig,ax = plt.subplots(figsize=(15,8))\n",
    "    df_eda1.groupby(feature)['delay'].median().plot.bar()\n",
    "    plt.xlabel(feature)\n",
    "    plt.ylabel('delay')\n",
    "    plt.title(feature)\n",
    "    plt.figure(figsize=(20,20))\n",
    "    plt.show()"
   ]
  },
  {
   "cell_type": "markdown",
   "id": "e7bd0ef2",
   "metadata": {},
   "source": [
    "From Bussiness code we see that some business code  does not have any delay.   \n",
    "From customer payment term we see some terms has large delay some has nil."
   ]
  },
  {
   "cell_type": "code",
   "execution_count": 521,
   "id": "b9a11833",
   "metadata": {
    "scrolled": true
   },
   "outputs": [
    {
     "data": {
      "image/png": "[encoded data removed]",
      "text/plain": [
       "<Figure size 432x288 with 1 Axes>"
      ]
     },
     "metadata": {
      "needs_background": "light"
     },
     "output_type": "display_data"
    },
    {
     "data": {
      "image/png": "[encoded data removed]",
      "text/plain": [
       "<Figure size 432x288 with 1 Axes>"
      ]
     },
     "metadata": {
      "needs_background": "light"
     },
     "output_type": "display_data"
    },
    {
     "data": {
      "image/png": "[encoded data removed]",
      "text/plain": [
       "<Figure size 432x288 with 1 Axes>"
      ]
     },
     "metadata": {
      "needs_background": "light"
     },
     "output_type": "display_data"
    },
    {
     "data": {
      "image/png": "[encoded data removed]",
      "text/plain": [
       "<Figure size 432x288 with 1 Axes>"
      ]
     },
     "metadata": {
      "needs_background": "light"
     },
     "output_type": "display_data"
    }
   ],
   "source": [
    "cat_feat = ['cust_number','business_code', 'total_open_amount', 'cust_payment_terms']\n",
    "for col in cat_feat:\n",
    "    plt.scatter(df_eda[col],df_eda['delay'],linewidth = .5)\n",
    "    plt.xlabel(col)\n",
    "    plt.ylabel('delay')\n",
    "    plt.show()"
   ]
  },
  {
   "cell_type": "markdown",
   "id": "c3e6ddcd",
   "metadata": {},
   "source": [
    "There is an outliers in al features."
   ]
  },
  {
   "cell_type": "markdown",
   "id": "0b0dac3d",
   "metadata": {},
   "source": [
    "There is constant in delay 0 for all the features  \n",
    "We have to do the encoding to these columns"
   ]
  },
  {
   "cell_type": "markdown",
   "id": "bce791ae",
   "metadata": {},
   "source": [
    "### Outliers"
   ]
  },
  {
   "cell_type": "code",
   "execution_count": 522,
   "id": "ce405251",
   "metadata": {},
   "outputs": [
    {
     "data": {
      "text/plain": [
       "<AxesSubplot:xlabel='total_open_amount'>"
      ]
     },
     "execution_count": 522,
     "metadata": {},
     "output_type": "execute_result"
    },
    {
     "data": {
      "image/png": "[encoded data removed]",
      "text/plain": [
       "<Figure size 432x288 with 1 Axes>"
      ]
     },
     "metadata": {
      "needs_background": "light"
     },
     "output_type": "display_data"
    }
   ],
   "source": [
    "sns.boxplot(data=df,x='total_open_amount')\n"
   ]
  },
  {
   "cell_type": "code",
   "execution_count": 523,
   "id": "b0359386",
   "metadata": {},
   "outputs": [
    {
     "data": {
      "text/plain": [
       "<AxesSubplot:xlabel='delay'>"
      ]
     },
     "execution_count": 523,
     "metadata": {},
     "output_type": "execute_result"
    },
    {
     "data": {
      "image/png": "[encoded data removed]",
      "text/plain": [
       "<Figure size 432x288 with 1 Axes>"
      ]
     },
     "metadata": {
      "needs_background": "light"
     },
     "output_type": "display_data"
    }
   ],
   "source": [
    "sns.boxplot(data=df,x='delay')"
   ]
  },
  {
   "cell_type": "markdown",
   "id": "b7460f1f",
   "metadata": {},
   "source": [
    "There is outliers in delay and amount"
   ]
  },
  {
   "cell_type": "code",
   "execution_count": 524,
   "id": "26e46ff4",
   "metadata": {},
   "outputs": [
    {
     "data": {
      "text/html": [
       "<div>\n",
       "<style scoped>\n",
       "    .dataframe tbody tr th:only-of-type {\n",
       "        vertical-align: middle;\n",
       "    }\n",
       "\n",
       "    .dataframe tbody tr th {\n",
       "        vertical-align: top;\n",
       "    }\n",
       "\n",
       "    .dataframe thead th {\n",
       "        text-align: right;\n",
       "    }\n",
       "</style>\n",
       "<table border=\"1\" class=\"dataframe\">\n",
       "  <thead>\n",
       "    <tr style=\"text-align: right;\">\n",
       "      <th></th>\n",
       "      <th>buisness_year</th>\n",
       "      <th>total_open_amount</th>\n",
       "      <th>due_term</th>\n",
       "      <th>delay</th>\n",
       "    </tr>\n",
       "  </thead>\n",
       "  <tbody>\n",
       "    <tr>\n",
       "      <th>count</th>\n",
       "      <td>27999.0</td>\n",
       "      <td>27999.000000</td>\n",
       "      <td>27999.000000</td>\n",
       "      <td>27999.000000</td>\n",
       "    </tr>\n",
       "    <tr>\n",
       "      <th>mean</th>\n",
       "      <td>2019.0</td>\n",
       "      <td>31744.655862</td>\n",
       "      <td>17.423837</td>\n",
       "      <td>1.183149</td>\n",
       "    </tr>\n",
       "    <tr>\n",
       "      <th>std</th>\n",
       "      <td>0.0</td>\n",
       "      <td>39654.680821</td>\n",
       "      <td>10.987312</td>\n",
       "      <td>11.317778</td>\n",
       "    </tr>\n",
       "    <tr>\n",
       "      <th>min</th>\n",
       "      <td>2019.0</td>\n",
       "      <td>0.650000</td>\n",
       "      <td>0.000000</td>\n",
       "      <td>-89.000000</td>\n",
       "    </tr>\n",
       "    <tr>\n",
       "      <th>25%</th>\n",
       "      <td>2019.0</td>\n",
       "      <td>4607.930000</td>\n",
       "      <td>15.000000</td>\n",
       "      <td>-3.000000</td>\n",
       "    </tr>\n",
       "    <tr>\n",
       "      <th>50%</th>\n",
       "      <td>2019.0</td>\n",
       "      <td>16966.480000</td>\n",
       "      <td>15.000000</td>\n",
       "      <td>0.000000</td>\n",
       "    </tr>\n",
       "    <tr>\n",
       "      <th>75%</th>\n",
       "      <td>2019.0</td>\n",
       "      <td>45529.460000</td>\n",
       "      <td>15.000000</td>\n",
       "      <td>2.000000</td>\n",
       "    </tr>\n",
       "    <tr>\n",
       "      <th>max</th>\n",
       "      <td>2019.0</td>\n",
       "      <td>436544.160000</td>\n",
       "      <td>120.000000</td>\n",
       "      <td>300.000000</td>\n",
       "    </tr>\n",
       "  </tbody>\n",
       "</table>\n",
       "</div>"
      ],
      "text/plain": [
       "       buisness_year  total_open_amount      due_term         delay\n",
       "count        27999.0       27999.000000  27999.000000  27999.000000\n",
       "mean          2019.0       31744.655862     17.423837      1.183149\n",
       "std              0.0       39654.680821     10.987312     11.317778\n",
       "min           2019.0           0.650000      0.000000    -89.000000\n",
       "25%           2019.0        4607.930000     15.000000     -3.000000\n",
       "50%           2019.0       16966.480000     15.000000      0.000000\n",
       "75%           2019.0       45529.460000     15.000000      2.000000\n",
       "max           2019.0      436544.160000    120.000000    300.000000"
      ]
     },
     "execution_count": 524,
     "metadata": {},
     "output_type": "execute_result"
    }
   ],
   "source": [
    "df_eda.describe()"
   ]
  },
  {
   "cell_type": "code",
   "execution_count": 525,
   "id": "48a50dd5",
   "metadata": {},
   "outputs": [
    {
     "data": {
      "text/plain": [
       "(39999, 12)"
      ]
     },
     "execution_count": 525,
     "metadata": {},
     "output_type": "execute_result"
    }
   ],
   "source": [
    "df.shape"
   ]
  },
  {
   "cell_type": "markdown",
   "id": "124d9ac0",
   "metadata": {},
   "source": [
    "Outlier detection with Percentile"
   ]
  },
  {
   "cell_type": "code",
   "execution_count": 526,
   "id": "f631d69b",
   "metadata": {},
   "outputs": [],
   "source": [
    "upper_lim = df_eda['total_open_amount'].quantile(.95)\n",
    "lower_lim = df_eda['total_open_amount'].quantile(.05)"
   ]
  },
  {
   "cell_type": "code",
   "execution_count": 527,
   "id": "fdc40aa3",
   "metadata": {},
   "outputs": [
    {
     "data": {
      "text/plain": [
       "25199"
      ]
     },
     "execution_count": 527,
     "metadata": {},
     "output_type": "execute_result"
    }
   ],
   "source": [
    "df_eda[(df_eda['total_open_amount'] < upper_lim) & (df_eda['total_open_amount'] > lower_lim)].value_counts().sum()"
   ]
  },
  {
   "cell_type": "markdown",
   "id": "9565fdd2",
   "metadata": {},
   "source": [
    "Outlier detection with Standard deviation"
   ]
  },
  {
   "cell_type": "code",
   "execution_count": 528,
   "id": "790b8ca1",
   "metadata": {},
   "outputs": [
    {
     "name": "stdout",
     "output_type": "stream",
     "text": [
      "150708.69832373346\n",
      "-87219.38660045763\n"
     ]
    },
    {
     "data": {
      "text/plain": [
       "(None, None)"
      ]
     },
     "execution_count": 528,
     "metadata": {},
     "output_type": "execute_result"
    }
   ],
   "source": [
    "factor=3\n",
    "upper_lim = df_eda['total_open_amount'].mean () + df_eda['total_open_amount'].std () * factor\n",
    "lower_lim = df_eda['total_open_amount'].mean () - df_eda['total_open_amount'].std () * factor\n",
    "print(upper_lim),print(lower_lim)"
   ]
  },
  {
   "cell_type": "markdown",
   "id": "0bfd8b2f",
   "metadata": {},
   "source": [
    "### Removing the outlier  \n"
   ]
  },
  {
   "cell_type": "markdown",
   "id": "8f727c00",
   "metadata": {},
   "source": [
    "#### As open amount can help us to determine if the big amount is there then the we have to see how is the delay pattern.  "
   ]
  },
  {
   "cell_type": "markdown",
   "id": "4b663f1d",
   "metadata": {},
   "source": [
    "#### it will give the model a better information"
   ]
  },
  {
   "cell_type": "code",
   "execution_count": 529,
   "id": "5e51169b",
   "metadata": {},
   "outputs": [
    {
     "name": "stdout",
     "output_type": "stream",
     "text": [
      "<class 'pandas.core.frame.DataFrame'>\n",
      "Int64Index: 27999 entries, 45921 to 26932\n",
      "Data columns (total 11 columns):\n",
      " #   Column                  Non-Null Count  Dtype         \n",
      "---  ------                  --------------  -----         \n",
      " 0   business_code           27999 non-null  object        \n",
      " 1   cust_number             27999 non-null  object        \n",
      " 2   clear_date              27999 non-null  datetime64[ns]\n",
      " 3   buisness_year           27999 non-null  float64       \n",
      " 4   document_create_date.1  27999 non-null  datetime64[ns]\n",
      " 5   due_in_date             27999 non-null  datetime64[ns]\n",
      " 6   invoice_currency        27999 non-null  object        \n",
      " 7   total_open_amount       27999 non-null  float64       \n",
      " 8   baseline_create_date    27999 non-null  datetime64[ns]\n",
      " 9   cust_payment_terms      27999 non-null  object        \n",
      " 10  due_term                27999 non-null  int64         \n",
      "dtypes: datetime64[ns](4), float64(2), int64(1), object(4)\n",
      "memory usage: 2.6+ MB\n"
     ]
    }
   ],
   "source": [
    "X_train.info()"
   ]
  },
  {
   "cell_type": "code",
   "execution_count": 530,
   "id": "0deb6e22",
   "metadata": {},
   "outputs": [
    {
     "data": {
      "text/plain": [
       "array(['U001', 'CA02', 'U013', 'U002', 'Others'], dtype=object)"
      ]
     },
     "execution_count": 530,
     "metadata": {},
     "output_type": "execute_result"
    }
   ],
   "source": [
    "X_train['business_code'].unique()"
   ]
  },
  {
   "cell_type": "code",
   "execution_count": 531,
   "id": "fa267a5b",
   "metadata": {},
   "outputs": [
    {
     "data": {
      "text/plain": [
       "array(['NAA8', 'NAH4', 'NAG2', 'CA10', 'NAD5', 'NAU5', 'NAX2', 'NAC6',\n",
       "       'NAD1', 'NAAW', 'NAAX', 'NA32', 'NAUZ', 'NA3B', 'NA31', 'NA3F',\n",
       "       'NAM1', 'NAM4', 'C106', 'NAM2', 'NAVQ', 'NAWP', 'NA10', 'NAVF',\n",
       "       'NAVE', 'NAD4', 'BR56', 'NAVM', 'NA9X', 'NAB1', 'NA38', 'NAWM',\n",
       "       'NAUP', 'NABG', 'NACB', 'NAGD', 'CA30', 'NAV2', 'NAVL', 'NAVC',\n",
       "       'BR12', 'NA8Q', 'NATH', 'NAD8', 'NA25', 'NA84', 'NAM3', 'NAUX',\n",
       "       'CAX2', 'NATK', 'NAVR', 'NAWN', 'B052', 'NATL', 'NATM', 'NAVD',\n",
       "       'NAUW', 'NATU', 'NAWU', 'NATV'], dtype=object)"
      ]
     },
     "execution_count": 531,
     "metadata": {},
     "output_type": "execute_result"
    }
   ],
   "source": [
    "X_train['cust_payment_terms'].unique()\n"
   ]
  },
  {
   "cell_type": "code",
   "execution_count": 532,
   "id": "2158eaa7",
   "metadata": {},
   "outputs": [
    {
     "data": {
      "text/plain": [
       "array(['0200726979', '0200769623', '0200799367', ..., '0100046892',\n",
       "       '0100047366', '0200236570'], dtype=object)"
      ]
     },
     "execution_count": 532,
     "metadata": {},
     "output_type": "execute_result"
    }
   ],
   "source": [
    "X_train['cust_number'].unique()"
   ]
  },
  {
   "cell_type": "markdown",
   "id": "81f7831a",
   "metadata": {},
   "source": [
    "### Encoding"
   ]
  },
  {
   "cell_type": "code",
   "execution_count": 533,
   "id": "ed7b2667",
   "metadata": {},
   "outputs": [],
   "source": [
    "# this fuction will transform to label Encoder\n",
    "def transEncoder(df_enc,col):\n",
    "    label_encoder=LabelEncoder()\n",
    "    label_encoder.fit(df_enc[col])\n",
    "    df_enc[col+'_enc']=label_encoder.transform(df_enc[col])\n",
    "    return df_enc\n",
    "\n",
    "# each quique value is being assigned with numbers, for eg business code: 'U001'-'0', 'CA02'-'1', 'U013'-'2', 'U002'-'3', 'Others'-'4'"
   ]
  },
  {
   "cell_type": "code",
   "execution_count": 534,
   "id": "45b45a72",
   "metadata": {},
   "outputs": [],
   "source": [
    "# function will delete a column from train , val and test\n",
    "def delete_col(col ,traindf = X_train,valdf = X_val,testdf = X_test):\n",
    "    traindf.drop(col, axis =1,inplace=True)\n",
    "    valdf.drop(col,axis=1 , inplace=True)\n",
    "    testdf.drop(col,axis=1 , inplace=True)\n",
    "\n",
    "    return traindf,valdf ,testdf"
   ]
  },
  {
   "cell_type": "code",
   "execution_count": 535,
   "id": "0aebf833",
   "metadata": {},
   "outputs": [],
   "source": [
    "cat_column=['cust_number','business_code','cust_payment_terms','invoice_currency']\n",
    "for col in cat_column:\n",
    "    X_train=transEncoder(X_train,col)\n",
    "    X_test=transEncoder(X_test,col)\n",
    "    X_val=transEncoder(X_val,col)\n",
    "    X_train ,X_val, X_test = delete_col(col)\n",
    "# ecah categorical columns is label encoded and real column is drop.\n",
    "# main motive is to change the string type into integer type so that machine algo can understand"
   ]
  },
  {
   "cell_type": "code",
   "execution_count": 536,
   "id": "02325e9f",
   "metadata": {},
   "outputs": [],
   "source": [
    "# Here we are droping the clear date as it is not requied -- it will overfit the model\n",
    "\n",
    "X_train ,X_val, X_test = delete_col('clear_date')"
   ]
  },
  {
   "cell_type": "code",
   "execution_count": 537,
   "id": "c714eb0a",
   "metadata": {},
   "outputs": [
    {
     "name": "stdout",
     "output_type": "stream",
     "text": [
      "<class 'pandas.core.frame.DataFrame'>\n",
      "Int64Index: 27999 entries, 45921 to 26932\n",
      "Data columns (total 10 columns):\n",
      " #   Column                  Non-Null Count  Dtype         \n",
      "---  ------                  --------------  -----         \n",
      " 0   buisness_year           27999 non-null  float64       \n",
      " 1   document_create_date.1  27999 non-null  datetime64[ns]\n",
      " 2   due_in_date             27999 non-null  datetime64[ns]\n",
      " 3   total_open_amount       27999 non-null  float64       \n",
      " 4   baseline_create_date    27999 non-null  datetime64[ns]\n",
      " 5   due_term                27999 non-null  int64         \n",
      " 6   cust_number_enc         27999 non-null  int32         \n",
      " 7   business_code_enc       27999 non-null  int32         \n",
      " 8   cust_payment_terms_enc  27999 non-null  int32         \n",
      " 9   invoice_currency_enc    27999 non-null  int32         \n",
      "dtypes: datetime64[ns](3), float64(2), int32(4), int64(1)\n",
      "memory usage: 1.9 MB\n"
     ]
    }
   ],
   "source": [
    "X_train.info()"
   ]
  },
  {
   "cell_type": "code",
   "execution_count": 538,
   "id": "f65f8abe",
   "metadata": {},
   "outputs": [],
   "source": [
    "# wrote a custom function to do a status check  on all the dataframes \n",
    "def status_check(traindf = X_train,valdf = X_val,testdf = X_test):\n",
    "    print(traindf.info())\n",
    "    print(\"****************************\")\n",
    "    print(traindf.shape,valdf.shape,testdf.shape)\n",
    "    print(\"************Train Null Count****************\")\n",
    "    print(traindf.isna().sum())\n",
    "    print(\"************Test Null Count ****************\")\n",
    "    print(testdf.isna().sum())    \n",
    "    print(\"************Val Null Count ****************\")\n",
    "    print(valdf.isna().sum())"
   ]
  },
  {
   "cell_type": "code",
   "execution_count": 539,
   "id": "cc580bd3",
   "metadata": {},
   "outputs": [
    {
     "name": "stdout",
     "output_type": "stream",
     "text": [
      "<class 'pandas.core.frame.DataFrame'>\n",
      "Int64Index: 27999 entries, 45921 to 26932\n",
      "Data columns (total 10 columns):\n",
      " #   Column                  Non-Null Count  Dtype         \n",
      "---  ------                  --------------  -----         \n",
      " 0   buisness_year           27999 non-null  float64       \n",
      " 1   document_create_date.1  27999 non-null  datetime64[ns]\n",
      " 2   due_in_date             27999 non-null  datetime64[ns]\n",
      " 3   total_open_amount       27999 non-null  float64       \n",
      " 4   baseline_create_date    27999 non-null  datetime64[ns]\n",
      " 5   due_term                27999 non-null  int64         \n",
      " 6   cust_number_enc         27999 non-null  int32         \n",
      " 7   business_code_enc       27999 non-null  int32         \n",
      " 8   cust_payment_terms_enc  27999 non-null  int32         \n",
      " 9   invoice_currency_enc    27999 non-null  int32         \n",
      "dtypes: datetime64[ns](3), float64(2), int32(4), int64(1)\n",
      "memory usage: 1.9 MB\n",
      "None\n",
      "****************************\n",
      "(27999, 10) (6000, 10) (6000, 10)\n",
      "************Train Null Count****************\n",
      "buisness_year             0\n",
      "document_create_date.1    0\n",
      "due_in_date               0\n",
      "total_open_amount         0\n",
      "baseline_create_date      0\n",
      "due_term                  0\n",
      "cust_number_enc           0\n",
      "business_code_enc         0\n",
      "cust_payment_terms_enc    0\n",
      "invoice_currency_enc      0\n",
      "dtype: int64\n",
      "************Test Null Count ****************\n",
      "buisness_year             0\n",
      "document_create_date.1    0\n",
      "due_in_date               0\n",
      "total_open_amount         0\n",
      "baseline_create_date      0\n",
      "due_term                  0\n",
      "cust_number_enc           0\n",
      "business_code_enc         0\n",
      "cust_payment_terms_enc    0\n",
      "invoice_currency_enc      0\n",
      "dtype: int64\n",
      "************Val Null Count ****************\n",
      "buisness_year             0\n",
      "document_create_date.1    0\n",
      "due_in_date               0\n",
      "total_open_amount         0\n",
      "baseline_create_date      0\n",
      "due_term                  0\n",
      "cust_number_enc           0\n",
      "business_code_enc         0\n",
      "cust_payment_terms_enc    0\n",
      "invoice_currency_enc      0\n",
      "dtype: int64\n"
     ]
    }
   ],
   "source": [
    "status_check()"
   ]
  },
  {
   "cell_type": "code",
   "execution_count": 540,
   "id": "045f3999",
   "metadata": {},
   "outputs": [],
   "source": [
    "def dayMonthYearConv(col ,traindf = X_train,valdf = X_val,testdf = X_test):\n",
    "    traindf[col+'.day'] = traindf[col].dt.day\n",
    "    traindf[col+'.month'] = traindf[col].dt.month\n",
    "    traindf[col+'.year'] = traindf[col].dt.year\n",
    "    \n",
    "    valdf[col+'.day'] = valdf[col].dt.day\n",
    "    valdf[col+'.month'] = valdf[col].dt.month\n",
    "    valdf[col+'.year'] = valdf[col].dt.year\n",
    "    \n",
    "    testdf[col+'.day'] = testdf[col].dt.day\n",
    "    testdf[col+'.month'] = testdf[col].dt.month\n",
    "    testdf[col+'.year'] = testdf[col].dt.year\n",
    "    \n",
    "    return traindf,valdf ,testdf\n",
    "\n",
    "# this fuction change the dimedelta columns into day,month ,week columns so that it changes to inetger format and three dataset"
   ]
  },
  {
   "cell_type": "code",
   "execution_count": 541,
   "id": "ed1bfc53",
   "metadata": {},
   "outputs": [],
   "source": [
    "X_train ,X_val, X_test = dayMonthYearConv('baseline_create_date')\n",
    "X_train ,X_val, X_test = dayMonthYearConv('due_in_date')\n",
    "X_train ,X_val, X_test = dayMonthYearConv('document_create_date.1')\n",
    "#create a cloumn day month year"
   ]
  },
  {
   "cell_type": "code",
   "execution_count": 542,
   "id": "a9d86727",
   "metadata": {},
   "outputs": [],
   "source": [
    "X_train ,X_val, X_test = delete_col('baseline_create_date')\n",
    "X_train ,X_val, X_test = delete_col('due_in_date')\n",
    "X_train ,X_val, X_test = delete_col('document_create_date.1')\n",
    "# drop the original column"
   ]
  },
  {
   "cell_type": "code",
   "execution_count": 543,
   "id": "04f662fd",
   "metadata": {},
   "outputs": [
    {
     "name": "stdout",
     "output_type": "stream",
     "text": [
      "<class 'pandas.core.frame.DataFrame'>\n",
      "Int64Index: 27999 entries, 45921 to 26932\n",
      "Data columns (total 16 columns):\n",
      " #   Column                        Non-Null Count  Dtype  \n",
      "---  ------                        --------------  -----  \n",
      " 0   buisness_year                 27999 non-null  float64\n",
      " 1   total_open_amount             27999 non-null  float64\n",
      " 2   due_term                      27999 non-null  int64  \n",
      " 3   cust_number_enc               27999 non-null  int32  \n",
      " 4   business_code_enc             27999 non-null  int32  \n",
      " 5   cust_payment_terms_enc        27999 non-null  int32  \n",
      " 6   invoice_currency_enc          27999 non-null  int32  \n",
      " 7   baseline_create_date.day      27999 non-null  int64  \n",
      " 8   baseline_create_date.month    27999 non-null  int64  \n",
      " 9   baseline_create_date.year     27999 non-null  int64  \n",
      " 10  due_in_date.day               27999 non-null  int64  \n",
      " 11  due_in_date.month             27999 non-null  int64  \n",
      " 12  due_in_date.year              27999 non-null  int64  \n",
      " 13  document_create_date.1.day    27999 non-null  int64  \n",
      " 14  document_create_date.1.month  27999 non-null  int64  \n",
      " 15  document_create_date.1.year   27999 non-null  int64  \n",
      "dtypes: float64(2), int32(4), int64(10)\n",
      "memory usage: 3.2 MB\n",
      "None\n",
      "****************************\n",
      "(27999, 16) (6000, 16) (6000, 16)\n",
      "************Train Null Count****************\n",
      "buisness_year                   0\n",
      "total_open_amount               0\n",
      "due_term                        0\n",
      "cust_number_enc                 0\n",
      "business_code_enc               0\n",
      "cust_payment_terms_enc          0\n",
      "invoice_currency_enc            0\n",
      "baseline_create_date.day        0\n",
      "baseline_create_date.month      0\n",
      "baseline_create_date.year       0\n",
      "due_in_date.day                 0\n",
      "due_in_date.month               0\n",
      "due_in_date.year                0\n",
      "document_create_date.1.day      0\n",
      "document_create_date.1.month    0\n",
      "document_create_date.1.year     0\n",
      "dtype: int64\n",
      "************Test Null Count ****************\n",
      "buisness_year                   0\n",
      "total_open_amount               0\n",
      "due_term                        0\n",
      "cust_number_enc                 0\n",
      "business_code_enc               0\n",
      "cust_payment_terms_enc          0\n",
      "invoice_currency_enc            0\n",
      "baseline_create_date.day        0\n",
      "baseline_create_date.month      0\n",
      "baseline_create_date.year       0\n",
      "due_in_date.day                 0\n",
      "due_in_date.month               0\n",
      "due_in_date.year                0\n",
      "document_create_date.1.day      0\n",
      "document_create_date.1.month    0\n",
      "document_create_date.1.year     0\n",
      "dtype: int64\n",
      "************Val Null Count ****************\n",
      "buisness_year                   0\n",
      "total_open_amount               0\n",
      "due_term                        0\n",
      "cust_number_enc                 0\n",
      "business_code_enc               0\n",
      "cust_payment_terms_enc          0\n",
      "invoice_currency_enc            0\n",
      "baseline_create_date.day        0\n",
      "baseline_create_date.month      0\n",
      "baseline_create_date.year       0\n",
      "due_in_date.day                 0\n",
      "due_in_date.month               0\n",
      "due_in_date.year                0\n",
      "document_create_date.1.day      0\n",
      "document_create_date.1.month    0\n",
      "document_create_date.1.year     0\n",
      "dtype: int64\n"
     ]
    }
   ],
   "source": [
    "status_check()"
   ]
  },
  {
   "cell_type": "markdown",
   "id": "40b798ac",
   "metadata": {},
   "source": [
    "### CORRELATION MATRIX"
   ]
  },
  {
   "cell_type": "markdown",
   "id": "1bacb202",
   "metadata": {},
   "source": [
    "It is done to see how each column is realted to each other"
   ]
  },
  {
   "cell_type": "code",
   "execution_count": 544,
   "id": "2d0a76bf",
   "metadata": {},
   "outputs": [],
   "source": [
    "corrmat = X_train.merge(y_train , on = X_train.index).corr()\n",
    "#correaltion matrix is stored in corrmat"
   ]
  },
  {
   "cell_type": "code",
   "execution_count": 545,
   "id": "771f2d44",
   "metadata": {},
   "outputs": [
    {
     "data": {
      "text/plain": [
       "<AxesSubplot:>"
      ]
     },
     "execution_count": 545,
     "metadata": {},
     "output_type": "execute_result"
    },
    {
     "data": {
      "image/png": "[encoded data removed]",
      "text/plain": [
       "<Figure size 864x648 with 2 Axes>"
      ]
     },
     "metadata": {
      "needs_background": "light"
     },
     "output_type": "display_data"
    }
   ],
   "source": [
    "plt.subplots(figsize=(12,9))\n",
    "sns.heatmap(corrmat, vmax=0.9, square=True)\n",
    "# it gives the visulization form of correlation matrix i.e in heatmap"
   ]
  },
  {
   "cell_type": "code",
   "execution_count": 546,
   "id": "0de59044",
   "metadata": {},
   "outputs": [
    {
     "data": {
      "text/plain": [
       "<AxesSubplot:title={'center':'Pearson Correlation of Features'}>"
      ]
     },
     "execution_count": 546,
     "metadata": {},
     "output_type": "execute_result"
    },
    {
     "data": {
      "image/png": "[encoded data removed]",
      "text/plain": [
       "<Figure size 1008x864 with 2 Axes>"
      ]
     },
     "metadata": {
      "needs_background": "light"
     },
     "output_type": "display_data"
    }
   ],
   "source": [
    "colormap = plt.cm.RdBu\n",
    "plt.figure(figsize=(14,12))\n",
    "plt.title('Pearson Correlation of Features', y=1.05, size=15)\n",
    "sns.heatmap(X_train.merge(y_train , on = X_train.index ).corr(),linewidths=0.1,vmax=1.0, \n",
    "            square=True, cmap=colormap, linecolor='white', annot=True)\n",
    "# it gives pearson correation of features"
   ]
  },
  {
   "cell_type": "markdown",
   "id": "8946c4a8",
   "metadata": {},
   "source": [
    "#### here we can drop the business year column as it is consatnt"
   ]
  },
  {
   "cell_type": "markdown",
   "id": "b8a8b32b",
   "metadata": {},
   "source": [
    "Here we see the values ranges from -1 to 1 where:\n",
    "    -1 indicates a perfectly negative linear correlation between two variables\n",
    "    0 indicates no linear correlation between two variables\n",
    "    1 indicates a perfectly positive linear correlation between two variables\n",
    "For eg: We can say business code and invoice currency gives 0.92 means the =y are strongly positive correlated to\n",
    "each other"
   ]
  },
  {
   "cell_type": "markdown",
   "id": "58c35ab9",
   "metadata": {},
   "source": [
    "#### Removing The Quassi Constant"
   ]
  },
  {
   "cell_type": "code",
   "execution_count": 547,
   "id": "820bc92c",
   "metadata": {},
   "outputs": [
    {
     "data": {
      "text/plain": [
       "15"
      ]
     },
     "execution_count": 547,
     "metadata": {},
     "output_type": "execute_result"
    }
   ],
   "source": [
    "#Passing a value of zero for the parameter will filter all the features with zero variance\n",
    "constant_filter = VarianceThreshold(threshold=0)\n",
    "#we need to simply apply this filter to our training set\n",
    "constant_filter.fit(X_train)\n",
    "#the number of non-constant features.\n",
    "len(X_train.columns[constant_filter.get_support()])"
   ]
  },
  {
   "cell_type": "code",
   "execution_count": 548,
   "id": "f2d52fbc",
   "metadata": {},
   "outputs": [
    {
     "name": "stdout",
     "output_type": "stream",
     "text": [
      "1\n"
     ]
    }
   ],
   "source": [
    "constant_columns = [column for column in X_train.columns\n",
    "                    if column not in X_train.columns[constant_filter.get_support()]]\n",
    "\n",
    "print(len(constant_columns))"
   ]
  },
  {
   "cell_type": "code",
   "execution_count": 549,
   "id": "7f85a5e2",
   "metadata": {
    "scrolled": true
   },
   "outputs": [
    {
     "name": "stdout",
     "output_type": "stream",
     "text": [
      "0\n"
     ]
    }
   ],
   "source": [
    "# transpose the feature matrice\n",
    "X_train_T = X_train.T\n",
    "# print the number of duplicated features\n",
    "print(X_train_T.duplicated().sum())\n",
    "# select the duplicated features columns names\n",
    "duplicated_columns = X_train_T[X_train_T.duplicated()].index.values"
   ]
  },
  {
   "cell_type": "code",
   "execution_count": 550,
   "id": "f54c0a4c",
   "metadata": {},
   "outputs": [
    {
     "name": "stdout",
     "output_type": "stream",
     "text": [
      "<class 'pandas.core.frame.DataFrame'>\n",
      "Int64Index: 27999 entries, 45921 to 26932\n",
      "Data columns (total 16 columns):\n",
      " #   Column                        Non-Null Count  Dtype  \n",
      "---  ------                        --------------  -----  \n",
      " 0   buisness_year                 27999 non-null  float64\n",
      " 1   total_open_amount             27999 non-null  float64\n",
      " 2   due_term                      27999 non-null  int64  \n",
      " 3   cust_number_enc               27999 non-null  int32  \n",
      " 4   business_code_enc             27999 non-null  int32  \n",
      " 5   cust_payment_terms_enc        27999 non-null  int32  \n",
      " 6   invoice_currency_enc          27999 non-null  int32  \n",
      " 7   baseline_create_date.day      27999 non-null  int64  \n",
      " 8   baseline_create_date.month    27999 non-null  int64  \n",
      " 9   baseline_create_date.year     27999 non-null  int64  \n",
      " 10  due_in_date.day               27999 non-null  int64  \n",
      " 11  due_in_date.month             27999 non-null  int64  \n",
      " 12  due_in_date.year              27999 non-null  int64  \n",
      " 13  document_create_date.1.day    27999 non-null  int64  \n",
      " 14  document_create_date.1.month  27999 non-null  int64  \n",
      " 15  document_create_date.1.year   27999 non-null  int64  \n",
      "dtypes: float64(2), int32(4), int64(10)\n",
      "memory usage: 4.2 MB\n",
      "None\n",
      "****************************\n",
      "(27999, 16) (6000, 16) (6000, 16)\n",
      "************Train Null Count****************\n",
      "buisness_year                   0\n",
      "total_open_amount               0\n",
      "due_term                        0\n",
      "cust_number_enc                 0\n",
      "business_code_enc               0\n",
      "cust_payment_terms_enc          0\n",
      "invoice_currency_enc            0\n",
      "baseline_create_date.day        0\n",
      "baseline_create_date.month      0\n",
      "baseline_create_date.year       0\n",
      "due_in_date.day                 0\n",
      "due_in_date.month               0\n",
      "due_in_date.year                0\n",
      "document_create_date.1.day      0\n",
      "document_create_date.1.month    0\n",
      "document_create_date.1.year     0\n",
      "dtype: int64\n",
      "************Test Null Count ****************\n",
      "buisness_year                   0\n",
      "total_open_amount               0\n",
      "due_term                        0\n",
      "cust_number_enc                 0\n",
      "business_code_enc               0\n",
      "cust_payment_terms_enc          0\n",
      "invoice_currency_enc            0\n",
      "baseline_create_date.day        0\n",
      "baseline_create_date.month      0\n",
      "baseline_create_date.year       0\n",
      "due_in_date.day                 0\n",
      "due_in_date.month               0\n",
      "due_in_date.year                0\n",
      "document_create_date.1.day      0\n",
      "document_create_date.1.month    0\n",
      "document_create_date.1.year     0\n",
      "dtype: int64\n",
      "************Val Null Count ****************\n",
      "buisness_year                   0\n",
      "total_open_amount               0\n",
      "due_term                        0\n",
      "cust_number_enc                 0\n",
      "business_code_enc               0\n",
      "cust_payment_terms_enc          0\n",
      "invoice_currency_enc            0\n",
      "baseline_create_date.day        0\n",
      "baseline_create_date.month      0\n",
      "baseline_create_date.year       0\n",
      "due_in_date.day                 0\n",
      "due_in_date.month               0\n",
      "due_in_date.year                0\n",
      "document_create_date.1.day      0\n",
      "document_create_date.1.month    0\n",
      "document_create_date.1.year     0\n",
      "dtype: int64\n"
     ]
    }
   ],
   "source": [
    "status_check()"
   ]
  },
  {
   "cell_type": "code",
   "execution_count": 551,
   "id": "8eb784a9",
   "metadata": {},
   "outputs": [],
   "source": [
    "X_train,X_val ,X_test = delete_col(['buisness_year'])\n",
    "#business year column is droped"
   ]
  },
  {
   "cell_type": "code",
   "execution_count": 552,
   "id": "34e7b1bd",
   "metadata": {},
   "outputs": [],
   "source": [
    "X_train,X_val,X_test = delete_col(['baseline_create_date.month'])"
   ]
  },
  {
   "cell_type": "code",
   "execution_count": 553,
   "id": "b57640cd",
   "metadata": {},
   "outputs": [],
   "source": [
    "def handling_correlation(df,threshold=0.8):\n",
    "    # creating set to hold the correlated features\n",
    "    corr_features = set()\n",
    "    # create the correlation matrix (default to pearson)\n",
    "    corr_matrix = df.corr()\n",
    "    #code for selecting all correleated features\n",
    "    for i in range(len(corr_matrix .columns)):\n",
    "        for j in range(i):\n",
    "            if abs(corr_matrix.iloc[i, j]) >threshold:\n",
    "                colname = corr_matrix.columns[i]\n",
    "                corr_features.add(colname)\n",
    "    return list(corr_features)\n",
    "# this function will return the correlated columns having variance greater than 80"
   ]
  },
  {
   "cell_type": "code",
   "execution_count": 554,
   "id": "1ae23d62",
   "metadata": {},
   "outputs": [
    {
     "data": {
      "text/plain": [
       "['document_create_date.1.day',\n",
       " 'invoice_currency_enc',\n",
       " 'document_create_date.1.month',\n",
       " 'document_create_date.1.year']"
      ]
     },
     "execution_count": 554,
     "metadata": {},
     "output_type": "execute_result"
    }
   ],
   "source": [
    "handling_correlation(X_train.merge(y_train , on = X_train.index),0.85)\n",
    "# gives the columns having variance greater than 85"
   ]
  },
  {
   "cell_type": "code",
   "execution_count": 555,
   "id": "ad54666b",
   "metadata": {},
   "outputs": [],
   "source": [
    "train=X_train.merge(y_train , on = X_train.index)"
   ]
  },
  {
   "cell_type": "code",
   "execution_count": 556,
   "id": "f886b30f",
   "metadata": {},
   "outputs": [],
   "source": [
    "X_train_new=X_train.drop(['document_create_date.1.year','document_create_date.1.month'],axis=1)"
   ]
  },
  {
   "cell_type": "code",
   "execution_count": 557,
   "id": "24de1260",
   "metadata": {},
   "outputs": [
    {
     "data": {
      "text/plain": [
       "['document_create_date.1.day', 'invoice_currency_enc']"
      ]
     },
     "execution_count": 557,
     "metadata": {},
     "output_type": "execute_result"
    }
   ],
   "source": [
    "handling_correlation(X_train_new.copy(),0.85)\n",
    "# again correaltion graeter than 85 is found with droping the crrelated column\n",
    "# there is no change in correlated columns"
   ]
  },
  {
   "cell_type": "markdown",
   "id": "9c38d539",
   "metadata": {},
   "source": [
    "After removing these features the rmse and mse are high than the features intact with the dataframe"
   ]
  },
  {
   "cell_type": "code",
   "execution_count": 558,
   "id": "6e6548df",
   "metadata": {},
   "outputs": [
    {
     "name": "stdout",
     "output_type": "stream",
     "text": [
      "<class 'pandas.core.frame.DataFrame'>\n",
      "Int64Index: 27999 entries, 45921 to 26932\n",
      "Data columns (total 14 columns):\n",
      " #   Column                        Non-Null Count  Dtype  \n",
      "---  ------                        --------------  -----  \n",
      " 0   total_open_amount             27999 non-null  float64\n",
      " 1   due_term                      27999 non-null  int64  \n",
      " 2   cust_number_enc               27999 non-null  int32  \n",
      " 3   business_code_enc             27999 non-null  int32  \n",
      " 4   cust_payment_terms_enc        27999 non-null  int32  \n",
      " 5   invoice_currency_enc          27999 non-null  int32  \n",
      " 6   baseline_create_date.day      27999 non-null  int64  \n",
      " 7   baseline_create_date.year     27999 non-null  int64  \n",
      " 8   due_in_date.day               27999 non-null  int64  \n",
      " 9   due_in_date.month             27999 non-null  int64  \n",
      " 10  due_in_date.year              27999 non-null  int64  \n",
      " 11  document_create_date.1.day    27999 non-null  int64  \n",
      " 12  document_create_date.1.month  27999 non-null  int64  \n",
      " 13  document_create_date.1.year   27999 non-null  int64  \n",
      "dtypes: float64(1), int32(4), int64(9)\n",
      "memory usage: 3.8 MB\n",
      "None\n",
      "****************************\n",
      "(27999, 14) (6000, 14) (6000, 14)\n",
      "************Train Null Count****************\n",
      "total_open_amount               0\n",
      "due_term                        0\n",
      "cust_number_enc                 0\n",
      "business_code_enc               0\n",
      "cust_payment_terms_enc          0\n",
      "invoice_currency_enc            0\n",
      "baseline_create_date.day        0\n",
      "baseline_create_date.year       0\n",
      "due_in_date.day                 0\n",
      "due_in_date.month               0\n",
      "due_in_date.year                0\n",
      "document_create_date.1.day      0\n",
      "document_create_date.1.month    0\n",
      "document_create_date.1.year     0\n",
      "dtype: int64\n",
      "************Test Null Count ****************\n",
      "total_open_amount               0\n",
      "due_term                        0\n",
      "cust_number_enc                 0\n",
      "business_code_enc               0\n",
      "cust_payment_terms_enc          0\n",
      "invoice_currency_enc            0\n",
      "baseline_create_date.day        0\n",
      "baseline_create_date.year       0\n",
      "due_in_date.day                 0\n",
      "due_in_date.month               0\n",
      "due_in_date.year                0\n",
      "document_create_date.1.day      0\n",
      "document_create_date.1.month    0\n",
      "document_create_date.1.year     0\n",
      "dtype: int64\n",
      "************Val Null Count ****************\n",
      "total_open_amount               0\n",
      "due_term                        0\n",
      "cust_number_enc                 0\n",
      "business_code_enc               0\n",
      "cust_payment_terms_enc          0\n",
      "invoice_currency_enc            0\n",
      "baseline_create_date.day        0\n",
      "baseline_create_date.year       0\n",
      "due_in_date.day                 0\n",
      "due_in_date.month               0\n",
      "due_in_date.year                0\n",
      "document_create_date.1.day      0\n",
      "document_create_date.1.month    0\n",
      "document_create_date.1.year     0\n",
      "dtype: int64\n"
     ]
    }
   ],
   "source": [
    "status_check()"
   ]
  },
  {
   "cell_type": "markdown",
   "id": "39532219",
   "metadata": {},
   "source": [
    "# Model Prediction"
   ]
  },
  {
   "cell_type": "markdown",
   "id": "f96697af",
   "metadata": {},
   "source": [
    "Since we have to predict the date and the output variable is in continous nature. The datas are also in continuous.\n",
    "Thus we will use regression algorithms to predict the delay"
   ]
  },
  {
   "cell_type": "markdown",
   "id": "799bcfe0",
   "metadata": {},
   "source": [
    "### Linear Regression"
   ]
  },
  {
   "cell_type": "markdown",
   "id": "33df4904",
   "metadata": {},
   "source": [
    "Our goal is to forecast the delay so linear regression model is used fit model with train datas and the given delay from\n",
    "the dataset"
   ]
  },
  {
   "cell_type": "code",
   "execution_count": 559,
   "id": "06b12437",
   "metadata": {},
   "outputs": [],
   "source": [
    "# this fuction gives root mean squared value and mean squared value\n",
    "# mse = squared of mean \n",
    "# rmse =root squared of squared mean\n",
    "def errorCheck(y_test,y_predict):\n",
    "    mse=mean_squared_error(y_test,y_predict)\n",
    "    rmse=mean_squared_error(y_test,y_predict,squared=False)\n",
    "    print('mse,rmse: ')\n",
    "    return mse,rmse"
   ]
  },
  {
   "cell_type": "code",
   "execution_count": 560,
   "id": "73d4979d",
   "metadata": {},
   "outputs": [],
   "source": [
    "# Fitting Simple Linear Regression to the Training Set\n",
    "base_model = LinearRegression()\n",
    "base_model.fit(X_train, y_train)\n",
    "y_predict = base_model.predict(X_val)\n",
    "\n",
    "# we fit the model with the train dataset that doesnot have delay(X_train) and the dataset that only has delay(y_train)"
   ]
  },
  {
   "cell_type": "code",
   "execution_count": 561,
   "id": "e9cba843",
   "metadata": {},
   "outputs": [
    {
     "name": "stdout",
     "output_type": "stream",
     "text": [
      "mse,rmse: \n",
      "(207.8172496582806, 14.415867981439085)\n"
     ]
    }
   ],
   "source": [
    "print(errorCheck(y_test,y_predict))\n",
    "\n",
    "# find the mse and rmse with predicted values from the model and delay that is already given in the dataset(i.e; y_test) "
   ]
  },
  {
   "cell_type": "markdown",
   "id": "584c4a92",
   "metadata": {},
   "source": [
    "### Decision Tree Regressor"
   ]
  },
  {
   "cell_type": "markdown",
   "id": "d87759a8",
   "metadata": {},
   "source": [
    "Since it is regresssion problem we used decision tree regressor"
   ]
  },
  {
   "cell_type": "code",
   "execution_count": 562,
   "id": "9f806b59",
   "metadata": {},
   "outputs": [],
   "source": [
    "\n",
    "# Fitting Decision Tree to the Training Set\n",
    "dmodel = DecisionTreeRegressor()\n",
    "dmodel.fit(X_train, y_train)\n",
    "\n",
    "# Predicting the Val Set\n",
    "y_predict1 = dmodel.predict(X_val)\n",
    "\n",
    "# we fit the model with the train dataset that doesnot have delay(X_train) and the dataset that only has delay(y_train)"
   ]
  },
  {
   "cell_type": "code",
   "execution_count": 563,
   "id": "68a1b641",
   "metadata": {},
   "outputs": [
    {
     "name": "stdout",
     "output_type": "stream",
     "text": [
      "mse,rmse: \n",
      "(301.60133333333334, 17.366673064618144)\n"
     ]
    }
   ],
   "source": [
    "print(errorCheck(y_test,y_predict1))\n",
    "\n",
    "# find the mse and rmse with predicted values from the model and delay that is already given in the dataset(i.e; y_test)"
   ]
  },
  {
   "cell_type": "markdown",
   "id": "77d9f8c1",
   "metadata": {},
   "source": [
    "### XGBosst Regressor"
   ]
  },
  {
   "cell_type": "markdown",
   "id": "aa24c0b0",
   "metadata": {},
   "source": [
    "Used XGBoost bbeacuse large number of obsevations in training data.  \n",
    "Number feature is less than the number of observation in data set.  \n",
    "Mixture of numerical and categorical feature"
   ]
  },
  {
   "cell_type": "code",
   "execution_count": 564,
   "id": "3a0849cb",
   "metadata": {},
   "outputs": [],
   "source": [
    "# Fitting XGBoost Regressor to the Training Set\n",
    "\n",
    "xgbmodel = xgb.XGBRegressor()\n",
    "xgbmodel.fit(X_train, y_train)\n",
    "\n",
    "# Predicting the val Set Results\n",
    "y_predict2 = xgbmodel.predict(X_val)\n",
    "\n",
    "# we fit the model with the train dataset that doesnot have delay(X_train) and the dataset that only has delay(y_train)"
   ]
  },
  {
   "cell_type": "code",
   "execution_count": 565,
   "id": "326ed819",
   "metadata": {},
   "outputs": [
    {
     "name": "stdout",
     "output_type": "stream",
     "text": [
      "mse,rmse: \n",
      "(1368.3317619297723, 36.99096865357505)\n"
     ]
    }
   ],
   "source": [
    "print(errorCheck(y_test,y_predict2))\n",
    "\n",
    "# find the mse and rmse with predicted values from the model and delay that is already given in the dataset(i.e; y_test)"
   ]
  },
  {
   "cell_type": "markdown",
   "id": "39e170d4",
   "metadata": {},
   "source": [
    "### Random Forest Regressor"
   ]
  },
  {
   "cell_type": "markdown",
   "id": "890ca036",
   "metadata": {},
   "source": [
    "It is Collection of different decision tree and gives the aggregate result from those"
   ]
  },
  {
   "cell_type": "code",
   "execution_count": 566,
   "id": "5da3c36d",
   "metadata": {},
   "outputs": [],
   "source": [
    "# Fitting Random Forest Regressor to the Training Set\n",
    "\n",
    "rmodel = RandomForestRegressor()\n",
    "rmodel.fit(X_train, y_train)\n",
    "\n",
    "# Predicting the val Set Results\n",
    "y_predict3 = rmodel.predict(X_val)\n",
    "\n",
    "# we fit the model with the train dataset that doesnot have delay(X_train) and the dataset that only has delay(y_train)"
   ]
  },
  {
   "cell_type": "code",
   "execution_count": 567,
   "id": "fbf27f17",
   "metadata": {},
   "outputs": [
    {
     "name": "stdout",
     "output_type": "stream",
     "text": [
      "mse,rmse: \n",
      "(136.18673184999997, 11.66990710545718)\n"
     ]
    }
   ],
   "source": [
    "print(errorCheck(y_test,y_predict3))\n",
    "\n",
    "# find the mse and rmse with predicted values from the model and delay that is already given in the dataset(i.e; y_test)"
   ]
  },
  {
   "cell_type": "markdown",
   "id": "fa099a64",
   "metadata": {},
   "source": [
    "Rnadom Forrest Regressor is used as it has low rmse and mse"
   ]
  },
  {
   "cell_type": "markdown",
   "id": "124fe474",
   "metadata": {},
   "source": [
    "Overfitting is cheked with X_test.  \n"
   ]
  },
  {
   "cell_type": "code",
   "execution_count": 568,
   "id": "07fa5ebf",
   "metadata": {},
   "outputs": [],
   "source": [
    "y_predict_test = rmodel.predict(X_test)\n",
    "\n",
    "# as we have chosen random forest regressor we predict the delay from this model\n",
    "# We predict the delay for the X_test dataset"
   ]
  },
  {
   "cell_type": "code",
   "execution_count": 569,
   "id": "be01bad5",
   "metadata": {},
   "outputs": [
    {
     "name": "stdout",
     "output_type": "stream",
     "text": [
      "mse,rmse: \n",
      "(154.76960640516666, 12.440643327624446)\n"
     ]
    }
   ],
   "source": [
    "print(errorCheck(y_test,y_predict_test))\n",
    "\n",
    "#y_test and predicted value from X_test rmse and mse is checked"
   ]
  },
  {
   "cell_type": "markdown",
   "id": "d0be485b",
   "metadata": {},
   "source": [
    "# The dataset which has clear date as Null"
   ]
  },
  {
   "cell_type": "markdown",
   "id": "deb1c431",
   "metadata": {},
   "source": [
    "### Now the dataset that clear date is null i.e the invoice is open is considered"
   ]
  },
  {
   "cell_type": "markdown",
   "id": "2c135c66",
   "metadata": {},
   "source": [
    "We have :    \n",
    "     1. A model  \n",
    "     2. test data set with no clear date  \n",
    "     3. all the feature engg , selection,encoding in train   \n",
    "So now we have to predict the delay using the model and fill in the test dataset. And do the bucketization of the days"
   ]
  },
  {
   "cell_type": "markdown",
   "id": "4545409c",
   "metadata": {},
   "source": [
    "##### Our aim is to make the test dataframe identical to X_train"
   ]
  },
  {
   "cell_type": "markdown",
   "id": "d28538fe",
   "metadata": {},
   "source": [
    "We have to bring test in same X_train format so we need to perform:\n",
    "<ol>Same Pre Processing step </ol>\n",
    "<ol>Same feature engg</ol>\n",
    "<ol>Same feature selection</ol>\n",
    "<ol>and feed this test dataset into the ML model and predict the dealy</ol>\n",
    "We don't need to do split as we are not going to build model from this data set. <br>\n",
    "We also don't need to do EDA as EDA has been performed earlier and the anlaysis is done to complete the model"
   ]
  },
  {
   "cell_type": "code",
   "execution_count": 570,
   "id": "da550843",
   "metadata": {},
   "outputs": [
    {
     "data": {
      "text/html": [
       "<div>\n",
       "<style scoped>\n",
       "    .dataframe tbody tr th:only-of-type {\n",
       "        vertical-align: middle;\n",
       "    }\n",
       "\n",
       "    .dataframe tbody tr th {\n",
       "        vertical-align: top;\n",
       "    }\n",
       "\n",
       "    .dataframe thead th {\n",
       "        text-align: right;\n",
       "    }\n",
       "</style>\n",
       "<table border=\"1\" class=\"dataframe\">\n",
       "  <thead>\n",
       "    <tr style=\"text-align: right;\">\n",
       "      <th></th>\n",
       "      <th>business_code</th>\n",
       "      <th>cust_number</th>\n",
       "      <th>name_customer</th>\n",
       "      <th>clear_date</th>\n",
       "      <th>buisness_year</th>\n",
       "      <th>doc_id</th>\n",
       "      <th>posting_date</th>\n",
       "      <th>document_create_date</th>\n",
       "      <th>document_create_date.1</th>\n",
       "      <th>due_in_date</th>\n",
       "      <th>invoice_currency</th>\n",
       "      <th>document type</th>\n",
       "      <th>posting_id</th>\n",
       "      <th>total_open_amount</th>\n",
       "      <th>baseline_create_date</th>\n",
       "      <th>cust_payment_terms</th>\n",
       "      <th>invoice_id</th>\n",
       "      <th>isOpen</th>\n",
       "    </tr>\n",
       "  </thead>\n",
       "  <tbody>\n",
       "    <tr>\n",
       "      <th>3</th>\n",
       "      <td>U001</td>\n",
       "      <td>200794332</td>\n",
       "      <td>COST us</td>\n",
       "      <td>NaN</td>\n",
       "      <td>2020.0</td>\n",
       "      <td>1.930671e+09</td>\n",
       "      <td>2020-03-20</td>\n",
       "      <td>20200319</td>\n",
       "      <td>20200320</td>\n",
       "      <td>20200404.0</td>\n",
       "      <td>USD</td>\n",
       "      <td>RV</td>\n",
       "      <td>1.0</td>\n",
       "      <td>4427.22</td>\n",
       "      <td>20200320.0</td>\n",
       "      <td>NAAX</td>\n",
       "      <td>1.930671e+09</td>\n",
       "      <td>1</td>\n",
       "    </tr>\n",
       "    <tr>\n",
       "      <th>13</th>\n",
       "      <td>U001</td>\n",
       "      <td>0200748108</td>\n",
       "      <td>KROGER associates</td>\n",
       "      <td>NaN</td>\n",
       "      <td>2020.0</td>\n",
       "      <td>1.930572e+09</td>\n",
       "      <td>2020-02-27</td>\n",
       "      <td>20200226</td>\n",
       "      <td>20200227</td>\n",
       "      <td>20200313.0</td>\n",
       "      <td>USD</td>\n",
       "      <td>RV</td>\n",
       "      <td>1.0</td>\n",
       "      <td>613.81</td>\n",
       "      <td>20200227.0</td>\n",
       "      <td>NAA8</td>\n",
       "      <td>1.930572e+09</td>\n",
       "      <td>1</td>\n",
       "    </tr>\n",
       "    <tr>\n",
       "      <th>16</th>\n",
       "      <td>U001</td>\n",
       "      <td>0200744019</td>\n",
       "      <td>TARG associates</td>\n",
       "      <td>NaN</td>\n",
       "      <td>2020.0</td>\n",
       "      <td>1.930757e+09</td>\n",
       "      <td>2020-04-07</td>\n",
       "      <td>20200407</td>\n",
       "      <td>20200407</td>\n",
       "      <td>20200422.0</td>\n",
       "      <td>USD</td>\n",
       "      <td>RV</td>\n",
       "      <td>1.0</td>\n",
       "      <td>82568.88</td>\n",
       "      <td>20200407.0</td>\n",
       "      <td>NAA8</td>\n",
       "      <td>1.930757e+09</td>\n",
       "      <td>1</td>\n",
       "    </tr>\n",
       "    <tr>\n",
       "      <th>18</th>\n",
       "      <td>U001</td>\n",
       "      <td>0200936373</td>\n",
       "      <td>SUPE in</td>\n",
       "      <td>NaN</td>\n",
       "      <td>2020.0</td>\n",
       "      <td>1.930777e+09</td>\n",
       "      <td>2020-04-13</td>\n",
       "      <td>20200411</td>\n",
       "      <td>20200413</td>\n",
       "      <td>20200428.0</td>\n",
       "      <td>USD</td>\n",
       "      <td>RV</td>\n",
       "      <td>1.0</td>\n",
       "      <td>51128.96</td>\n",
       "      <td>20200413.0</td>\n",
       "      <td>NAA8</td>\n",
       "      <td>1.930777e+09</td>\n",
       "      <td>1</td>\n",
       "    </tr>\n",
       "    <tr>\n",
       "      <th>21</th>\n",
       "      <td>U001</td>\n",
       "      <td>0200705372</td>\n",
       "      <td>FR corp</td>\n",
       "      <td>NaN</td>\n",
       "      <td>2020.0</td>\n",
       "      <td>1.930691e+09</td>\n",
       "      <td>2020-03-25</td>\n",
       "      <td>20200324</td>\n",
       "      <td>20200325</td>\n",
       "      <td>20200409.0</td>\n",
       "      <td>USD</td>\n",
       "      <td>RV</td>\n",
       "      <td>1.0</td>\n",
       "      <td>3330.01</td>\n",
       "      <td>20200325.0</td>\n",
       "      <td>NAA8</td>\n",
       "      <td>1.930691e+09</td>\n",
       "      <td>1</td>\n",
       "    </tr>\n",
       "  </tbody>\n",
       "</table>\n",
       "</div>"
      ],
      "text/plain": [
       "   business_code cust_number      name_customer clear_date  buisness_year  \\\n",
       "3           U001   200794332            COST us        NaN         2020.0   \n",
       "13          U001  0200748108  KROGER associates        NaN         2020.0   \n",
       "16          U001  0200744019    TARG associates        NaN         2020.0   \n",
       "18          U001  0200936373            SUPE in        NaN         2020.0   \n",
       "21          U001  0200705372            FR corp        NaN         2020.0   \n",
       "\n",
       "          doc_id posting_date  document_create_date  document_create_date.1  \\\n",
       "3   1.930671e+09   2020-03-20              20200319                20200320   \n",
       "13  1.930572e+09   2020-02-27              20200226                20200227   \n",
       "16  1.930757e+09   2020-04-07              20200407                20200407   \n",
       "18  1.930777e+09   2020-04-13              20200411                20200413   \n",
       "21  1.930691e+09   2020-03-25              20200324                20200325   \n",
       "\n",
       "    due_in_date invoice_currency document type  posting_id  total_open_amount  \\\n",
       "3    20200404.0              USD            RV         1.0            4427.22   \n",
       "13   20200313.0              USD            RV         1.0             613.81   \n",
       "16   20200422.0              USD            RV         1.0           82568.88   \n",
       "18   20200428.0              USD            RV         1.0           51128.96   \n",
       "21   20200409.0              USD            RV         1.0            3330.01   \n",
       "\n",
       "    baseline_create_date cust_payment_terms    invoice_id  isOpen  \n",
       "3             20200320.0               NAAX  1.930671e+09       1  \n",
       "13            20200227.0               NAA8  1.930572e+09       1  \n",
       "16            20200407.0               NAA8  1.930757e+09       1  \n",
       "18            20200413.0               NAA8  1.930777e+09       1  \n",
       "21            20200325.0               NAA8  1.930691e+09       1  "
      ]
     },
     "execution_count": 570,
     "metadata": {},
     "output_type": "execute_result"
    }
   ],
   "source": [
    "test.head()"
   ]
  },
  {
   "cell_type": "markdown",
   "id": "1c19a324",
   "metadata": {},
   "source": [
    "## Data Pre Processing"
   ]
  },
  {
   "cell_type": "markdown",
   "id": "9e7da155",
   "metadata": {},
   "source": [
    "### Date Time Coversion"
   ]
  },
  {
   "cell_type": "code",
   "execution_count": 571,
   "id": "7ecab219",
   "metadata": {},
   "outputs": [],
   "source": [
    "# For Test Data set\n",
    "test['due_in_date'] = test['due_in_date'].apply(lambda x:strToDate(str(int(x))))\n",
    "test['document_create_date'] = test['document_create_date'].apply(lambda x:strToDate(str(int(x))))\n",
    "test['document_create_date.1'] = test['document_create_date.1'].apply(lambda x:strToDate(str(int(x))))\n",
    "test['baseline_create_date'] = test['baseline_create_date'].apply(lambda x:strToDate(str(int(x))))"
   ]
  },
  {
   "cell_type": "code",
   "execution_count": 572,
   "id": "9446ea3b",
   "metadata": {},
   "outputs": [],
   "source": [
    "# Same date time coversion for Test Dataset\n",
    "test['clear_date'] = pd.to_datetime(test['clear_date'],format='%Y-%m-%d')\n",
    "test['posting_date'] = pd.to_datetime(test['posting_date'],format='%Y-%m-%d')\n",
    "test['document_create_date'] = pd.to_datetime(test['document_create_date'],format='%Y-%m-%d')\n",
    "test['document_create_date.1'] = pd.to_datetime(test['document_create_date.1'],format='%Y-%m-%d')\n",
    "test['due_in_date'] = pd.to_datetime(test['due_in_date'],format='%Y-%m-%d')\n",
    "test['baseline_create_date'] = pd.to_datetime(test['baseline_create_date'],format='%Y-%m-%d')"
   ]
  },
  {
   "cell_type": "markdown",
   "id": "605cb6b4",
   "metadata": {},
   "source": [
    "### Null Imputation"
   ]
  },
  {
   "cell_type": "code",
   "execution_count": 573,
   "id": "adeda4b2",
   "metadata": {},
   "outputs": [
    {
     "data": {
      "text/plain": [
       "business_code                 0\n",
       "cust_number                   0\n",
       "name_customer                 0\n",
       "clear_date                10000\n",
       "buisness_year                 0\n",
       "doc_id                        0\n",
       "posting_date                  0\n",
       "document_create_date          0\n",
       "document_create_date.1        0\n",
       "due_in_date                   0\n",
       "invoice_currency              0\n",
       "document type                 0\n",
       "posting_id                    0\n",
       "total_open_amount             0\n",
       "baseline_create_date          0\n",
       "cust_payment_terms            0\n",
       "invoice_id                    0\n",
       "isOpen                        0\n",
       "dtype: int64"
      ]
     },
     "execution_count": 573,
     "metadata": {},
     "output_type": "execute_result"
    }
   ],
   "source": [
    "test.isnull().sum()"
   ]
  },
  {
   "cell_type": "markdown",
   "id": "0729ee54",
   "metadata": {},
   "source": [
    "##### Drop the clear date as we are going to predict"
   ]
  },
  {
   "cell_type": "code",
   "execution_count": 574,
   "id": "64b4d9cb",
   "metadata": {},
   "outputs": [],
   "source": [
    "X_main_test = test.drop(['clear_date'],axis=1)\n",
    "X_main_test\n",
    "\n",
    "# ALSO LETS DROP PRICE FROM MAIN TEST ITSELF\n",
    "test.drop(['clear_date'], inplace =True,axis=1)\n",
    "\n",
    "# we will be predicting the delay from X_main_test"
   ]
  },
  {
   "cell_type": "code",
   "execution_count": 575,
   "id": "398acd2e",
   "metadata": {},
   "outputs": [
    {
     "data": {
      "text/plain": [
       "(10000, 17)"
      ]
     },
     "execution_count": 575,
     "metadata": {},
     "output_type": "execute_result"
    }
   ],
   "source": [
    "X_main_test.shape"
   ]
  },
  {
   "cell_type": "code",
   "execution_count": 576,
   "id": "7d446451",
   "metadata": {},
   "outputs": [
    {
     "name": "stdout",
     "output_type": "stream",
     "text": [
      "<class 'pandas.core.frame.DataFrame'>\n",
      "Int64Index: 10000 entries, 3 to 49993\n",
      "Data columns (total 17 columns):\n",
      " #   Column                  Non-Null Count  Dtype         \n",
      "---  ------                  --------------  -----         \n",
      " 0   business_code           10000 non-null  object        \n",
      " 1   cust_number             10000 non-null  object        \n",
      " 2   name_customer           10000 non-null  object        \n",
      " 3   buisness_year           10000 non-null  float64       \n",
      " 4   doc_id                  10000 non-null  float64       \n",
      " 5   posting_date            10000 non-null  datetime64[ns]\n",
      " 6   document_create_date    10000 non-null  datetime64[ns]\n",
      " 7   document_create_date.1  10000 non-null  datetime64[ns]\n",
      " 8   due_in_date             10000 non-null  datetime64[ns]\n",
      " 9   invoice_currency        10000 non-null  object        \n",
      " 10  document type           10000 non-null  object        \n",
      " 11  posting_id              10000 non-null  float64       \n",
      " 12  total_open_amount       10000 non-null  float64       \n",
      " 13  baseline_create_date    10000 non-null  datetime64[ns]\n",
      " 14  cust_payment_terms      10000 non-null  object        \n",
      " 15  invoice_id              10000 non-null  float64       \n",
      " 16  isOpen                  10000 non-null  int64         \n",
      "dtypes: datetime64[ns](5), float64(5), int64(1), object(6)\n",
      "memory usage: 1.4+ MB\n"
     ]
    }
   ],
   "source": [
    "X_main_test.info()"
   ]
  },
  {
   "cell_type": "markdown",
   "id": "9a31d7c0",
   "metadata": {},
   "source": [
    "#### Sort the values according to posting_date"
   ]
  },
  {
   "cell_type": "code",
   "execution_count": 577,
   "id": "4b249ded",
   "metadata": {},
   "outputs": [],
   "source": [
    "X_main_test.sort_values(by='posting_date',inplace=True)"
   ]
  },
  {
   "cell_type": "markdown",
   "id": "28cd2eb7",
   "metadata": {},
   "source": [
    "#### Removing the Duplicated and Constant values"
   ]
  },
  {
   "cell_type": "code",
   "execution_count": 578,
   "id": "35280369",
   "metadata": {},
   "outputs": [
    {
     "data": {
      "text/html": [
       "<div>\n",
       "<style scoped>\n",
       "    .dataframe tbody tr th:only-of-type {\n",
       "        vertical-align: middle;\n",
       "    }\n",
       "\n",
       "    .dataframe tbody tr th {\n",
       "        vertical-align: top;\n",
       "    }\n",
       "\n",
       "    .dataframe thead th {\n",
       "        text-align: right;\n",
       "    }\n",
       "</style>\n",
       "<table border=\"1\" class=\"dataframe\">\n",
       "  <thead>\n",
       "    <tr style=\"text-align: right;\">\n",
       "      <th></th>\n",
       "      <th>buisness_year</th>\n",
       "      <th>doc_id</th>\n",
       "      <th>posting_id</th>\n",
       "      <th>total_open_amount</th>\n",
       "      <th>invoice_id</th>\n",
       "      <th>isOpen</th>\n",
       "    </tr>\n",
       "  </thead>\n",
       "  <tbody>\n",
       "    <tr>\n",
       "      <th>buisness_year</th>\n",
       "      <td>0.0</td>\n",
       "      <td>0.000000e+00</td>\n",
       "      <td>0.0</td>\n",
       "      <td>0.000000e+00</td>\n",
       "      <td>0.000000e+00</td>\n",
       "      <td>0.0</td>\n",
       "    </tr>\n",
       "    <tr>\n",
       "      <th>doc_id</th>\n",
       "      <td>0.0</td>\n",
       "      <td>7.064680e+16</td>\n",
       "      <td>0.0</td>\n",
       "      <td>1.867812e+12</td>\n",
       "      <td>7.064680e+16</td>\n",
       "      <td>0.0</td>\n",
       "    </tr>\n",
       "    <tr>\n",
       "      <th>posting_id</th>\n",
       "      <td>0.0</td>\n",
       "      <td>0.000000e+00</td>\n",
       "      <td>0.0</td>\n",
       "      <td>0.000000e+00</td>\n",
       "      <td>0.000000e+00</td>\n",
       "      <td>0.0</td>\n",
       "    </tr>\n",
       "    <tr>\n",
       "      <th>total_open_amount</th>\n",
       "      <td>0.0</td>\n",
       "      <td>1.867812e+12</td>\n",
       "      <td>0.0</td>\n",
       "      <td>1.364517e+09</td>\n",
       "      <td>1.867812e+12</td>\n",
       "      <td>0.0</td>\n",
       "    </tr>\n",
       "    <tr>\n",
       "      <th>invoice_id</th>\n",
       "      <td>0.0</td>\n",
       "      <td>7.064680e+16</td>\n",
       "      <td>0.0</td>\n",
       "      <td>1.867812e+12</td>\n",
       "      <td>7.064680e+16</td>\n",
       "      <td>0.0</td>\n",
       "    </tr>\n",
       "    <tr>\n",
       "      <th>isOpen</th>\n",
       "      <td>0.0</td>\n",
       "      <td>0.000000e+00</td>\n",
       "      <td>0.0</td>\n",
       "      <td>0.000000e+00</td>\n",
       "      <td>0.000000e+00</td>\n",
       "      <td>0.0</td>\n",
       "    </tr>\n",
       "  </tbody>\n",
       "</table>\n",
       "</div>"
      ],
      "text/plain": [
       "                   buisness_year        doc_id  posting_id  total_open_amount  \\\n",
       "buisness_year                0.0  0.000000e+00         0.0       0.000000e+00   \n",
       "doc_id                       0.0  7.064680e+16         0.0       1.867812e+12   \n",
       "posting_id                   0.0  0.000000e+00         0.0       0.000000e+00   \n",
       "total_open_amount            0.0  1.867812e+12         0.0       1.364517e+09   \n",
       "invoice_id                   0.0  7.064680e+16         0.0       1.867812e+12   \n",
       "isOpen                       0.0  0.000000e+00         0.0       0.000000e+00   \n",
       "\n",
       "                     invoice_id  isOpen  \n",
       "buisness_year      0.000000e+00     0.0  \n",
       "doc_id             7.064680e+16     0.0  \n",
       "posting_id         0.000000e+00     0.0  \n",
       "total_open_amount  1.867812e+12     0.0  \n",
       "invoice_id         7.064680e+16     0.0  \n",
       "isOpen             0.000000e+00     0.0  "
      ]
     },
     "execution_count": 578,
     "metadata": {},
     "output_type": "execute_result"
    }
   ],
   "source": [
    "X_main_test.cov()"
   ]
  },
  {
   "cell_type": "code",
   "execution_count": 579,
   "id": "a44b1d1f",
   "metadata": {},
   "outputs": [
    {
     "data": {
      "text/plain": [
       "business_code             False\n",
       "cust_number               False\n",
       "name_customer             False\n",
       "buisness_year             False\n",
       "doc_id                    False\n",
       "posting_date              False\n",
       "document_create_date      False\n",
       "document_create_date.1     True\n",
       "due_in_date               False\n",
       "invoice_currency          False\n",
       "document type             False\n",
       "posting_id                False\n",
       "total_open_amount         False\n",
       "baseline_create_date      False\n",
       "cust_payment_terms        False\n",
       "invoice_id                 True\n",
       "isOpen                     True\n",
       "dtype: bool"
      ]
     },
     "execution_count": 579,
     "metadata": {},
     "output_type": "execute_result"
    }
   ],
   "source": [
    "# Check for duplicated colum\n",
    "X_main_test_trans = X_main_test.T\n",
    "X_main_test_trans.duplicated()"
   ]
  },
  {
   "cell_type": "code",
   "execution_count": 580,
   "id": "79224d13",
   "metadata": {},
   "outputs": [
    {
     "data": {
      "text/plain": [
       "array(['document_create_date.1', 'invoice_id', 'isOpen'], dtype=object)"
      ]
     },
     "execution_count": 580,
     "metadata": {},
     "output_type": "execute_result"
    }
   ],
   "source": [
    "duplicated_features = X_main_test_trans[X_main_test_trans.duplicated()].index.values\n",
    "duplicated_features"
   ]
  },
  {
   "cell_type": "code",
   "execution_count": 581,
   "id": "d0e3cce3",
   "metadata": {},
   "outputs": [
    {
     "data": {
      "text/plain": [
       "(10000, 14)"
      ]
     },
     "execution_count": 581,
     "metadata": {},
     "output_type": "execute_result"
    }
   ],
   "source": [
    "X_main_test=X_main_test_trans.drop_duplicates(keep='last').T \n",
    "# removed the duplicated rows,\n",
    "# transpose the dataframe back to the variables as columns\n",
    "# keep first indicates that we keep the first of a set of\n",
    "# duplicated variables\n",
    "\n",
    "#shape of data frame\n",
    "X_main_test.shape"
   ]
  },
  {
   "cell_type": "code",
   "execution_count": 582,
   "id": "fdf5e632",
   "metadata": {},
   "outputs": [
    {
     "data": {
      "text/plain": [
       "business_code             0\n",
       "cust_number               0\n",
       "name_customer             0\n",
       "buisness_year             0\n",
       "document_create_date      0\n",
       "document_create_date.1    0\n",
       "due_in_date               0\n",
       "invoice_currency          0\n",
       "document type             0\n",
       "total_open_amount         0\n",
       "baseline_create_date      0\n",
       "cust_payment_terms        0\n",
       "invoice_id                0\n",
       "isOpen                    0\n",
       "dtype: int64"
      ]
     },
     "execution_count": 582,
     "metadata": {},
     "output_type": "execute_result"
    }
   ],
   "source": [
    "X_main_test.isnull().sum()"
   ]
  },
  {
   "cell_type": "code",
   "execution_count": 583,
   "id": "b38a69d6",
   "metadata": {},
   "outputs": [],
   "source": [
    "# Removing the unwanted columns\n",
    "X_main_test = X_main_test.drop(columns = ['name_customer', 'document_create_date'])\n",
    "#document_create_date has the normalized column document_create_date.1\n",
    "#posting_date\n",
    "#name_customer"
   ]
  },
  {
   "cell_type": "code",
   "execution_count": 584,
   "id": "6eb3810f",
   "metadata": {},
   "outputs": [
    {
     "data": {
      "text/plain": [
       "Index(['business_code', 'cust_number', 'buisness_year',\n",
       "       'document_create_date.1', 'due_in_date', 'invoice_currency',\n",
       "       'document type', 'total_open_amount', 'baseline_create_date',\n",
       "       'cust_payment_terms', 'invoice_id', 'isOpen'],\n",
       "      dtype='object')"
      ]
     },
     "execution_count": 584,
     "metadata": {},
     "output_type": "execute_result"
    }
   ],
   "source": [
    "X_main_test.columns"
   ]
  },
  {
   "cell_type": "markdown",
   "id": "406893e5",
   "metadata": {},
   "source": [
    "### Constant features"
   ]
  },
  {
   "cell_type": "code",
   "execution_count": 585,
   "id": "ddec4a69",
   "metadata": {},
   "outputs": [
    {
     "data": {
      "text/plain": [
       "business_code                5\n",
       "cust_number                670\n",
       "buisness_year                1\n",
       "document_create_date.1      84\n",
       "due_in_date                126\n",
       "invoice_currency             2\n",
       "document type                1\n",
       "total_open_amount         9071\n",
       "baseline_create_date        86\n",
       "cust_payment_terms          45\n",
       "invoice_id                9698\n",
       "isOpen                       1\n",
       "dtype: int64"
      ]
     },
     "execution_count": 585,
     "metadata": {},
     "output_type": "execute_result"
    }
   ],
   "source": [
    "X_main_test.nunique()"
   ]
  },
  {
   "cell_type": "code",
   "execution_count": 586,
   "id": "4105d73b",
   "metadata": {},
   "outputs": [
    {
     "data": {
      "text/plain": [
       "(10000, 9)"
      ]
     },
     "execution_count": 586,
     "metadata": {},
     "output_type": "execute_result"
    }
   ],
   "source": [
    "const_feat=[]\n",
    "for col in list(X_main_test.columns):\n",
    "    if(X_main_test[col].nunique()==1):\n",
    "        const_feat.append(col)\n",
    "\n",
    "X_main_test=X_main_test.drop(columns=const_feat)\n",
    "X_main_test.shape\n",
    "\n",
    "# performed same as above"
   ]
  },
  {
   "cell_type": "code",
   "execution_count": 587,
   "id": "b5f43ee1",
   "metadata": {},
   "outputs": [
    {
     "name": "stdout",
     "output_type": "stream",
     "text": [
      "Categorical columns: business_code\n",
      "['CA02' 'U001' 'U013' 'U002' 'U005']\n",
      "\n",
      "Categorical columns: cust_number\n",
      "['0140106408' '0200769623' '0200707822' '0200705742' '0140104249'\n",
      " '0200407025' '0200014556' '0200737918' '0200794332' '0200915438'\n",
      " '0200762301' '0200759878' '0200337148' '0200726979' '0200720238'\n",
      " '0200657619' '0200782001' '0140104423' 'CCU013' '100034330' '0200729828'\n",
      " '0200772595' '0140104240' '0200466603' '0200783609' '0200434439'\n",
      " '0200742521' '0200152991' '0140104409' 'CCCA02' '0200707741' '0200743592'\n",
      " '0200820380' '0200936373' '0200781831' '0200780383' '0200761734'\n",
      " '0200071186' '0200418007' '0200342745' '0200609331' '0200764795'\n",
      " '0200797452' '0200721330' '0200795490' '0200974851' '0200718130'\n",
      " '0200779906' '0200881076' '0200799367' '0200752302' '0200749225'\n",
      " '0200186937' '0200723794' '0200782669' '0200793568' '200759878'\n",
      " '0140105686' '0100017545' '0200229974' '0200769369' '0200900909'\n",
      " '0200706844' '0200920735' '0200792734' '0200790107' '0200561861'\n",
      " '0200763229' '0100035139' '0100000222' '0140104472' '0200762950'\n",
      " '0200748108' '0100058365' '0200571849' '0200747369' 'CCU002' '0200980828'\n",
      " '0140106181' '0200148860' '0200722444' '0200724999' '0200704858'\n",
      " '0200769072' '0200212683' '0200744019' '0200424504' '0200778870'\n",
      " '0200743618' '0200722369' '0200763814' '0200758883' '0200943423'\n",
      " '0200780825' '0200704045' '0200756072' '0100031704' '0200978899'\n",
      " '0200738514' '0200126819' '0100001196' '0200743123' '0200739006'\n",
      " '0200934569' '0200807583' 'CC6000' '0200382900' '0140105713' '0140106231'\n",
      " '0140104429' '0200326954' '0200705372' '0200792293' '0200455322'\n",
      " '0140106316' '0200486270' '0100043936' '0200741174' '0200936615'\n",
      " '0140104440' '0200758264' 'CC6530' '0200331749' '0200435191' '0200799538'\n",
      " '0100043973' '0140104340' '0200315290' '0200776463' '0140101682'\n",
      " '0200719300' '0140103621' '0200729290' '0140103409' '0200943275'\n",
      " '0200772670' '0200875006' '0200732755' '0200786288' '0140103278'\n",
      " '0100008001' '0200891601' '0200700919' '0200230690' '0200721222'\n",
      " '0100056244' '0200729942' '0200712105' '0200725421' '0200781803'\n",
      " '0200714710' '0200750051' '0200739534' '0140106421' '0200771157'\n",
      " '0200725511' '0200793088' '0100036292' '0200777735' '0200712187'\n",
      " '0100028952' '0200526831' '0200661137' '0200774000' '0200610381'\n",
      " '0200275115' '0100031686' '0200770567' '0100036066' '200790710'\n",
      " '0200696090' '0200737422' '0100030646' '0100047527' '0200705089'\n",
      " '0140104225' '0200707519' '0200782772' '0200029010' '0200742791'\n",
      " '0200749782' '0200707005' '0200687457' '0200712102' '0200793319'\n",
      " '0200854853' '0140105785' '0200799342' '0200416837' '0200002965'\n",
      " '0200020431' '0200770677' '0200827835' '0200773364' '0100036009'\n",
      " '0200727272' '0200040366' '0200519201' '0100006311' '0200956366'\n",
      " '0100015557' '0200078795' '0100036003' '0100009932' '0200886415'\n",
      " '0200529372' '0200708511' '0200783189' '0200965912' '0140104336'\n",
      " '0200797984' '0100050962' '0200386051' '0200711029' '0200900212'\n",
      " '0200833713' '0200353024' '0200741831' '0200076137' '0140105652'\n",
      " '0200779051' '0100049207' '0100032278' '0200501669' '0200712836'\n",
      " '0200785971' '0200793513' '0100054867' '0200763489' '0200793122'\n",
      " '0140105847' '0200735528' '0140104475' '0200755701' '0100050364'\n",
      " '0200212854' '140101772' '0200764515' '0100000051' '0200955827'\n",
      " '0100030964' '0200357714' '0140103480' '200769623' '0200673194'\n",
      " '100047441' '0200458131' '0140106293' '0200803720' '140104249'\n",
      " '0200308132' '0140104277' '0140104331' '0200580232' '0100024102'\n",
      " '0200129450' '0100043892' '0200555117' '0200592182' '0200763152'\n",
      " '0200701040' '0200606231' '0200149567' '0200713007' '0200396637'\n",
      " '0200390794' '0140101555' '0200793830' '0200736337' '0100028715'\n",
      " '0140105678' '0200253680' '0200793000' '0100012638' 'CCU001' '0200767520'\n",
      " '100031704' '0200982290' '0100030194' '0200754278' '140103423'\n",
      " '0200668077' '0100034822' '0200984794' '0100017458' '0200101621'\n",
      " '0140105508' '0140142846' '0100043948' '0200865666' '0100004744'\n",
      " '0200984655' '0100026401' '0200661472' '200936373' '0100033439'\n",
      " '0200765011' '200744019' '0200290370' '0200133150' '0200978592'\n",
      " '0200783734' '0100025658' '0100012698' '0200437182' '140104472'\n",
      " '0200790748' '0200922106' '0200987178' '0200806580' '0200231309'\n",
      " '0200743996' '200761734' '0100057168' '200920735' '0100046487'\n",
      " '0200697207' '0200754118' '200705742' '0200622385' '0200769556'\n",
      " '0200223640' '0100026947' '0200827097' '200854853' '140104440'\n",
      " '0200778998' '200772595' '0100036039' '0200387798' '0140104392'\n",
      " '0200727278' '0140049310' '0100050402' '0200512145' '200741831'\n",
      " '0140101584' '200770567' '200126819' '0200236570' '0100007916'\n",
      " '0100050703' '0140104263' '0100047799' '0140104285' '0140103311'\n",
      " '200754278' '0100037220' '140103335' '200712187' '200726979' '0100019293'\n",
      " '0200736312' '0140106372' '200132251' '0140106224' '0100030443'\n",
      " '0140103400' '0200708411' '0140105704' '200762301' '0140104934'\n",
      " '200148860' '200468954' '200794332' '0100036530' '0200540723'\n",
      " '0200413833' '200799367' '200727272' '0200792277' '200782669'\n",
      " '0100016691' '0140104508' '0200789266' '200974851' '0200806643'\n",
      " '200152991' '200494102' '200759082' '200895669' '200741174' '200790107'\n",
      " '200793568' '0200359490' '100006311' '0140106249' '0200895843'\n",
      " '100025470' '200772670' '200390794' '0200744707' '200229974' '0100015455'\n",
      " '200555117' '200752302' '200704045' '200705372' '200253680' '200776463'\n",
      " '200780383' '200466603' '200784489' '0100015818' '200755701' '0200236583'\n",
      " '0100044010' '200561861' '0200117492' '200732755' '200762950'\n",
      " '0200719526' '200684768' '0200775660' '0200745469' '200706844'\n",
      " '0100051489' '0200775094' '0200768357' '200416837' '0200760666'\n",
      " '140104409' '140106408' '200729290' '0140101772' '0140104234' '200820380'\n",
      " '0200983712' '200775660' '0100025721' '0140103335' '140104429'\n",
      " '0200752607' '200875006' '200749782' '0140103470' '0200258814'\n",
      " '0200543982' '100022342' '0200726025' '200609331' '0100047397'\n",
      " '0100014187' '200786288' '0200796637' '0100026809' '200115792'\n",
      " '0100054380' '100021540' '0200861551' '0100053305' '0100029649'\n",
      " '0200972004' '0100014724' '0200799180' '200752393' '0140106271'\n",
      " '200785971' '0100055548' '200737496' '0100021540' '0100027772'\n",
      " '0100044052' '0140105000' '0100043933' '200697207' '200781803'\n",
      " '0200782207' '0200760428' '200747369' '0200731999' '0200624321'\n",
      " '0100031723' '200775094' '0140103713' '0100012991' '0200825136'\n",
      " '100001196' '0100000272' '0200719839' '0100027744' '0200739386'\n",
      " '0200684768' '0200124052' '0100049079' '0200576926' '0200573068'\n",
      " '200793513' '0100043902' '200707822' '0200457993' '0100024776'\n",
      " '200915438' '200739534' '200760666' '200508557' '200029010' '0100004536'\n",
      " '0140101904' '0200646464' '0140103699' '200779719' '0200752393'\n",
      " '0100054980' '0200758531' '0200783190' '0200628215' '200519201'\n",
      " '200712836' '200743996' '0100018048' '0100043878' '200779906'\n",
      " '0200718635' '0200024233' '200315290' '200980828' '0200743129'\n",
      " '0200384225' '0200756762' '0140104552' '0200084659' '0200493614'\n",
      " '200777735' '0100043949' '0200796828' '200396637' '0200508557'\n",
      " '0200816950' '0200039093' '140104225' '0140105033' '200793088'\n",
      " '140104423' '0200679800' '200792734' '100033439' '0200982294'\n",
      " '0200164995' '0200759082' '0200403703' '200353024' '0100043881'\n",
      " '0200779719' '0200789077' '100050962' '0100043975' '0200166027'\n",
      " '0100053763' '0100053653' '0100056054' '200900212' '0100047674'\n",
      " '0100035138' '0100031483' '0100010082' '100011958' '0200541916'\n",
      " '0200238407' 'CC6050' '0140103551' '0100056666' '0100043888' '0200346918'\n",
      " '0200799420' '0200637319' '0200439158' '0100048886' '0200703332'\n",
      " '0200132251' '0200387240' '0100032505' '0200761497' '200738514'\n",
      " '0200307138' '0200689451' '0200744584' '0140105720' '100024102'\n",
      " '0200701314' '0100035505' '200756072' '0100046480' '0200515231'\n",
      " '0100035971' '0200106324' '0200703398' '0200048886' '0100000933'\n",
      " '0100029811' '0200739941' '0200728270' '0200112301' '0200777040'\n",
      " '0200066217' '0100032041' '0140104223' '0140105072' '0100054686'\n",
      " '200778355' '0200200412' '200722444' '200571849' '0200895669' '200943275'\n",
      " '200763814' '200290370' '200714710' '0200769643' '200418007' '0200345943'\n",
      " '100012482' '200773364' '0100054993' '200797452' '200781831' '200725421'\n",
      " '0200557600' '0100036318' '140105686' '0200358522' '140105847'\n",
      " '0100007796' '0100053538' '200792283' '200783734' '200275115' '200407025'\n",
      " '200739006' '200750051' '200881076' '0100036486' '200707005' '100036039'\n",
      " '200793830' '100030194' '0140106184' '200771157' '0100035259'\n",
      " '0100004789' '0200138805' '0140104265' '0100036538' '200711029'\n",
      " '200386051' '200965912' '200792293' '200761497' '0200789344' '0200687594'\n",
      " '100000222' '200734065' '200769369' '0100034961' '0200742344' '200778998'\n",
      " '200437182' '200704858' '200774000' '200705089' '0200858049' '200735528'\n",
      " '0140106358' '0200819043' '100056666' '200956366' '0100049744'\n",
      " '0200712349' '0200464724' '0100034330']\n",
      "\n",
      "Categorical columns: cust_payment_terms\n",
      "['CA10' 'NAH4' 'NAA8' 'NAD1' 'NAGD' 'NAAX' 'NA32' 'NAX2' 'NAVE' 'NAAW'\n",
      " 'NAC6' 'NAG2' 'NA10' 'NAWP' 'NACE' 'NAVF' 'NAD8' 'NAD5' 'NAVQ' 'NAUX'\n",
      " 'NAU5' 'NAUZ' 'NAM2' 'NAM1' 'NA3F' 'NAM4' 'NABG' 'NA3B' 'NAWU' 'NACB'\n",
      " 'C106' 'NA25' 'NAM3' 'NAVD' '90M7' 'NACG' 'NA38' 'CAB1' 'NAD4' 'C129'\n",
      " 'CAX2' 'NA84' 'NAB1' 'NAUP' 'NACH']\n",
      "\n"
     ]
    }
   ],
   "source": [
    "test_cat_column=[ 'business_code' ,'cust_number' , 'cust_payment_terms']\n",
    "for col in test_cat_column:\n",
    "    print(\"Categorical columns: \"+col)\n",
    "    print(X_main_test[col].unique())\n",
    "    print()\n",
    "# Checking the unique features"
   ]
  },
  {
   "cell_type": "code",
   "execution_count": 588,
   "id": "54554b89",
   "metadata": {},
   "outputs": [
    {
     "name": "stdout",
     "output_type": "stream",
     "text": [
      "U001    9183\n",
      "CA02     718\n",
      "U013      69\n",
      "U002      25\n",
      "U005       5\n",
      "Name: business_code, dtype: int64\n",
      "#########################\n"
     ]
    }
   ],
   "source": [
    "# For catagorical columns with relatively low unique value -- looking for value_counts\n",
    "# if unique count ==1 , constant column \n",
    "\n",
    "for col in test_cat_column:\n",
    "    if X_main_test[col].nunique()<= 12:\n",
    "        print(X_main_test[col].value_counts())\n",
    "        print('#########################')"
   ]
  },
  {
   "cell_type": "code",
   "execution_count": 589,
   "id": "77b6c17a",
   "metadata": {},
   "outputs": [],
   "source": [
    "#clubing the business code which has low value and mark them others\n",
    "df['business_code'] = np.where(df['business_code'].isin([\"U005\"]),\"Others\",df['business_code'])"
   ]
  },
  {
   "cell_type": "code",
   "execution_count": 590,
   "id": "1fddb647",
   "metadata": {},
   "outputs": [],
   "source": [
    "X_main_test['due_term']=pd.Series(X_main_test['due_in_date'] - X_main_test['baseline_create_date']).dt.days\n",
    "\n",
    "# due term  --> no of days btween the day in which invoice is created and the day in which custommer is expected to pay\n",
    "# same term is made in the above dataset i.e; X_train or df"
   ]
  },
  {
   "cell_type": "markdown",
   "id": "1bd6e03d",
   "metadata": {},
   "source": [
    "## Encoding"
   ]
  },
  {
   "cell_type": "code",
   "execution_count": 591,
   "id": "15a878b0",
   "metadata": {},
   "outputs": [],
   "source": [
    "cat_column=['cust_number','business_code','cust_payment_terms','invoice_currency']\n",
    "for col in cat_column:\n",
    "    X_main_test=transEncoder(X_main_test,col)\n",
    "    X_main_test.drop(col, axis =1,inplace=True)\n",
    "    \n",
    "# label Encoding is done same as above to bring the test dataframe to same format as X_train"
   ]
  },
  {
   "cell_type": "code",
   "execution_count": 592,
   "id": "0c8677a3",
   "metadata": {},
   "outputs": [
    {
     "name": "stdout",
     "output_type": "stream",
     "text": [
      "<class 'pandas.core.frame.DataFrame'>\n",
      "Int64Index: 10000 entries, 8188 to 35306\n",
      "Data columns (total 10 columns):\n",
      " #   Column                  Non-Null Count  Dtype         \n",
      "---  ------                  --------------  -----         \n",
      " 0   document_create_date.1  10000 non-null  datetime64[ns]\n",
      " 1   due_in_date             10000 non-null  datetime64[ns]\n",
      " 2   total_open_amount       10000 non-null  object        \n",
      " 3   baseline_create_date    10000 non-null  datetime64[ns]\n",
      " 4   invoice_id              10000 non-null  object        \n",
      " 5   due_term                10000 non-null  int64         \n",
      " 6   cust_number_enc         10000 non-null  int32         \n",
      " 7   business_code_enc       10000 non-null  int32         \n",
      " 8   cust_payment_terms_enc  10000 non-null  int32         \n",
      " 9   invoice_currency_enc    10000 non-null  int32         \n",
      "dtypes: datetime64[ns](3), int32(4), int64(1), object(2)\n",
      "memory usage: 961.2+ KB\n"
     ]
    }
   ],
   "source": [
    "X_main_test.info()"
   ]
  },
  {
   "cell_type": "code",
   "execution_count": 593,
   "id": "b65eaa80",
   "metadata": {},
   "outputs": [],
   "source": [
    "col_date=['document_create_date.1','due_in_date','baseline_create_date']\n",
    "for col in col_date:\n",
    "    X_main_test[col+'.day'] = X_main_test[col].dt.day\n",
    "    X_main_test[col+'.month'] = X_main_test[col].dt.month\n",
    "    X_main_test[col+'.year'] = X_main_test[col].dt.year\n",
    "    X_main_test.drop(col, axis =1,inplace=True)\n",
    "\n",
    "#date columns are changed into day month year so that they become integer"
   ]
  },
  {
   "cell_type": "code",
   "execution_count": 594,
   "id": "ed6b0fa6",
   "metadata": {},
   "outputs": [
    {
     "name": "stdout",
     "output_type": "stream",
     "text": [
      "<class 'pandas.core.frame.DataFrame'>\n",
      "Int64Index: 10000 entries, 8188 to 35306\n",
      "Data columns (total 16 columns):\n",
      " #   Column                        Non-Null Count  Dtype \n",
      "---  ------                        --------------  ----- \n",
      " 0   total_open_amount             10000 non-null  object\n",
      " 1   invoice_id                    10000 non-null  object\n",
      " 2   due_term                      10000 non-null  int64 \n",
      " 3   cust_number_enc               10000 non-null  int32 \n",
      " 4   business_code_enc             10000 non-null  int32 \n",
      " 5   cust_payment_terms_enc        10000 non-null  int32 \n",
      " 6   invoice_currency_enc          10000 non-null  int32 \n",
      " 7   document_create_date.1.day    10000 non-null  int64 \n",
      " 8   document_create_date.1.month  10000 non-null  int64 \n",
      " 9   document_create_date.1.year   10000 non-null  int64 \n",
      " 10  due_in_date.day               10000 non-null  int64 \n",
      " 11  due_in_date.month             10000 non-null  int64 \n",
      " 12  due_in_date.year              10000 non-null  int64 \n",
      " 13  baseline_create_date.day      10000 non-null  int64 \n",
      " 14  baseline_create_date.month    10000 non-null  int64 \n",
      " 15  baseline_create_date.year     10000 non-null  int64 \n",
      "dtypes: int32(4), int64(10), object(2)\n",
      "memory usage: 1.4+ MB\n"
     ]
    }
   ],
   "source": [
    "X_main_test.info()"
   ]
  },
  {
   "cell_type": "code",
   "execution_count": 595,
   "id": "a3e38198",
   "metadata": {},
   "outputs": [],
   "source": [
    "X_main_test['total_open_amount']=pd.to_numeric(X_main_test['total_open_amount'])\n",
    "X_main_test.drop('invoice_id', axis =1,inplace=True)\n",
    "\n",
    "#invoice id is droped as its no use to determine the delay and it is not present in X_train\n",
    "# since doing two transpose the data type of total_open_amount is changed to object so we converted back to float64"
   ]
  },
  {
   "cell_type": "code",
   "execution_count": 596,
   "id": "bc9b0c60",
   "metadata": {},
   "outputs": [
    {
     "name": "stdout",
     "output_type": "stream",
     "text": [
      "<class 'pandas.core.frame.DataFrame'>\n",
      "Int64Index: 10000 entries, 8188 to 35306\n",
      "Data columns (total 15 columns):\n",
      " #   Column                        Non-Null Count  Dtype  \n",
      "---  ------                        --------------  -----  \n",
      " 0   total_open_amount             10000 non-null  float64\n",
      " 1   due_term                      10000 non-null  int64  \n",
      " 2   cust_number_enc               10000 non-null  int32  \n",
      " 3   business_code_enc             10000 non-null  int32  \n",
      " 4   cust_payment_terms_enc        10000 non-null  int32  \n",
      " 5   invoice_currency_enc          10000 non-null  int32  \n",
      " 6   document_create_date.1.day    10000 non-null  int64  \n",
      " 7   document_create_date.1.month  10000 non-null  int64  \n",
      " 8   document_create_date.1.year   10000 non-null  int64  \n",
      " 9   due_in_date.day               10000 non-null  int64  \n",
      " 10  due_in_date.month             10000 non-null  int64  \n",
      " 11  due_in_date.year              10000 non-null  int64  \n",
      " 12  baseline_create_date.day      10000 non-null  int64  \n",
      " 13  baseline_create_date.month    10000 non-null  int64  \n",
      " 14  baseline_create_date.year     10000 non-null  int64  \n",
      "dtypes: float64(1), int32(4), int64(10)\n",
      "memory usage: 1.3 MB\n"
     ]
    }
   ],
   "source": [
    "X_main_test.info()"
   ]
  },
  {
   "cell_type": "code",
   "execution_count": 597,
   "id": "68abbd32",
   "metadata": {},
   "outputs": [],
   "source": [
    "corrmat_test =X_main_test.corr()\n",
    "\n"
   ]
  },
  {
   "cell_type": "code",
   "execution_count": 598,
   "id": "bb240861",
   "metadata": {},
   "outputs": [
    {
     "data": {
      "text/plain": [
       "<AxesSubplot:>"
      ]
     },
     "execution_count": 598,
     "metadata": {},
     "output_type": "execute_result"
    },
    {
     "data": {
      "image/png": "[encoded data removed]",
      "text/plain": [
       "<Figure size 864x648 with 2 Axes>"
      ]
     },
     "metadata": {
      "needs_background": "light"
     },
     "output_type": "display_data"
    }
   ],
   "source": [
    "plt.subplots(figsize=(12,9))\n",
    "sns.heatmap(corrmat_test, vmax=0.9, square=True)"
   ]
  },
  {
   "cell_type": "code",
   "execution_count": 599,
   "id": "765c90aa",
   "metadata": {},
   "outputs": [
    {
     "data": {
      "text/plain": [
       "<AxesSubplot:title={'center':'Pearson Correlation of Features'}>"
      ]
     },
     "execution_count": 599,
     "metadata": {},
     "output_type": "execute_result"
    },
    {
     "data": {
      "image/png": "[encoded data removed]",
      "text/plain": [
       "<Figure size 1008x864 with 2 Axes>"
      ]
     },
     "metadata": {
      "needs_background": "light"
     },
     "output_type": "display_data"
    }
   ],
   "source": [
    "colormap = plt.cm.RdBu\n",
    "plt.figure(figsize=(14,12))\n",
    "plt.title('Pearson Correlation of Features', y=1.05, size=15)\n",
    "sns.heatmap(X_main_test.corr(),linewidths=0.1,vmax=1.0, \n",
    "            square=True, cmap=colormap, linecolor='white', annot=True)"
   ]
  },
  {
   "cell_type": "code",
   "execution_count": 600,
   "id": "fe73ceaa",
   "metadata": {},
   "outputs": [],
   "source": [
    "X_main_test=X_main_test.drop(['baseline_create_date.month'],axis=1)"
   ]
  },
  {
   "cell_type": "markdown",
   "id": "36e67044",
   "metadata": {},
   "source": [
    "It seems there are somme columns which are not correlated to each other but we are keeping them to maintain the fromat of X_train "
   ]
  },
  {
   "cell_type": "code",
   "execution_count": 601,
   "id": "9f9c06b2",
   "metadata": {},
   "outputs": [
    {
     "name": "stdout",
     "output_type": "stream",
     "text": [
      "<class 'pandas.core.frame.DataFrame'>\n",
      "Int64Index: 10000 entries, 8188 to 35306\n",
      "Data columns (total 14 columns):\n",
      " #   Column                        Non-Null Count  Dtype  \n",
      "---  ------                        --------------  -----  \n",
      " 0   total_open_amount             10000 non-null  float64\n",
      " 1   due_term                      10000 non-null  int64  \n",
      " 2   cust_number_enc               10000 non-null  int32  \n",
      " 3   business_code_enc             10000 non-null  int32  \n",
      " 4   cust_payment_terms_enc        10000 non-null  int32  \n",
      " 5   invoice_currency_enc          10000 non-null  int32  \n",
      " 6   document_create_date.1.day    10000 non-null  int64  \n",
      " 7   document_create_date.1.month  10000 non-null  int64  \n",
      " 8   document_create_date.1.year   10000 non-null  int64  \n",
      " 9   due_in_date.day               10000 non-null  int64  \n",
      " 10  due_in_date.month             10000 non-null  int64  \n",
      " 11  due_in_date.year              10000 non-null  int64  \n",
      " 12  baseline_create_date.day      10000 non-null  int64  \n",
      " 13  baseline_create_date.year     10000 non-null  int64  \n",
      "dtypes: float64(1), int32(4), int64(9)\n",
      "memory usage: 1.2 MB\n"
     ]
    }
   ],
   "source": [
    "X_main_test.info()"
   ]
  },
  {
   "cell_type": "markdown",
   "id": "992f67df",
   "metadata": {},
   "source": [
    "### Quassi Constant"
   ]
  },
  {
   "cell_type": "code",
   "execution_count": 602,
   "id": "1b177bbc",
   "metadata": {},
   "outputs": [
    {
     "data": {
      "text/plain": [
       "14"
      ]
     },
     "execution_count": 602,
     "metadata": {},
     "output_type": "execute_result"
    }
   ],
   "source": [
    "#Passing a value of zero for the parameter will filter all the features with zero variance\n",
    "constant_filter = VarianceThreshold(threshold=0)\n",
    "#we need to simply apply this filter to our training set as shown in the following example\n",
    "constant_filter.fit(X_train)\n",
    "#the number of non-constant features.\n",
    "len(X_train.columns[constant_filter.get_support()])\n"
   ]
  },
  {
   "cell_type": "code",
   "execution_count": 603,
   "id": "85eafcf8",
   "metadata": {},
   "outputs": [
    {
     "name": "stdout",
     "output_type": "stream",
     "text": [
      "0\n"
     ]
    }
   ],
   "source": [
    "constant_columns = [column for column in X_train.columns\n",
    "                    if column not in X_train.columns[constant_filter.get_support()]]\n",
    "\n",
    "print(len(constant_columns))"
   ]
  },
  {
   "cell_type": "code",
   "execution_count": 604,
   "id": "a36da889",
   "metadata": {},
   "outputs": [
    {
     "name": "stdout",
     "output_type": "stream",
     "text": [
      "0\n"
     ]
    }
   ],
   "source": [
    "# transpose the feature matrice\n",
    "X_train_T = X_train.T\n",
    "# print the number of duplicated features\n",
    "print(X_train_T.duplicated().sum())\n",
    "# select the duplicated features columns names\n",
    "duplicated_columns = X_train_T[X_train_T.duplicated()].index.values"
   ]
  },
  {
   "cell_type": "code",
   "execution_count": 605,
   "id": "2b3d2e4e",
   "metadata": {},
   "outputs": [],
   "source": [
    "\n",
    "def handling_correlation(df,threshold=0.8):\n",
    "    # creating set to hold the correlated features\n",
    "    corr_features = set()\n",
    "    # create the correlation matrix (default to pearson)\n",
    "    corr_matrix = df.corr()\n",
    "    #code for selecting all correleated features\n",
    "    for i in range(len(corr_matrix .columns)):\n",
    "        for j in range(i):\n",
    "            if abs(corr_matrix.iloc[i, j]) >threshold:\n",
    "                colname = corr_matrix.columns[i]\n",
    "                corr_features.add(colname)\n",
    "    return list(corr_features)\n",
    "\n",
    "# same fuction as above in X_train"
   ]
  },
  {
   "cell_type": "code",
   "execution_count": 606,
   "id": "de68808a",
   "metadata": {},
   "outputs": [
    {
     "data": {
      "text/plain": [
       "['document_create_date.1.day',\n",
       " 'invoice_currency_enc',\n",
       " 'document_create_date.1.month',\n",
       " 'document_create_date.1.year']"
      ]
     },
     "execution_count": 606,
     "metadata": {},
     "output_type": "execute_result"
    }
   ],
   "source": [
    "handling_correlation(X_train.merge(y_train , on = X_train.index),0.85)"
   ]
  },
  {
   "cell_type": "markdown",
   "id": "6d5ae828",
   "metadata": {},
   "source": [
    "Since we have same correlation we are not removing and adding any feature as it was not added in the X_train"
   ]
  },
  {
   "cell_type": "code",
   "execution_count": 607,
   "id": "854e733f",
   "metadata": {},
   "outputs": [
    {
     "data": {
      "text/plain": [
       "Index(['total_open_amount', 'due_term', 'cust_number_enc', 'business_code_enc',\n",
       "       'cust_payment_terms_enc', 'invoice_currency_enc',\n",
       "       'document_create_date.1.day', 'document_create_date.1.month',\n",
       "       'document_create_date.1.year', 'due_in_date.day', 'due_in_date.month',\n",
       "       'due_in_date.year', 'baseline_create_date.day',\n",
       "       'baseline_create_date.year'],\n",
       "      dtype='object')"
      ]
     },
     "execution_count": 607,
     "metadata": {},
     "output_type": "execute_result"
    }
   ],
   "source": [
    "X_main_test.columns"
   ]
  },
  {
   "cell_type": "code",
   "execution_count": 608,
   "id": "01f7c7fe",
   "metadata": {},
   "outputs": [
    {
     "data": {
      "text/plain": [
       "Index(['total_open_amount', 'due_term', 'cust_number_enc', 'business_code_enc',\n",
       "       'cust_payment_terms_enc', 'invoice_currency_enc',\n",
       "       'baseline_create_date.day', 'baseline_create_date.year',\n",
       "       'due_in_date.day', 'due_in_date.month', 'due_in_date.year',\n",
       "       'document_create_date.1.day', 'document_create_date.1.month',\n",
       "       'document_create_date.1.year'],\n",
       "      dtype='object')"
      ]
     },
     "execution_count": 608,
     "metadata": {},
     "output_type": "execute_result"
    }
   ],
   "source": [
    "X_train.columns"
   ]
  },
  {
   "cell_type": "markdown",
   "id": "6458c151",
   "metadata": {},
   "source": [
    "Checking the columns features and number"
   ]
  },
  {
   "cell_type": "markdown",
   "id": "831f8b1c",
   "metadata": {},
   "source": [
    "## Predicting The delay"
   ]
  },
  {
   "cell_type": "code",
   "execution_count": 609,
   "id": "607458c4",
   "metadata": {},
   "outputs": [],
   "source": [
    "# The delay is predected using rmodel as we have chosen this model\n",
    "final_result = rmodel.predict(X_main_test)"
   ]
  },
  {
   "cell_type": "code",
   "execution_count": 610,
   "id": "a3696c92",
   "metadata": {},
   "outputs": [],
   "source": [
    "# We store the predicted delay with series name delay in final_result and the value is ceil becuase the day should be integer\n",
    "final_result = pd.Series(final_result,name='delay')"
   ]
  },
  {
   "cell_type": "code",
   "execution_count": 611,
   "id": "64438619",
   "metadata": {},
   "outputs": [
    {
     "data": {
      "text/plain": [
       "0     8.96\n",
       "1   -26.55\n",
       "2     4.60\n",
       "3   -26.93\n",
       "4     4.82\n",
       "Name: delay, dtype: float64"
      ]
     },
     "execution_count": 611,
     "metadata": {},
     "output_type": "execute_result"
    }
   ],
   "source": [
    "final_result.head()"
   ]
  },
  {
   "cell_type": "code",
   "execution_count": 612,
   "id": "2e6b899c",
   "metadata": {},
   "outputs": [],
   "source": [
    "# resetting the index of main test so that we can merge delay series with it\n",
    "test.reset_index(drop=True,inplace=True)"
   ]
  },
  {
   "cell_type": "code",
   "execution_count": 613,
   "id": "a490ba61",
   "metadata": {},
   "outputs": [],
   "source": [
    "Final = test.merge(final_result , on = X_main_test.index )\n",
    "Final.drop('key_0',axis=1,inplace=True)"
   ]
  },
  {
   "cell_type": "code",
   "execution_count": 614,
   "id": "9bb06bc2",
   "metadata": {},
   "outputs": [],
   "source": [
    "Final['delay']=Final['delay'].apply(np.ceil)"
   ]
  },
  {
   "cell_type": "code",
   "execution_count": 615,
   "id": "d5f11b09",
   "metadata": {},
   "outputs": [],
   "source": [
    "def bucketization(x):\n",
    "    if x<0:\n",
    "        return('(< 0) Days')\n",
    "    if x in range(0,16):\n",
    "        return('(0-15) Days')\n",
    "    elif x in range(16,31):\n",
    "        return('(16-30) Days')\n",
    "    elif x in range(31,45):\n",
    "        return('(31-45) Days')\n",
    "    elif x in range(45,60):\n",
    "        return('(45-60) Days')\n",
    "    else:\n",
    "        return('(> 60) Days')\n",
    "    \n",
    "#this funtion will buketize the delay into no of days such as < 0 days,0-15 days.. etc."
   ]
  },
  {
   "cell_type": "code",
   "execution_count": 616,
   "id": "eeda93f1",
   "metadata": {},
   "outputs": [],
   "source": [
    "Final['DELAY BUCKET']= pd.Series([bucketization(x=Final['delay'][i])  for i in range(len(Final))])\n",
    "# bucketiztion fucnction is called and delay bucket column is made"
   ]
  },
  {
   "cell_type": "code",
   "execution_count": 617,
   "id": "66912369",
   "metadata": {},
   "outputs": [],
   "source": [
    "Final['delay']=Final['delay'].apply(pd.to_timedelta,unit = 'D')\n",
    "# Now the integer delay vaalue is changed to timedelta with unit ='D'"
   ]
  },
  {
   "cell_type": "code",
   "execution_count": 618,
   "id": "817f2317",
   "metadata": {},
   "outputs": [
    {
     "data": {
      "text/plain": [
       "0        9 days\n",
       "1      -26 days\n",
       "2        5 days\n",
       "3      -26 days\n",
       "4        5 days\n",
       "         ...   \n",
       "9995     6 days\n",
       "9996    14 days\n",
       "9997    20 days\n",
       "9998    21 days\n",
       "9999    21 days\n",
       "Name: delay, Length: 10000, dtype: timedelta64[ns]"
      ]
     },
     "execution_count": 618,
     "metadata": {},
     "output_type": "execute_result"
    }
   ],
   "source": [
    "Final['delay']"
   ]
  },
  {
   "cell_type": "code",
   "execution_count": 619,
   "id": "5335da32",
   "metadata": {},
   "outputs": [],
   "source": [
    "Final['clear_date'] = Final['due_in_date'] +  pd.to_timedelta(Final['delay'], unit='d')\n",
    "# Since delay =clear date- due in date\n",
    "# then clear date=delay +due in date"
   ]
  },
  {
   "cell_type": "code",
   "execution_count": 620,
   "id": "c2083fb2",
   "metadata": {},
   "outputs": [
    {
     "data": {
      "text/html": [
       "<div>\n",
       "<style scoped>\n",
       "    .dataframe tbody tr th:only-of-type {\n",
       "        vertical-align: middle;\n",
       "    }\n",
       "\n",
       "    .dataframe tbody tr th {\n",
       "        vertical-align: top;\n",
       "    }\n",
       "\n",
       "    .dataframe thead th {\n",
       "        text-align: right;\n",
       "    }\n",
       "</style>\n",
       "<table border=\"1\" class=\"dataframe\">\n",
       "  <thead>\n",
       "    <tr style=\"text-align: right;\">\n",
       "      <th></th>\n",
       "      <th>business_code</th>\n",
       "      <th>cust_number</th>\n",
       "      <th>name_customer</th>\n",
       "      <th>buisness_year</th>\n",
       "      <th>doc_id</th>\n",
       "      <th>posting_date</th>\n",
       "      <th>document_create_date</th>\n",
       "      <th>document_create_date.1</th>\n",
       "      <th>due_in_date</th>\n",
       "      <th>invoice_currency</th>\n",
       "      <th>document type</th>\n",
       "      <th>posting_id</th>\n",
       "      <th>total_open_amount</th>\n",
       "      <th>baseline_create_date</th>\n",
       "      <th>cust_payment_terms</th>\n",
       "      <th>invoice_id</th>\n",
       "      <th>isOpen</th>\n",
       "      <th>delay</th>\n",
       "      <th>DELAY BUCKET</th>\n",
       "      <th>clear_date</th>\n",
       "    </tr>\n",
       "  </thead>\n",
       "  <tbody>\n",
       "    <tr>\n",
       "      <th>0</th>\n",
       "      <td>U001</td>\n",
       "      <td>200794332</td>\n",
       "      <td>COST us</td>\n",
       "      <td>2020.0</td>\n",
       "      <td>1.930671e+09</td>\n",
       "      <td>2020-03-20</td>\n",
       "      <td>2020-03-19</td>\n",
       "      <td>2020-03-20</td>\n",
       "      <td>2020-04-04</td>\n",
       "      <td>USD</td>\n",
       "      <td>RV</td>\n",
       "      <td>1.0</td>\n",
       "      <td>4427.22</td>\n",
       "      <td>2020-03-20</td>\n",
       "      <td>NAAX</td>\n",
       "      <td>1.930671e+09</td>\n",
       "      <td>1</td>\n",
       "      <td>9 days</td>\n",
       "      <td>(0-15) Days</td>\n",
       "      <td>2020-04-13</td>\n",
       "    </tr>\n",
       "    <tr>\n",
       "      <th>1</th>\n",
       "      <td>U001</td>\n",
       "      <td>0200748108</td>\n",
       "      <td>KROGER associates</td>\n",
       "      <td>2020.0</td>\n",
       "      <td>1.930572e+09</td>\n",
       "      <td>2020-02-27</td>\n",
       "      <td>2020-02-26</td>\n",
       "      <td>2020-02-27</td>\n",
       "      <td>2020-03-13</td>\n",
       "      <td>USD</td>\n",
       "      <td>RV</td>\n",
       "      <td>1.0</td>\n",
       "      <td>613.81</td>\n",
       "      <td>2020-02-27</td>\n",
       "      <td>NAA8</td>\n",
       "      <td>1.930572e+09</td>\n",
       "      <td>1</td>\n",
       "      <td>-26 days</td>\n",
       "      <td>(&lt; 0) Days</td>\n",
       "      <td>2020-02-16</td>\n",
       "    </tr>\n",
       "    <tr>\n",
       "      <th>2</th>\n",
       "      <td>U001</td>\n",
       "      <td>0200744019</td>\n",
       "      <td>TARG associates</td>\n",
       "      <td>2020.0</td>\n",
       "      <td>1.930757e+09</td>\n",
       "      <td>2020-04-07</td>\n",
       "      <td>2020-04-07</td>\n",
       "      <td>2020-04-07</td>\n",
       "      <td>2020-04-22</td>\n",
       "      <td>USD</td>\n",
       "      <td>RV</td>\n",
       "      <td>1.0</td>\n",
       "      <td>82568.88</td>\n",
       "      <td>2020-04-07</td>\n",
       "      <td>NAA8</td>\n",
       "      <td>1.930757e+09</td>\n",
       "      <td>1</td>\n",
       "      <td>5 days</td>\n",
       "      <td>(0-15) Days</td>\n",
       "      <td>2020-04-27</td>\n",
       "    </tr>\n",
       "    <tr>\n",
       "      <th>3</th>\n",
       "      <td>U001</td>\n",
       "      <td>0200936373</td>\n",
       "      <td>SUPE in</td>\n",
       "      <td>2020.0</td>\n",
       "      <td>1.930777e+09</td>\n",
       "      <td>2020-04-13</td>\n",
       "      <td>2020-04-11</td>\n",
       "      <td>2020-04-13</td>\n",
       "      <td>2020-04-28</td>\n",
       "      <td>USD</td>\n",
       "      <td>RV</td>\n",
       "      <td>1.0</td>\n",
       "      <td>51128.96</td>\n",
       "      <td>2020-04-13</td>\n",
       "      <td>NAA8</td>\n",
       "      <td>1.930777e+09</td>\n",
       "      <td>1</td>\n",
       "      <td>-26 days</td>\n",
       "      <td>(&lt; 0) Days</td>\n",
       "      <td>2020-04-02</td>\n",
       "    </tr>\n",
       "    <tr>\n",
       "      <th>4</th>\n",
       "      <td>U001</td>\n",
       "      <td>0200705372</td>\n",
       "      <td>FR corp</td>\n",
       "      <td>2020.0</td>\n",
       "      <td>1.930691e+09</td>\n",
       "      <td>2020-03-25</td>\n",
       "      <td>2020-03-24</td>\n",
       "      <td>2020-03-25</td>\n",
       "      <td>2020-04-09</td>\n",
       "      <td>USD</td>\n",
       "      <td>RV</td>\n",
       "      <td>1.0</td>\n",
       "      <td>3330.01</td>\n",
       "      <td>2020-03-25</td>\n",
       "      <td>NAA8</td>\n",
       "      <td>1.930691e+09</td>\n",
       "      <td>1</td>\n",
       "      <td>5 days</td>\n",
       "      <td>(0-15) Days</td>\n",
       "      <td>2020-04-14</td>\n",
       "    </tr>\n",
       "    <tr>\n",
       "      <th>...</th>\n",
       "      <td>...</td>\n",
       "      <td>...</td>\n",
       "      <td>...</td>\n",
       "      <td>...</td>\n",
       "      <td>...</td>\n",
       "      <td>...</td>\n",
       "      <td>...</td>\n",
       "      <td>...</td>\n",
       "      <td>...</td>\n",
       "      <td>...</td>\n",
       "      <td>...</td>\n",
       "      <td>...</td>\n",
       "      <td>...</td>\n",
       "      <td>...</td>\n",
       "      <td>...</td>\n",
       "      <td>...</td>\n",
       "      <td>...</td>\n",
       "      <td>...</td>\n",
       "      <td>...</td>\n",
       "      <td>...</td>\n",
       "    </tr>\n",
       "    <tr>\n",
       "      <th>9995</th>\n",
       "      <td>U001</td>\n",
       "      <td>0200418007</td>\n",
       "      <td>AM co</td>\n",
       "      <td>2020.0</td>\n",
       "      <td>1.930788e+09</td>\n",
       "      <td>2020-04-17</td>\n",
       "      <td>2020-04-14</td>\n",
       "      <td>2020-04-17</td>\n",
       "      <td>2020-06-21</td>\n",
       "      <td>USD</td>\n",
       "      <td>RV</td>\n",
       "      <td>1.0</td>\n",
       "      <td>27417.60</td>\n",
       "      <td>2020-04-17</td>\n",
       "      <td>NAGD</td>\n",
       "      <td>1.930788e+09</td>\n",
       "      <td>1</td>\n",
       "      <td>6 days</td>\n",
       "      <td>(0-15) Days</td>\n",
       "      <td>2020-06-27</td>\n",
       "    </tr>\n",
       "    <tr>\n",
       "      <th>9996</th>\n",
       "      <td>U001</td>\n",
       "      <td>0200777735</td>\n",
       "      <td>NASH  associates</td>\n",
       "      <td>2020.0</td>\n",
       "      <td>1.930686e+09</td>\n",
       "      <td>2020-03-23</td>\n",
       "      <td>2020-03-22</td>\n",
       "      <td>2020-03-23</td>\n",
       "      <td>2020-04-07</td>\n",
       "      <td>USD</td>\n",
       "      <td>RV</td>\n",
       "      <td>1.0</td>\n",
       "      <td>81859.78</td>\n",
       "      <td>2020-03-23</td>\n",
       "      <td>NAA8</td>\n",
       "      <td>1.930686e+09</td>\n",
       "      <td>1</td>\n",
       "      <td>14 days</td>\n",
       "      <td>(0-15) Days</td>\n",
       "      <td>2020-04-21</td>\n",
       "    </tr>\n",
       "    <tr>\n",
       "      <th>9997</th>\n",
       "      <td>CA02</td>\n",
       "      <td>0140106408</td>\n",
       "      <td>WAL-M corporation</td>\n",
       "      <td>2020.0</td>\n",
       "      <td>2.960626e+09</td>\n",
       "      <td>2020-04-01</td>\n",
       "      <td>2020-04-01</td>\n",
       "      <td>2020-04-01</td>\n",
       "      <td>2020-04-11</td>\n",
       "      <td>CAD</td>\n",
       "      <td>RV</td>\n",
       "      <td>1.0</td>\n",
       "      <td>62156.26</td>\n",
       "      <td>2020-04-01</td>\n",
       "      <td>CA10</td>\n",
       "      <td>2.960626e+09</td>\n",
       "      <td>1</td>\n",
       "      <td>20 days</td>\n",
       "      <td>(16-30) Days</td>\n",
       "      <td>2020-05-01</td>\n",
       "    </tr>\n",
       "    <tr>\n",
       "      <th>9998</th>\n",
       "      <td>U001</td>\n",
       "      <td>0200803720</td>\n",
       "      <td>DEC systems</td>\n",
       "      <td>2020.0</td>\n",
       "      <td>1.930873e+09</td>\n",
       "      <td>2020-05-07</td>\n",
       "      <td>2020-05-07</td>\n",
       "      <td>2020-05-07</td>\n",
       "      <td>2020-05-11</td>\n",
       "      <td>USD</td>\n",
       "      <td>RV</td>\n",
       "      <td>1.0</td>\n",
       "      <td>4708.50</td>\n",
       "      <td>2020-05-01</td>\n",
       "      <td>NAM2</td>\n",
       "      <td>1.930873e+09</td>\n",
       "      <td>1</td>\n",
       "      <td>21 days</td>\n",
       "      <td>(16-30) Days</td>\n",
       "      <td>2020-06-01</td>\n",
       "    </tr>\n",
       "    <tr>\n",
       "      <th>9999</th>\n",
       "      <td>U001</td>\n",
       "      <td>0200769623</td>\n",
       "      <td>WAL-MAR foundation</td>\n",
       "      <td>2020.0</td>\n",
       "      <td>1.930638e+09</td>\n",
       "      <td>2020-03-12</td>\n",
       "      <td>2020-03-11</td>\n",
       "      <td>2020-03-12</td>\n",
       "      <td>2020-03-27</td>\n",
       "      <td>USD</td>\n",
       "      <td>RV</td>\n",
       "      <td>1.0</td>\n",
       "      <td>1898.90</td>\n",
       "      <td>2020-03-12</td>\n",
       "      <td>NAH4</td>\n",
       "      <td>1.930638e+09</td>\n",
       "      <td>1</td>\n",
       "      <td>21 days</td>\n",
       "      <td>(16-30) Days</td>\n",
       "      <td>2020-04-17</td>\n",
       "    </tr>\n",
       "  </tbody>\n",
       "</table>\n",
       "<p>10000 rows × 20 columns</p>\n",
       "</div>"
      ],
      "text/plain": [
       "     business_code cust_number       name_customer  buisness_year  \\\n",
       "0             U001   200794332             COST us         2020.0   \n",
       "1             U001  0200748108   KROGER associates         2020.0   \n",
       "2             U001  0200744019     TARG associates         2020.0   \n",
       "3             U001  0200936373             SUPE in         2020.0   \n",
       "4             U001  0200705372             FR corp         2020.0   \n",
       "...            ...         ...                 ...            ...   \n",
       "9995          U001  0200418007               AM co         2020.0   \n",
       "9996          U001  0200777735    NASH  associates         2020.0   \n",
       "9997          CA02  0140106408   WAL-M corporation         2020.0   \n",
       "9998          U001  0200803720         DEC systems         2020.0   \n",
       "9999          U001  0200769623  WAL-MAR foundation         2020.0   \n",
       "\n",
       "            doc_id posting_date document_create_date document_create_date.1  \\\n",
       "0     1.930671e+09   2020-03-20           2020-03-19             2020-03-20   \n",
       "1     1.930572e+09   2020-02-27           2020-02-26             2020-02-27   \n",
       "2     1.930757e+09   2020-04-07           2020-04-07             2020-04-07   \n",
       "3     1.930777e+09   2020-04-13           2020-04-11             2020-04-13   \n",
       "4     1.930691e+09   2020-03-25           2020-03-24             2020-03-25   \n",
       "...            ...          ...                  ...                    ...   \n",
       "9995  1.930788e+09   2020-04-17           2020-04-14             2020-04-17   \n",
       "9996  1.930686e+09   2020-03-23           2020-03-22             2020-03-23   \n",
       "9997  2.960626e+09   2020-04-01           2020-04-01             2020-04-01   \n",
       "9998  1.930873e+09   2020-05-07           2020-05-07             2020-05-07   \n",
       "9999  1.930638e+09   2020-03-12           2020-03-11             2020-03-12   \n",
       "\n",
       "     due_in_date invoice_currency document type  posting_id  \\\n",
       "0     2020-04-04              USD            RV         1.0   \n",
       "1     2020-03-13              USD            RV         1.0   \n",
       "2     2020-04-22              USD            RV         1.0   \n",
       "3     2020-04-28              USD            RV         1.0   \n",
       "4     2020-04-09              USD            RV         1.0   \n",
       "...          ...              ...           ...         ...   \n",
       "9995  2020-06-21              USD            RV         1.0   \n",
       "9996  2020-04-07              USD            RV         1.0   \n",
       "9997  2020-04-11              CAD            RV         1.0   \n",
       "9998  2020-05-11              USD            RV         1.0   \n",
       "9999  2020-03-27              USD            RV         1.0   \n",
       "\n",
       "      total_open_amount baseline_create_date cust_payment_terms    invoice_id  \\\n",
       "0               4427.22           2020-03-20               NAAX  1.930671e+09   \n",
       "1                613.81           2020-02-27               NAA8  1.930572e+09   \n",
       "2              82568.88           2020-04-07               NAA8  1.930757e+09   \n",
       "3              51128.96           2020-04-13               NAA8  1.930777e+09   \n",
       "4               3330.01           2020-03-25               NAA8  1.930691e+09   \n",
       "...                 ...                  ...                ...           ...   \n",
       "9995           27417.60           2020-04-17               NAGD  1.930788e+09   \n",
       "9996           81859.78           2020-03-23               NAA8  1.930686e+09   \n",
       "9997           62156.26           2020-04-01               CA10  2.960626e+09   \n",
       "9998            4708.50           2020-05-01               NAM2  1.930873e+09   \n",
       "9999            1898.90           2020-03-12               NAH4  1.930638e+09   \n",
       "\n",
       "      isOpen    delay  DELAY BUCKET clear_date  \n",
       "0          1   9 days   (0-15) Days 2020-04-13  \n",
       "1          1 -26 days    (< 0) Days 2020-02-16  \n",
       "2          1   5 days   (0-15) Days 2020-04-27  \n",
       "3          1 -26 days    (< 0) Days 2020-04-02  \n",
       "4          1   5 days   (0-15) Days 2020-04-14  \n",
       "...      ...      ...           ...        ...  \n",
       "9995       1   6 days   (0-15) Days 2020-06-27  \n",
       "9996       1  14 days   (0-15) Days 2020-04-21  \n",
       "9997       1  20 days  (16-30) Days 2020-05-01  \n",
       "9998       1  21 days  (16-30) Days 2020-06-01  \n",
       "9999       1  21 days  (16-30) Days 2020-04-17  \n",
       "\n",
       "[10000 rows x 20 columns]"
      ]
     },
     "execution_count": 620,
     "metadata": {},
     "output_type": "execute_result"
    }
   ],
   "source": [
    "Final"
   ]
  },
  {
   "cell_type": "code",
   "execution_count": 621,
   "id": "e0fb1824",
   "metadata": {},
   "outputs": [
    {
     "data": {
      "text/html": [
       "<div>\n",
       "<style scoped>\n",
       "    .dataframe tbody tr th:only-of-type {\n",
       "        vertical-align: middle;\n",
       "    }\n",
       "\n",
       "    .dataframe tbody tr th {\n",
       "        vertical-align: top;\n",
       "    }\n",
       "\n",
       "    .dataframe thead th {\n",
       "        text-align: right;\n",
       "    }\n",
       "</style>\n",
       "<table border=\"1\" class=\"dataframe\">\n",
       "  <thead>\n",
       "    <tr style=\"text-align: right;\">\n",
       "      <th></th>\n",
       "      <th>business_code</th>\n",
       "      <th>cust_number</th>\n",
       "      <th>name_customer</th>\n",
       "      <th>buisness_year</th>\n",
       "      <th>doc_id</th>\n",
       "      <th>posting_date</th>\n",
       "      <th>document_create_date</th>\n",
       "      <th>document_create_date.1</th>\n",
       "      <th>due_in_date</th>\n",
       "      <th>invoice_currency</th>\n",
       "      <th>document type</th>\n",
       "      <th>posting_id</th>\n",
       "      <th>total_open_amount</th>\n",
       "      <th>baseline_create_date</th>\n",
       "      <th>cust_payment_terms</th>\n",
       "      <th>invoice_id</th>\n",
       "      <th>isOpen</th>\n",
       "    </tr>\n",
       "  </thead>\n",
       "  <tbody>\n",
       "    <tr>\n",
       "      <th>0</th>\n",
       "      <td>U001</td>\n",
       "      <td>200794332</td>\n",
       "      <td>COST us</td>\n",
       "      <td>2020.0</td>\n",
       "      <td>1.930671e+09</td>\n",
       "      <td>2020-03-20</td>\n",
       "      <td>2020-03-19</td>\n",
       "      <td>2020-03-20</td>\n",
       "      <td>2020-04-04</td>\n",
       "      <td>USD</td>\n",
       "      <td>RV</td>\n",
       "      <td>1.0</td>\n",
       "      <td>4427.22</td>\n",
       "      <td>2020-03-20</td>\n",
       "      <td>NAAX</td>\n",
       "      <td>1.930671e+09</td>\n",
       "      <td>1</td>\n",
       "    </tr>\n",
       "    <tr>\n",
       "      <th>1</th>\n",
       "      <td>U001</td>\n",
       "      <td>0200748108</td>\n",
       "      <td>KROGER associates</td>\n",
       "      <td>2020.0</td>\n",
       "      <td>1.930572e+09</td>\n",
       "      <td>2020-02-27</td>\n",
       "      <td>2020-02-26</td>\n",
       "      <td>2020-02-27</td>\n",
       "      <td>2020-03-13</td>\n",
       "      <td>USD</td>\n",
       "      <td>RV</td>\n",
       "      <td>1.0</td>\n",
       "      <td>613.81</td>\n",
       "      <td>2020-02-27</td>\n",
       "      <td>NAA8</td>\n",
       "      <td>1.930572e+09</td>\n",
       "      <td>1</td>\n",
       "    </tr>\n",
       "    <tr>\n",
       "      <th>2</th>\n",
       "      <td>U001</td>\n",
       "      <td>0200744019</td>\n",
       "      <td>TARG associates</td>\n",
       "      <td>2020.0</td>\n",
       "      <td>1.930757e+09</td>\n",
       "      <td>2020-04-07</td>\n",
       "      <td>2020-04-07</td>\n",
       "      <td>2020-04-07</td>\n",
       "      <td>2020-04-22</td>\n",
       "      <td>USD</td>\n",
       "      <td>RV</td>\n",
       "      <td>1.0</td>\n",
       "      <td>82568.88</td>\n",
       "      <td>2020-04-07</td>\n",
       "      <td>NAA8</td>\n",
       "      <td>1.930757e+09</td>\n",
       "      <td>1</td>\n",
       "    </tr>\n",
       "    <tr>\n",
       "      <th>3</th>\n",
       "      <td>U001</td>\n",
       "      <td>0200936373</td>\n",
       "      <td>SUPE in</td>\n",
       "      <td>2020.0</td>\n",
       "      <td>1.930777e+09</td>\n",
       "      <td>2020-04-13</td>\n",
       "      <td>2020-04-11</td>\n",
       "      <td>2020-04-13</td>\n",
       "      <td>2020-04-28</td>\n",
       "      <td>USD</td>\n",
       "      <td>RV</td>\n",
       "      <td>1.0</td>\n",
       "      <td>51128.96</td>\n",
       "      <td>2020-04-13</td>\n",
       "      <td>NAA8</td>\n",
       "      <td>1.930777e+09</td>\n",
       "      <td>1</td>\n",
       "    </tr>\n",
       "    <tr>\n",
       "      <th>4</th>\n",
       "      <td>U001</td>\n",
       "      <td>0200705372</td>\n",
       "      <td>FR corp</td>\n",
       "      <td>2020.0</td>\n",
       "      <td>1.930691e+09</td>\n",
       "      <td>2020-03-25</td>\n",
       "      <td>2020-03-24</td>\n",
       "      <td>2020-03-25</td>\n",
       "      <td>2020-04-09</td>\n",
       "      <td>USD</td>\n",
       "      <td>RV</td>\n",
       "      <td>1.0</td>\n",
       "      <td>3330.01</td>\n",
       "      <td>2020-03-25</td>\n",
       "      <td>NAA8</td>\n",
       "      <td>1.930691e+09</td>\n",
       "      <td>1</td>\n",
       "    </tr>\n",
       "    <tr>\n",
       "      <th>...</th>\n",
       "      <td>...</td>\n",
       "      <td>...</td>\n",
       "      <td>...</td>\n",
       "      <td>...</td>\n",
       "      <td>...</td>\n",
       "      <td>...</td>\n",
       "      <td>...</td>\n",
       "      <td>...</td>\n",
       "      <td>...</td>\n",
       "      <td>...</td>\n",
       "      <td>...</td>\n",
       "      <td>...</td>\n",
       "      <td>...</td>\n",
       "      <td>...</td>\n",
       "      <td>...</td>\n",
       "      <td>...</td>\n",
       "      <td>...</td>\n",
       "    </tr>\n",
       "    <tr>\n",
       "      <th>9995</th>\n",
       "      <td>U001</td>\n",
       "      <td>0200418007</td>\n",
       "      <td>AM co</td>\n",
       "      <td>2020.0</td>\n",
       "      <td>1.930788e+09</td>\n",
       "      <td>2020-04-17</td>\n",
       "      <td>2020-04-14</td>\n",
       "      <td>2020-04-17</td>\n",
       "      <td>2020-06-21</td>\n",
       "      <td>USD</td>\n",
       "      <td>RV</td>\n",
       "      <td>1.0</td>\n",
       "      <td>27417.60</td>\n",
       "      <td>2020-04-17</td>\n",
       "      <td>NAGD</td>\n",
       "      <td>1.930788e+09</td>\n",
       "      <td>1</td>\n",
       "    </tr>\n",
       "    <tr>\n",
       "      <th>9996</th>\n",
       "      <td>U001</td>\n",
       "      <td>0200777735</td>\n",
       "      <td>NASH  associates</td>\n",
       "      <td>2020.0</td>\n",
       "      <td>1.930686e+09</td>\n",
       "      <td>2020-03-23</td>\n",
       "      <td>2020-03-22</td>\n",
       "      <td>2020-03-23</td>\n",
       "      <td>2020-04-07</td>\n",
       "      <td>USD</td>\n",
       "      <td>RV</td>\n",
       "      <td>1.0</td>\n",
       "      <td>81859.78</td>\n",
       "      <td>2020-03-23</td>\n",
       "      <td>NAA8</td>\n",
       "      <td>1.930686e+09</td>\n",
       "      <td>1</td>\n",
       "    </tr>\n",
       "    <tr>\n",
       "      <th>9997</th>\n",
       "      <td>CA02</td>\n",
       "      <td>0140106408</td>\n",
       "      <td>WAL-M corporation</td>\n",
       "      <td>2020.0</td>\n",
       "      <td>2.960626e+09</td>\n",
       "      <td>2020-04-01</td>\n",
       "      <td>2020-04-01</td>\n",
       "      <td>2020-04-01</td>\n",
       "      <td>2020-04-11</td>\n",
       "      <td>CAD</td>\n",
       "      <td>RV</td>\n",
       "      <td>1.0</td>\n",
       "      <td>62156.26</td>\n",
       "      <td>2020-04-01</td>\n",
       "      <td>CA10</td>\n",
       "      <td>2.960626e+09</td>\n",
       "      <td>1</td>\n",
       "    </tr>\n",
       "    <tr>\n",
       "      <th>9998</th>\n",
       "      <td>U001</td>\n",
       "      <td>0200803720</td>\n",
       "      <td>DEC systems</td>\n",
       "      <td>2020.0</td>\n",
       "      <td>1.930873e+09</td>\n",
       "      <td>2020-05-07</td>\n",
       "      <td>2020-05-07</td>\n",
       "      <td>2020-05-07</td>\n",
       "      <td>2020-05-11</td>\n",
       "      <td>USD</td>\n",
       "      <td>RV</td>\n",
       "      <td>1.0</td>\n",
       "      <td>4708.50</td>\n",
       "      <td>2020-05-01</td>\n",
       "      <td>NAM2</td>\n",
       "      <td>1.930873e+09</td>\n",
       "      <td>1</td>\n",
       "    </tr>\n",
       "    <tr>\n",
       "      <th>9999</th>\n",
       "      <td>U001</td>\n",
       "      <td>0200769623</td>\n",
       "      <td>WAL-MAR foundation</td>\n",
       "      <td>2020.0</td>\n",
       "      <td>1.930638e+09</td>\n",
       "      <td>2020-03-12</td>\n",
       "      <td>2020-03-11</td>\n",
       "      <td>2020-03-12</td>\n",
       "      <td>2020-03-27</td>\n",
       "      <td>USD</td>\n",
       "      <td>RV</td>\n",
       "      <td>1.0</td>\n",
       "      <td>1898.90</td>\n",
       "      <td>2020-03-12</td>\n",
       "      <td>NAH4</td>\n",
       "      <td>1.930638e+09</td>\n",
       "      <td>1</td>\n",
       "    </tr>\n",
       "  </tbody>\n",
       "</table>\n",
       "<p>10000 rows × 17 columns</p>\n",
       "</div>"
      ],
      "text/plain": [
       "     business_code cust_number       name_customer  buisness_year  \\\n",
       "0             U001   200794332             COST us         2020.0   \n",
       "1             U001  0200748108   KROGER associates         2020.0   \n",
       "2             U001  0200744019     TARG associates         2020.0   \n",
       "3             U001  0200936373             SUPE in         2020.0   \n",
       "4             U001  0200705372             FR corp         2020.0   \n",
       "...            ...         ...                 ...            ...   \n",
       "9995          U001  0200418007               AM co         2020.0   \n",
       "9996          U001  0200777735    NASH  associates         2020.0   \n",
       "9997          CA02  0140106408   WAL-M corporation         2020.0   \n",
       "9998          U001  0200803720         DEC systems         2020.0   \n",
       "9999          U001  0200769623  WAL-MAR foundation         2020.0   \n",
       "\n",
       "            doc_id posting_date document_create_date document_create_date.1  \\\n",
       "0     1.930671e+09   2020-03-20           2020-03-19             2020-03-20   \n",
       "1     1.930572e+09   2020-02-27           2020-02-26             2020-02-27   \n",
       "2     1.930757e+09   2020-04-07           2020-04-07             2020-04-07   \n",
       "3     1.930777e+09   2020-04-13           2020-04-11             2020-04-13   \n",
       "4     1.930691e+09   2020-03-25           2020-03-24             2020-03-25   \n",
       "...            ...          ...                  ...                    ...   \n",
       "9995  1.930788e+09   2020-04-17           2020-04-14             2020-04-17   \n",
       "9996  1.930686e+09   2020-03-23           2020-03-22             2020-03-23   \n",
       "9997  2.960626e+09   2020-04-01           2020-04-01             2020-04-01   \n",
       "9998  1.930873e+09   2020-05-07           2020-05-07             2020-05-07   \n",
       "9999  1.930638e+09   2020-03-12           2020-03-11             2020-03-12   \n",
       "\n",
       "     due_in_date invoice_currency document type  posting_id  \\\n",
       "0     2020-04-04              USD            RV         1.0   \n",
       "1     2020-03-13              USD            RV         1.0   \n",
       "2     2020-04-22              USD            RV         1.0   \n",
       "3     2020-04-28              USD            RV         1.0   \n",
       "4     2020-04-09              USD            RV         1.0   \n",
       "...          ...              ...           ...         ...   \n",
       "9995  2020-06-21              USD            RV         1.0   \n",
       "9996  2020-04-07              USD            RV         1.0   \n",
       "9997  2020-04-11              CAD            RV         1.0   \n",
       "9998  2020-05-11              USD            RV         1.0   \n",
       "9999  2020-03-27              USD            RV         1.0   \n",
       "\n",
       "      total_open_amount baseline_create_date cust_payment_terms    invoice_id  \\\n",
       "0               4427.22           2020-03-20               NAAX  1.930671e+09   \n",
       "1                613.81           2020-02-27               NAA8  1.930572e+09   \n",
       "2              82568.88           2020-04-07               NAA8  1.930757e+09   \n",
       "3              51128.96           2020-04-13               NAA8  1.930777e+09   \n",
       "4               3330.01           2020-03-25               NAA8  1.930691e+09   \n",
       "...                 ...                  ...                ...           ...   \n",
       "9995           27417.60           2020-04-17               NAGD  1.930788e+09   \n",
       "9996           81859.78           2020-03-23               NAA8  1.930686e+09   \n",
       "9997           62156.26           2020-04-01               CA10  2.960626e+09   \n",
       "9998            4708.50           2020-05-01               NAM2  1.930873e+09   \n",
       "9999            1898.90           2020-03-12               NAH4  1.930638e+09   \n",
       "\n",
       "      isOpen  \n",
       "0          1  \n",
       "1          1  \n",
       "2          1  \n",
       "3          1  \n",
       "4          1  \n",
       "...      ...  \n",
       "9995       1  \n",
       "9996       1  \n",
       "9997       1  \n",
       "9998       1  \n",
       "9999       1  \n",
       "\n",
       "[10000 rows x 17 columns]"
      ]
     },
     "execution_count": 621,
     "metadata": {},
     "output_type": "execute_result"
    }
   ],
   "source": [
    "test"
   ]
  },
  {
   "cell_type": "code",
   "execution_count": 622,
   "id": "a0d8eb3c",
   "metadata": {},
   "outputs": [
    {
     "data": {
      "text/html": [
       "<div>\n",
       "<style scoped>\n",
       "    .dataframe tbody tr th:only-of-type {\n",
       "        vertical-align: middle;\n",
       "    }\n",
       "\n",
       "    .dataframe tbody tr th {\n",
       "        vertical-align: top;\n",
       "    }\n",
       "\n",
       "    .dataframe thead th {\n",
       "        text-align: right;\n",
       "    }\n",
       "</style>\n",
       "<table border=\"1\" class=\"dataframe\">\n",
       "  <thead>\n",
       "    <tr style=\"text-align: right;\">\n",
       "      <th></th>\n",
       "      <th>total_open_amount</th>\n",
       "      <th>due_term</th>\n",
       "      <th>cust_number_enc</th>\n",
       "      <th>business_code_enc</th>\n",
       "      <th>cust_payment_terms_enc</th>\n",
       "      <th>invoice_currency_enc</th>\n",
       "      <th>document_create_date.1.day</th>\n",
       "      <th>document_create_date.1.month</th>\n",
       "      <th>document_create_date.1.year</th>\n",
       "      <th>due_in_date.day</th>\n",
       "      <th>due_in_date.month</th>\n",
       "      <th>due_in_date.year</th>\n",
       "      <th>baseline_create_date.day</th>\n",
       "      <th>baseline_create_date.year</th>\n",
       "    </tr>\n",
       "  </thead>\n",
       "  <tbody>\n",
       "    <tr>\n",
       "      <th>8188</th>\n",
       "      <td>66257.10</td>\n",
       "      <td>10</td>\n",
       "      <td>175</td>\n",
       "      <td>0</td>\n",
       "      <td>3</td>\n",
       "      <td>0</td>\n",
       "      <td>27</td>\n",
       "      <td>2</td>\n",
       "      <td>2020</td>\n",
       "      <td>9</td>\n",
       "      <td>3</td>\n",
       "      <td>2020</td>\n",
       "      <td>28</td>\n",
       "      <td>2020</td>\n",
       "    </tr>\n",
       "    <tr>\n",
       "      <th>685</th>\n",
       "      <td>3899.71</td>\n",
       "      <td>15</td>\n",
       "      <td>405</td>\n",
       "      <td>1</td>\n",
       "      <td>29</td>\n",
       "      <td>1</td>\n",
       "      <td>27</td>\n",
       "      <td>2</td>\n",
       "      <td>2020</td>\n",
       "      <td>13</td>\n",
       "      <td>3</td>\n",
       "      <td>2020</td>\n",
       "      <td>27</td>\n",
       "      <td>2020</td>\n",
       "    </tr>\n",
       "    <tr>\n",
       "      <th>38198</th>\n",
       "      <td>29751.36</td>\n",
       "      <td>15</td>\n",
       "      <td>310</td>\n",
       "      <td>1</td>\n",
       "      <td>13</td>\n",
       "      <td>1</td>\n",
       "      <td>27</td>\n",
       "      <td>2</td>\n",
       "      <td>2020</td>\n",
       "      <td>13</td>\n",
       "      <td>3</td>\n",
       "      <td>2020</td>\n",
       "      <td>27</td>\n",
       "      <td>2020</td>\n",
       "    </tr>\n",
       "    <tr>\n",
       "      <th>9667</th>\n",
       "      <td>933.62</td>\n",
       "      <td>15</td>\n",
       "      <td>405</td>\n",
       "      <td>1</td>\n",
       "      <td>29</td>\n",
       "      <td>1</td>\n",
       "      <td>27</td>\n",
       "      <td>2</td>\n",
       "      <td>2020</td>\n",
       "      <td>13</td>\n",
       "      <td>3</td>\n",
       "      <td>2020</td>\n",
       "      <td>27</td>\n",
       "      <td>2020</td>\n",
       "    </tr>\n",
       "    <tr>\n",
       "      <th>10562</th>\n",
       "      <td>22902.19</td>\n",
       "      <td>20</td>\n",
       "      <td>305</td>\n",
       "      <td>1</td>\n",
       "      <td>23</td>\n",
       "      <td>1</td>\n",
       "      <td>27</td>\n",
       "      <td>2</td>\n",
       "      <td>2020</td>\n",
       "      <td>18</td>\n",
       "      <td>3</td>\n",
       "      <td>2020</td>\n",
       "      <td>27</td>\n",
       "      <td>2020</td>\n",
       "    </tr>\n",
       "    <tr>\n",
       "      <th>...</th>\n",
       "      <td>...</td>\n",
       "      <td>...</td>\n",
       "      <td>...</td>\n",
       "      <td>...</td>\n",
       "      <td>...</td>\n",
       "      <td>...</td>\n",
       "      <td>...</td>\n",
       "      <td>...</td>\n",
       "      <td>...</td>\n",
       "      <td>...</td>\n",
       "      <td>...</td>\n",
       "      <td>...</td>\n",
       "      <td>...</td>\n",
       "      <td>...</td>\n",
       "    </tr>\n",
       "    <tr>\n",
       "      <th>27757</th>\n",
       "      <td>194864.00</td>\n",
       "      <td>10</td>\n",
       "      <td>254</td>\n",
       "      <td>1</td>\n",
       "      <td>6</td>\n",
       "      <td>1</td>\n",
       "      <td>19</td>\n",
       "      <td>5</td>\n",
       "      <td>2020</td>\n",
       "      <td>29</td>\n",
       "      <td>5</td>\n",
       "      <td>2020</td>\n",
       "      <td>19</td>\n",
       "      <td>2020</td>\n",
       "    </tr>\n",
       "    <tr>\n",
       "      <th>38468</th>\n",
       "      <td>1373.60</td>\n",
       "      <td>10</td>\n",
       "      <td>163</td>\n",
       "      <td>0</td>\n",
       "      <td>3</td>\n",
       "      <td>0</td>\n",
       "      <td>19</td>\n",
       "      <td>5</td>\n",
       "      <td>2020</td>\n",
       "      <td>29</td>\n",
       "      <td>5</td>\n",
       "      <td>2020</td>\n",
       "      <td>19</td>\n",
       "      <td>2020</td>\n",
       "    </tr>\n",
       "    <tr>\n",
       "      <th>5655</th>\n",
       "      <td>50023.54</td>\n",
       "      <td>30</td>\n",
       "      <td>53</td>\n",
       "      <td>4</td>\n",
       "      <td>39</td>\n",
       "      <td>1</td>\n",
       "      <td>20</td>\n",
       "      <td>5</td>\n",
       "      <td>2020</td>\n",
       "      <td>19</td>\n",
       "      <td>6</td>\n",
       "      <td>2020</td>\n",
       "      <td>20</td>\n",
       "      <td>2020</td>\n",
       "    </tr>\n",
       "    <tr>\n",
       "      <th>15060</th>\n",
       "      <td>16.76</td>\n",
       "      <td>30</td>\n",
       "      <td>380</td>\n",
       "      <td>1</td>\n",
       "      <td>25</td>\n",
       "      <td>1</td>\n",
       "      <td>21</td>\n",
       "      <td>5</td>\n",
       "      <td>2020</td>\n",
       "      <td>20</td>\n",
       "      <td>6</td>\n",
       "      <td>2020</td>\n",
       "      <td>21</td>\n",
       "      <td>2020</td>\n",
       "    </tr>\n",
       "    <tr>\n",
       "      <th>35306</th>\n",
       "      <td>1.17</td>\n",
       "      <td>30</td>\n",
       "      <td>380</td>\n",
       "      <td>1</td>\n",
       "      <td>25</td>\n",
       "      <td>1</td>\n",
       "      <td>22</td>\n",
       "      <td>5</td>\n",
       "      <td>2020</td>\n",
       "      <td>21</td>\n",
       "      <td>6</td>\n",
       "      <td>2020</td>\n",
       "      <td>22</td>\n",
       "      <td>2020</td>\n",
       "    </tr>\n",
       "  </tbody>\n",
       "</table>\n",
       "<p>10000 rows × 14 columns</p>\n",
       "</div>"
      ],
      "text/plain": [
       "       total_open_amount  due_term  cust_number_enc  business_code_enc  \\\n",
       "8188            66257.10        10              175                  0   \n",
       "685              3899.71        15              405                  1   \n",
       "38198           29751.36        15              310                  1   \n",
       "9667              933.62        15              405                  1   \n",
       "10562           22902.19        20              305                  1   \n",
       "...                  ...       ...              ...                ...   \n",
       "27757          194864.00        10              254                  1   \n",
       "38468            1373.60        10              163                  0   \n",
       "5655            50023.54        30               53                  4   \n",
       "15060              16.76        30              380                  1   \n",
       "35306               1.17        30              380                  1   \n",
       "\n",
       "       cust_payment_terms_enc  invoice_currency_enc  \\\n",
       "8188                        3                     0   \n",
       "685                        29                     1   \n",
       "38198                      13                     1   \n",
       "9667                       29                     1   \n",
       "10562                      23                     1   \n",
       "...                       ...                   ...   \n",
       "27757                       6                     1   \n",
       "38468                       3                     0   \n",
       "5655                       39                     1   \n",
       "15060                      25                     1   \n",
       "35306                      25                     1   \n",
       "\n",
       "       document_create_date.1.day  document_create_date.1.month  \\\n",
       "8188                           27                             2   \n",
       "685                            27                             2   \n",
       "38198                          27                             2   \n",
       "9667                           27                             2   \n",
       "10562                          27                             2   \n",
       "...                           ...                           ...   \n",
       "27757                          19                             5   \n",
       "38468                          19                             5   \n",
       "5655                           20                             5   \n",
       "15060                          21                             5   \n",
       "35306                          22                             5   \n",
       "\n",
       "       document_create_date.1.year  due_in_date.day  due_in_date.month  \\\n",
       "8188                          2020                9                  3   \n",
       "685                           2020               13                  3   \n",
       "38198                         2020               13                  3   \n",
       "9667                          2020               13                  3   \n",
       "10562                         2020               18                  3   \n",
       "...                            ...              ...                ...   \n",
       "27757                         2020               29                  5   \n",
       "38468                         2020               29                  5   \n",
       "5655                          2020               19                  6   \n",
       "15060                         2020               20                  6   \n",
       "35306                         2020               21                  6   \n",
       "\n",
       "       due_in_date.year  baseline_create_date.day  baseline_create_date.year  \n",
       "8188               2020                        28                       2020  \n",
       "685                2020                        27                       2020  \n",
       "38198              2020                        27                       2020  \n",
       "9667               2020                        27                       2020  \n",
       "10562              2020                        27                       2020  \n",
       "...                 ...                       ...                        ...  \n",
       "27757              2020                        19                       2020  \n",
       "38468              2020                        19                       2020  \n",
       "5655               2020                        20                       2020  \n",
       "15060              2020                        21                       2020  \n",
       "35306              2020                        22                       2020  \n",
       "\n",
       "[10000 rows x 14 columns]"
      ]
     },
     "execution_count": 622,
     "metadata": {},
     "output_type": "execute_result"
    }
   ],
   "source": [
    "X_main_test"
   ]
  },
  {
   "cell_type": "code",
   "execution_count": 623,
   "id": "d6e6b4e7",
   "metadata": {},
   "outputs": [],
   "source": [
    "#Final.to_csv(r'D:\\PDPredictor\\Final.csv')"
   ]
  },
  {
   "cell_type": "markdown",
   "id": "9353d1a9",
   "metadata": {},
   "source": [
    "###         The Final dataset with the delay, bucket value and clear date with predicted value from Ml Model"
   ]
  }
 ],
 "metadata": {
  "kernelspec": {
   "display_name": "Python 3",
   "language": "python",
   "name": "python3"
  },
  "language_info": {
   "codemirror_mode": {
    "name": "ipython",
    "version": 3
   },
   "file_extension": ".py",
   "mimetype": "text/x-python",
   "name": "python",
   "nbconvert_exporter": "python",
   "pygments_lexer": "ipython3",
   "version": "3.7.7"
  }
 },
 "nbformat": 4,
 "nbformat_minor": 5
}
